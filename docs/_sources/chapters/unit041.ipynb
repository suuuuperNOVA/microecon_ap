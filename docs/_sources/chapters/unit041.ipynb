{
 "cells": [
  {
   "cell_type": "markdown",
   "id": "ea6e652d-644e-4886-8113-6f35f50ac2b4",
   "metadata": {},
   "source": [
    "# Introduction to Imperfectly Competitive Markets"
   ]
  },
  {
   "cell_type": "markdown",
   "id": "942d3bb7-07a5-4181-9125-77fdcc6c4e75",
   "metadata": {},
   "source": [
    "```{admonition} Perfect vs. Imperfect Competition\n",
    "\n",
    "- Perfectly competitive firms are **price takers**, so the demand curve is constant and equal to MR.\n",
    "- Imperfectly competitive firms have downward sloping demand curves.\n",
    "    - MR is **not** equal to the demand!!!\n",
    "    - Firms must lower price to sell additional units.\n",
    "```\n",
    "\n",
    "> The table below shows the demand and marginal revenue curves in an imperfectly competitive market."
   ]
  },
  {
   "cell_type": "markdown",
   "id": "2c119f6c-9aae-468b-b24e-9029995f1aa6",
   "metadata": {},
   "source": [
    "|P(\\$)|Qd|TR(\\$)|MR(\\$)|\n",
    "|---|---|---|---|\n",
    "|6|0|0|-|\n",
    "|5|1|5|5|\n",
    "|4|2|8|3|\n",
    "|3|3|9|1|\n",
    "|2|4|8|-1|\n",
    "|1|5|5|-3|"
   ]
  },
  {
   "cell_type": "markdown",
   "id": "870b2971-7018-4980-aee2-1d93b19ca5d0",
   "metadata": {},
   "source": [
    "In an imperfectly competitive market,\n",
    "- Firms must lower price to sell additional units, so MR is below D.\n",
    "- PED of points along the demand curve are different\n",
    "    - Point of MR = 0 is unit elastic;\n",
    "    - Points above unit elasticity are more elastic;\n",
    "    - Points below unit elasticity are more inelastic.\n",
    "- Firms only produce at elastic points because the total revenue reduces."
   ]
  },
  {
   "cell_type": "code",
   "execution_count": 8,
   "id": "e3ce3137-064d-42f7-bfdc-09d5d8004f19",
   "metadata": {
    "jupyter": {
     "source_hidden": true
    },
    "tags": [
     "remove-input"
    ]
   },
   "outputs": [],
   "source": [
    "import pandas as pd\n",
    "import altair as alt"
   ]
  },
  {
   "cell_type": "code",
   "execution_count": 46,
   "id": "4581bb83-90df-42ea-827b-6459312d60a9",
   "metadata": {
    "jupyter": {
     "source_hidden": true
    },
    "tags": [
     "remove-input"
    ]
   },
   "outputs": [
    {
     "data": {
      "text/html": [
       "\n",
       "<div id=\"altair-viz-95fbc4aa865c43e4b46dc20397cb2209\"></div>\n",
       "<script type=\"text/javascript\">\n",
       "  (function(spec, embedOpt){\n",
       "    let outputDiv = document.currentScript.previousElementSibling;\n",
       "    if (outputDiv.id !== \"altair-viz-95fbc4aa865c43e4b46dc20397cb2209\") {\n",
       "      outputDiv = document.getElementById(\"altair-viz-95fbc4aa865c43e4b46dc20397cb2209\");\n",
       "    }\n",
       "    const paths = {\n",
       "      \"vega\": \"https://cdn.jsdelivr.net/npm//vega@5?noext\",\n",
       "      \"vega-lib\": \"https://cdn.jsdelivr.net/npm//vega-lib?noext\",\n",
       "      \"vega-lite\": \"https://cdn.jsdelivr.net/npm//vega-lite@4.8.1?noext\",\n",
       "      \"vega-embed\": \"https://cdn.jsdelivr.net/npm//vega-embed@6?noext\",\n",
       "    };\n",
       "\n",
       "    function loadScript(lib) {\n",
       "      return new Promise(function(resolve, reject) {\n",
       "        var s = document.createElement('script');\n",
       "        s.src = paths[lib];\n",
       "        s.async = true;\n",
       "        s.onload = () => resolve(paths[lib]);\n",
       "        s.onerror = () => reject(`Error loading script: ${paths[lib]}`);\n",
       "        document.getElementsByTagName(\"head\")[0].appendChild(s);\n",
       "      });\n",
       "    }\n",
       "\n",
       "    function showError(err) {\n",
       "      outputDiv.innerHTML = `<div class=\"error\" style=\"color:red;\">${err}</div>`;\n",
       "      throw err;\n",
       "    }\n",
       "\n",
       "    function displayChart(vegaEmbed) {\n",
       "      vegaEmbed(outputDiv, spec, embedOpt)\n",
       "        .catch(err => showError(`Javascript Error: ${err.message}<br>This usually means there's a typo in your chart specification. See the javascript console for the full traceback.`));\n",
       "    }\n",
       "\n",
       "    if(typeof define === \"function\" && define.amd) {\n",
       "      requirejs.config({paths});\n",
       "      require([\"vega-embed\"], displayChart, err => showError(`Error loading script: ${err.message}`));\n",
       "    } else if (typeof vegaEmbed === \"function\") {\n",
       "      displayChart(vegaEmbed);\n",
       "    } else {\n",
       "      loadScript(\"vega\")\n",
       "        .then(() => loadScript(\"vega-lite\"))\n",
       "        .then(() => loadScript(\"vega-embed\"))\n",
       "        .catch(showError)\n",
       "        .then(() => displayChart(vegaEmbed));\n",
       "    }\n",
       "  })({\"config\": {\"view\": {\"continuousWidth\": 400, \"continuousHeight\": 300}}, \"vconcat\": [{\"layer\": [{\"mark\": {\"type\": \"line\", \"point\": {\"fill\": \"white\", \"filled\": false}}, \"encoding\": {\"x\": {\"type\": \"quantitative\", \"axis\": {\"offset\": -120, \"tickMinStep\": 1}, \"field\": \"q\", \"scale\": {\"domain\": [0, 6]}, \"title\": \"Q\"}, \"y\": {\"type\": \"quantitative\", \"field\": \"p\", \"scale\": {\"domain\": [0, 6]}, \"title\": \"P\"}}, \"title\": \"Demand and Marginal Revenue of Imperfect Competition\"}, {\"mark\": {\"type\": \"line\", \"color\": \"green\", \"point\": {\"color\": \"green\", \"fill\": \"white\", \"filled\": false}}, \"encoding\": {\"x\": {\"type\": \"quantitative\", \"field\": \"q\", \"scale\": {\"domain\": [0, 6]}, \"title\": \"Q\"}, \"y\": {\"type\": \"quantitative\", \"field\": \"mr\", \"scale\": {\"domain\": [-4, 6]}, \"title\": \"P\"}}}, {\"data\": {\"name\": \"data-36693165c6c001bd2b6641bb09eda8b0\"}, \"mark\": {\"type\": \"text\", \"fontSize\": 15, \"text\": \"D\"}, \"encoding\": {\"x\": {\"type\": \"quantitative\", \"field\": \"x\"}, \"y\": {\"type\": \"quantitative\", \"field\": \"y\"}}}, {\"data\": {\"name\": \"data-2b442a3836f11a3e6e943fec2282a8c9\"}, \"mark\": {\"type\": \"text\", \"fontSize\": 15, \"text\": \"MR\"}, \"encoding\": {\"x\": {\"type\": \"quantitative\", \"field\": \"x\"}, \"y\": {\"type\": \"quantitative\", \"field\": \"y\"}}}]}, {\"mark\": {\"type\": \"line\", \"point\": {\"fill\": \"white\", \"filled\": false}}, \"encoding\": {\"x\": {\"type\": \"quantitative\", \"axis\": {\"tickMinStep\": 1}, \"field\": \"q\", \"scale\": {\"domain\": [0, 6]}, \"title\": \"Q\"}, \"y\": {\"type\": \"quantitative\", \"field\": \"tr\", \"scale\": {\"domain\": [5, 9]}, \"title\": \"Total Revenue\"}}, \"title\": \"Total Revenue of Imperfect Competition\"}], \"data\": {\"name\": \"data-9d03c3b9acb15db1b0e52cd556311d70\"}, \"$schema\": \"https://vega.github.io/schema/vega-lite/v4.8.1.json\", \"datasets\": {\"data-9d03c3b9acb15db1b0e52cd556311d70\": [{\"p\": 5, \"q\": 1, \"mr\": 5, \"tr\": 5}, {\"p\": 4, \"q\": 2, \"mr\": 3, \"tr\": 8}, {\"p\": 3, \"q\": 3, \"mr\": 1, \"tr\": 9}, {\"p\": 2, \"q\": 4, \"mr\": -1, \"tr\": 8}, {\"p\": 1, \"q\": 5, \"mr\": -3, \"tr\": 5}], \"data-36693165c6c001bd2b6641bb09eda8b0\": [{\"x\": 5.2, \"y\": 1}], \"data-2b442a3836f11a3e6e943fec2282a8c9\": [{\"x\": 5.3, \"y\": -3}]}}, {\"mode\": \"vega-lite\"});\n",
       "</script>"
      ],
      "text/plain": [
       "alt.VConcatChart(...)"
      ]
     },
     "execution_count": 46,
     "metadata": {},
     "output_type": "execute_result"
    }
   ],
   "source": [
    "df = pd.DataFrame(data={'p': list(range(5,0,-1)),\n",
    "                        'q': list(range(1,6)),\n",
    "                        'mr':[5, 3, 1, -1, -3],\n",
    "                        'tr': [5, 8, 9, 8, 5]})\n",
    "\n",
    "fig1 = alt.Chart(df).mark_line(point=alt.OverlayMarkDef(filled=False, fill='white')).encode(\n",
    "    alt.X('q', title='Q', scale=alt.Scale(domain=[0,6]), axis=alt.Axis(tickMinStep=1, offset=-120)),\n",
    "    alt.Y('p', title='P', scale=alt.Scale(domain=[0,6])),\n",
    ").properties(title='Demand and Marginal Revenue of Imperfect Competition')\n",
    "\n",
    "fig2 = alt.Chart(df).mark_line(point=alt.OverlayMarkDef(filled=False, fill='white', color='green'), color='green').encode(\n",
    "    alt.X('q', title='Q', scale=alt.Scale(domain=[0,6])),\n",
    "    alt.Y('mr', title='P', scale=alt.Scale(domain=[-4,6])),\n",
    ")\n",
    "\n",
    "text1 = alt.Chart({'values':[{'x': 5.2, 'y': 1}]}).mark_text(\n",
    "    text='D',\n",
    "    fontSize=15\n",
    ").encode(x='x:Q', y='y:Q')\n",
    "\n",
    "text2 = alt.Chart({'values':[{'x': 5.3, 'y': -3}]}).mark_text(\n",
    "    text='MR',\n",
    "    fontSize=15\n",
    ").encode(x='x:Q', y='y:Q')\n",
    "\n",
    "fig_mr = fig1 + fig2 + text1 + text2\n",
    "\n",
    "\n",
    "fig3 = alt.Chart(df).mark_line(point=alt.OverlayMarkDef(filled=False, fill='white')).encode(\n",
    "    alt.X('q', title='Q', scale=alt.Scale(domain=[0,6]), axis=alt.Axis(tickMinStep=1)),\n",
    "    alt.Y('tr', title='Total Revenue', scale=alt.Scale(domain=[5,9])),\n",
    ").properties(title='Total Revenue of Imperfect Competition')\n",
    "fig_mr&fig3"
   ]
  }
 ],
 "metadata": {
  "kernelspec": {
   "display_name": "Python 3 (ipykernel)",
   "language": "python",
   "name": "python3"
  },
  "language_info": {
   "codemirror_mode": {
    "name": "ipython",
    "version": 3
   },
   "file_extension": ".py",
   "mimetype": "text/x-python",
   "name": "python",
   "nbconvert_exporter": "python",
   "pygments_lexer": "ipython3",
   "version": "3.8.13"
  }
 },
 "nbformat": 4,
 "nbformat_minor": 5
}
