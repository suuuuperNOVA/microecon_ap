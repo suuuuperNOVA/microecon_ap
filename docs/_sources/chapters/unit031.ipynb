{
 "cells": [
  {
   "cell_type": "markdown",
   "id": "3f02f35c-8f8e-4ccb-8d02-e005a053e0fc",
   "metadata": {},
   "source": [
    "# The Production Function"
   ]
  }
 ],
 "metadata": {
  "kernelspec": {
   "display_name": "Python 3 (ipykernel)",
   "language": "python",
   "name": "python3"
  },
  "language_info": {
   "codemirror_mode": {
    "name": "ipython",
    "version": 3
   },
   "file_extension": ".py",
   "mimetype": "text/x-python",
   "name": "python",
   "nbconvert_exporter": "python",
   "pygments_lexer": "ipython3",
   "version": "3.8.13"
  }
 },
 "nbformat": 4,
 "nbformat_minor": 5
}
