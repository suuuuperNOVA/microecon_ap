{
 "cells": [
  {
   "cell_type": "markdown",
   "id": "3ecc8fcc-4852-43ca-a06f-36a23b435a19",
   "metadata": {},
   "source": [
    "# Types of Profit"
   ]
  },
  {
   "cell_type": "markdown",
   "id": "f7113f2b-873a-46f1-8ef9-3d1ef16ebcd2",
   "metadata": {},
   "source": [
    "There are 2 types of profit, **accounting profit** and **economic profit**.<br>\n",
    "\n",
    "Accounting profit\n",
    ": Business's total revenue minus the explicit cost and depreciation.<br><br>\n",
    "\n",
    "Economic profit\n",
    ": Buiness’s total revenue minus the opportunity cost of its resources.\n",
    ": Opportunity Cost = Explicit Cost + Implicit Cost\n",
    ": Usually, accounting profit > economic profit<br><br>\n",
    ": When the **economic profit is positive**, the business owner could be better off financially if he/she continued to operate the business.<br><br>\n",
    ": When the **economic profit is negative** , the business owner could be better off financially if he/she closed the business and devoted his/her time and capital to something else. It means there is a better alternative use for resources.<br><br>"
   ]
  },
  {
   "cell_type": "markdown",
   "id": "23a2a286-ca30-4353-a188-37164d6f5b99",
   "metadata": {},
   "source": [
    "Normal profit\n",
    ": When economic profit = 0.\n",
    ": The firm cannot do any better using its resources in any alternative activity."
   ]
  }
 ],
 "metadata": {
  "kernelspec": {
   "display_name": "Python 3 (ipykernel)",
   "language": "python",
   "name": "python3"
  },
  "language_info": {
   "codemirror_mode": {
    "name": "ipython",
    "version": 3
   },
   "file_extension": ".py",
   "mimetype": "text/x-python",
   "name": "python",
   "nbconvert_exporter": "python",
   "pygments_lexer": "ipython3",
   "version": "3.8.13"
  }
 },
 "nbformat": 4,
 "nbformat_minor": 5
}
