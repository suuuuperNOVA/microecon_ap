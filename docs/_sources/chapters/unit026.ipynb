{
 "cells": [
  {
   "cell_type": "markdown",
   "id": "05f56106-1eab-46ec-9b60-6005d9ee38c6",
   "metadata": {},
   "source": [
    "# Market Equilibrium and Consumer and Producer Surplus"
   ]
  },
  {
   "cell_type": "markdown",
   "id": "2b4d9bcf-2399-4e47-8648-570ce158cf79",
   "metadata": {},
   "source": [
    "> In previous sections, we have seen the demand curve and supply curve individually. Now, we are ready to put them together."
   ]
  },
  {
   "cell_type": "markdown",
   "id": "79d49a9c-940e-428e-8996-20cee3b3ddbc",
   "metadata": {},
   "source": [
    "## Market Equilibrium\n",
    "\n",
    "Market equilibrium\n",
    ": A state where the supply of good matches demand.\n",
    ": The intersection point E is the market equilibrium in the figure below<br><br>\n",
    "\n",
    "Equilibrium price\n",
    ": The quantity of the good bought and sold in equilibrium.\n",
    ": <math xmlns=\"http://www.w3.org/1998/Math/MathML\">\n",
    "  <msub>\n",
    "    <mi>Q</mi>\n",
    "    <mrow class=\"MJX-TeXAtom-ORD\">\n",
    "      <mi>E</mi>\n",
    "      <mi>q</mi>\n",
    "    </mrow>\n",
    "  </msub>\n",
    "  <mo>=</mo>\n",
    "  <msub>\n",
    "    <mi>Q</mi>\n",
    "    <mrow class=\"MJX-TeXAtom-ORD\">\n",
    "      <mi>D</mi>\n",
    "    </mrow>\n",
    "  </msub>\n",
    "  <mo>=</mo>\n",
    "  <msub>\n",
    "    <mi>Q</mi>\n",
    "    <mrow class=\"MJX-TeXAtom-ORD\">\n",
    "      <mi>S</mi>\n",
    "    </mrow>\n",
    "  </msub>\n",
    "</math>\n",
    "\n",
    "Equilibrium price\n",
    ": The price of the good bought and sold in equilibrium.\n",
    ": Equilibrium price provides information to economic decision-makers to guide resource allocation."
   ]
  },
  {
   "cell_type": "code",
   "execution_count": 2,
   "id": "00cb1447-bdaf-41d5-b237-5b0aeea574bd",
   "metadata": {
    "tags": [
     "remove-input"
    ]
   },
   "outputs": [],
   "source": [
    "import pandas as pd\n",
    "import altair as alt"
   ]
  },
  {
   "cell_type": "code",
   "execution_count": 3,
   "id": "4a5a5147-e4e8-4b3e-b195-9a442c278f0a",
   "metadata": {
    "tags": [
     "remove-input"
    ]
   },
   "outputs": [
    {
     "data": {
      "text/html": [
       "\n",
       "<div id=\"altair-viz-59d05abf09464e04a52a882d12842a19\"></div>\n",
       "<script type=\"text/javascript\">\n",
       "  (function(spec, embedOpt){\n",
       "    let outputDiv = document.currentScript.previousElementSibling;\n",
       "    if (outputDiv.id !== \"altair-viz-59d05abf09464e04a52a882d12842a19\") {\n",
       "      outputDiv = document.getElementById(\"altair-viz-59d05abf09464e04a52a882d12842a19\");\n",
       "    }\n",
       "    const paths = {\n",
       "      \"vega\": \"https://cdn.jsdelivr.net/npm//vega@5?noext\",\n",
       "      \"vega-lib\": \"https://cdn.jsdelivr.net/npm//vega-lib?noext\",\n",
       "      \"vega-lite\": \"https://cdn.jsdelivr.net/npm//vega-lite@4.8.1?noext\",\n",
       "      \"vega-embed\": \"https://cdn.jsdelivr.net/npm//vega-embed@6?noext\",\n",
       "    };\n",
       "\n",
       "    function loadScript(lib) {\n",
       "      return new Promise(function(resolve, reject) {\n",
       "        var s = document.createElement('script');\n",
       "        s.src = paths[lib];\n",
       "        s.async = true;\n",
       "        s.onload = () => resolve(paths[lib]);\n",
       "        s.onerror = () => reject(`Error loading script: ${paths[lib]}`);\n",
       "        document.getElementsByTagName(\"head\")[0].appendChild(s);\n",
       "      });\n",
       "    }\n",
       "\n",
       "    function showError(err) {\n",
       "      outputDiv.innerHTML = `<div class=\"error\" style=\"color:red;\">${err}</div>`;\n",
       "      throw err;\n",
       "    }\n",
       "\n",
       "    function displayChart(vegaEmbed) {\n",
       "      vegaEmbed(outputDiv, spec, embedOpt)\n",
       "        .catch(err => showError(`Javascript Error: ${err.message}<br>This usually means there's a typo in your chart specification. See the javascript console for the full traceback.`));\n",
       "    }\n",
       "\n",
       "    if(typeof define === \"function\" && define.amd) {\n",
       "      requirejs.config({paths});\n",
       "      require([\"vega-embed\"], displayChart, err => showError(`Error loading script: ${err.message}`));\n",
       "    } else if (typeof vegaEmbed === \"function\") {\n",
       "      displayChart(vegaEmbed);\n",
       "    } else {\n",
       "      loadScript(\"vega\")\n",
       "        .then(() => loadScript(\"vega-lite\"))\n",
       "        .then(() => loadScript(\"vega-embed\"))\n",
       "        .catch(showError)\n",
       "        .then(() => displayChart(vegaEmbed));\n",
       "    }\n",
       "  })({\"config\": {\"view\": {\"continuousWidth\": 400, \"continuousHeight\": 300}}, \"layer\": [{\"data\": {\"name\": \"data-b52e021a0734944d4e2e38e1163d0639\"}, \"mark\": \"line\", \"encoding\": {\"x\": {\"type\": \"quantitative\", \"field\": \"qd\", \"scale\": {\"domain\": [0, 10]}, \"title\": \"Quantity\"}, \"y\": {\"type\": \"quantitative\", \"field\": \"price\", \"scale\": {\"domain\": [0, 11]}, \"title\": \"Price\"}}}, {\"data\": {\"name\": \"data-f4791e6d2c5433b743c328a8f6f72260\"}, \"mark\": \"line\", \"encoding\": {\"x\": {\"type\": \"quantitative\", \"field\": \"qs\", \"scale\": {\"domain\": [0, 10]}, \"title\": \"Quantity\"}, \"y\": {\"type\": \"quantitative\", \"field\": \"price\", \"scale\": {\"domain\": [0, 11]}, \"title\": \"Price\"}}}, {\"data\": {\"name\": \"data-d399b823e5ed27652ccca1b73313cabb\"}, \"mark\": {\"type\": \"point\", \"color\": \"black\", \"fill\": \"black\", \"size\": 90}, \"encoding\": {\"x\": {\"type\": \"quantitative\", \"field\": \"q\"}, \"y\": {\"type\": \"quantitative\", \"field\": \"price\"}}}, {\"data\": {\"name\": \"data-411b058143eb0c76546a59e0f2efbb64\"}, \"mark\": {\"type\": \"text\", \"fontSize\": 15, \"text\": \"D\"}, \"encoding\": {\"x\": {\"type\": \"quantitative\", \"field\": \"x\"}, \"y\": {\"type\": \"quantitative\", \"field\": \"y\"}}}, {\"data\": {\"name\": \"data-78eb422e47dc010e08ec7870329a9a72\"}, \"mark\": {\"type\": \"text\", \"fontSize\": 15, \"text\": \"S\"}, \"encoding\": {\"x\": {\"type\": \"quantitative\", \"field\": \"x\"}, \"y\": {\"type\": \"quantitative\", \"field\": \"y\"}}}, {\"data\": {\"name\": \"data-7e100178d0b30ff53f5f746e95732883\"}, \"mark\": {\"type\": \"text\", \"fontSize\": 15, \"text\": \"E\"}, \"encoding\": {\"x\": {\"type\": \"quantitative\", \"field\": \"x\"}, \"y\": {\"type\": \"quantitative\", \"field\": \"y\"}}}, {\"data\": {\"name\": \"data-69798f96eb95f743177ddc215c0c7d3f\"}, \"mark\": {\"type\": \"line\", \"color\": \"black\", \"strokeDash\": [4, 2]}, \"encoding\": {\"x\": {\"type\": \"quantitative\", \"field\": \"q\"}, \"y\": {\"type\": \"quantitative\", \"field\": \"price\"}}}, {\"data\": {\"name\": \"data-8d3f29c45f05094ed9e8a75ee292382f\"}, \"mark\": {\"type\": \"line\", \"color\": \"black\", \"strokeDash\": [4, 2]}, \"encoding\": {\"x\": {\"type\": \"quantitative\", \"field\": \"q\"}, \"y\": {\"type\": \"quantitative\", \"field\": \"price\"}}}], \"title\": \"Market Equilibrium\", \"$schema\": \"https://vega.github.io/schema/vega-lite/v4.8.1.json\", \"datasets\": {\"data-b52e021a0734944d4e2e38e1163d0639\": [{\"price\": 1, \"qd\": 9}, {\"price\": 2, \"qd\": 8}, {\"price\": 3, \"qd\": 7}, {\"price\": 4, \"qd\": 6}, {\"price\": 5, \"qd\": 5}, {\"price\": 6, \"qd\": 4}, {\"price\": 7, \"qd\": 3}, {\"price\": 8, \"qd\": 2}, {\"price\": 9, \"qd\": 1}, {\"price\": 10, \"qd\": 0}], \"data-f4791e6d2c5433b743c328a8f6f72260\": [{\"price\": 1, \"qs\": 0}, {\"price\": 2, \"qs\": 1}, {\"price\": 3, \"qs\": 2}, {\"price\": 4, \"qs\": 3}, {\"price\": 5, \"qs\": 4}, {\"price\": 6, \"qs\": 5}, {\"price\": 7, \"qs\": 6}, {\"price\": 8, \"qs\": 7}, {\"price\": 9, \"qs\": 8}, {\"price\": 10, \"qs\": 9}], \"data-d399b823e5ed27652ccca1b73313cabb\": [{\"price\": 5.5, \"q\": 4.5}], \"data-411b058143eb0c76546a59e0f2efbb64\": [{\"x\": 9, \"y\": 1.5}], \"data-78eb422e47dc010e08ec7870329a9a72\": [{\"x\": 9, \"y\": 9.5}], \"data-7e100178d0b30ff53f5f746e95732883\": [{\"x\": 5, \"y\": 5.5}], \"data-69798f96eb95f743177ddc215c0c7d3f\": [{\"price\": 5.5, \"q\": 0.0}, {\"price\": 5.5, \"q\": 4.5}], \"data-8d3f29c45f05094ed9e8a75ee292382f\": [{\"price\": 0.0, \"q\": 4.5}, {\"price\": 5.5, \"q\": 4.5}]}}, {\"mode\": \"vega-lite\"});\n",
       "</script>"
      ],
      "text/plain": [
       "alt.LayerChart(...)"
      ]
     },
     "execution_count": 3,
     "metadata": {},
     "output_type": "execute_result"
    }
   ],
   "source": [
    "df_d = pd.DataFrame(data={'price': list(range(1, 11)),\n",
    "                        'qd': list(range(9,-1,-1))\n",
    "                       })\n",
    "\n",
    "df_s = pd.DataFrame(data={'price': list(range(1, 11)),\n",
    "                        'qs': list(range(0,10))\n",
    "                       })\n",
    "\n",
    "df_e = pd.DataFrame(data={'price': [5.5],\n",
    "                        'q': [4.5]\n",
    "                       })\n",
    "\n",
    "fig_eq = alt.Chart(df_d).mark_line().encode(\n",
    "    alt.X('qd', title='Quantity', scale=alt.Scale(domain=[0,10])),\n",
    "    alt.Y('price', title='Price', scale=alt.Scale(domain=[0,11])),\n",
    ") + alt.Chart(df_s).mark_line().encode(\n",
    "    alt.X('qs', title='Quantity', scale=alt.Scale(domain=[0,10])),\n",
    "    alt.Y('price', title='Price', scale=alt.Scale(domain=[0,11])),\n",
    ") + alt.Chart(df_e).mark_point(size=90, color='black', fill='black').encode(\n",
    "    x='q',\n",
    "    y='price'\n",
    ")\n",
    "\n",
    "text1 = alt.Chart({'values':[{'x': 9, 'y': 1.5}]}).mark_text(\n",
    "    text='D',\n",
    "    fontSize=15\n",
    ").encode(x='x:Q', y='y:Q')\n",
    "\n",
    "text2 = alt.Chart({'values':[{'x': 9, 'y': 9.5}]}).mark_text(\n",
    "    text='S',\n",
    "    fontSize=15\n",
    ").encode(x='x:Q', y='y:Q')\n",
    "\n",
    "text3 = alt.Chart({'values':[{'x': 5, 'y': 5.5}]}).mark_text(\n",
    "    text='E',\n",
    "    fontSize=15\n",
    ").encode(x='x:Q', y='y:Q')\n",
    "\n",
    "df_h1 = pd.DataFrame(data={'price': [5.5, 5.5], 'q': [0, 4.5]})\n",
    "fig_h1 = alt.Chart(df_h1).mark_line(color='black', strokeDash=[4, 2]).encode(\n",
    "    alt.X('q'),\n",
    "    alt.Y('price')\n",
    ")\n",
    "\n",
    "df_v1 = pd.DataFrame(data={'price': [0, 5.5], 'q': [4.5, 4.5]})\n",
    "fig_v1 = alt.Chart(df_v1).mark_line(color='black', strokeDash=[4, 2]).encode(\n",
    "    alt.X('q'),\n",
    "    alt.Y('price')\n",
    ")\n",
    "\n",
    "(fig_eq + text1 + text2 + text3 + fig_h1 + fig_v1).properties(title='Market Equilibrium')"
   ]
  },
  {
   "cell_type": "markdown",
   "id": "94879d1e-0bfb-44da-9a36-98755512d450",
   "metadata": {},
   "source": [
    "## Consumer Surplus\n",
    "\n",
    "Consumer surplus\n",
    ": Happens when the price that consumers pay for a product or service is less than the price they're willing to pay.<br><br>\n",
    ": It's a measure of the additional benefit that consumers receive because they're paying less for something than what they were willing to pay.<br><br>\n",
    ": The figure below show the consumer surplus which equals the area of CS."
   ]
  },
  {
   "cell_type": "code",
   "execution_count": 5,
   "id": "892eaab6-80d1-4b5b-8d31-e002f6f42cd7",
   "metadata": {
    "tags": [
     "remove-input"
    ]
   },
   "outputs": [
    {
     "data": {
      "text/html": [
       "\n",
       "<div id=\"altair-viz-c820ccfec8b640a08e6612f256e51df5\"></div>\n",
       "<script type=\"text/javascript\">\n",
       "  (function(spec, embedOpt){\n",
       "    let outputDiv = document.currentScript.previousElementSibling;\n",
       "    if (outputDiv.id !== \"altair-viz-c820ccfec8b640a08e6612f256e51df5\") {\n",
       "      outputDiv = document.getElementById(\"altair-viz-c820ccfec8b640a08e6612f256e51df5\");\n",
       "    }\n",
       "    const paths = {\n",
       "      \"vega\": \"https://cdn.jsdelivr.net/npm//vega@5?noext\",\n",
       "      \"vega-lib\": \"https://cdn.jsdelivr.net/npm//vega-lib?noext\",\n",
       "      \"vega-lite\": \"https://cdn.jsdelivr.net/npm//vega-lite@4.8.1?noext\",\n",
       "      \"vega-embed\": \"https://cdn.jsdelivr.net/npm//vega-embed@6?noext\",\n",
       "    };\n",
       "\n",
       "    function loadScript(lib) {\n",
       "      return new Promise(function(resolve, reject) {\n",
       "        var s = document.createElement('script');\n",
       "        s.src = paths[lib];\n",
       "        s.async = true;\n",
       "        s.onload = () => resolve(paths[lib]);\n",
       "        s.onerror = () => reject(`Error loading script: ${paths[lib]}`);\n",
       "        document.getElementsByTagName(\"head\")[0].appendChild(s);\n",
       "      });\n",
       "    }\n",
       "\n",
       "    function showError(err) {\n",
       "      outputDiv.innerHTML = `<div class=\"error\" style=\"color:red;\">${err}</div>`;\n",
       "      throw err;\n",
       "    }\n",
       "\n",
       "    function displayChart(vegaEmbed) {\n",
       "      vegaEmbed(outputDiv, spec, embedOpt)\n",
       "        .catch(err => showError(`Javascript Error: ${err.message}<br>This usually means there's a typo in your chart specification. See the javascript console for the full traceback.`));\n",
       "    }\n",
       "\n",
       "    if(typeof define === \"function\" && define.amd) {\n",
       "      requirejs.config({paths});\n",
       "      require([\"vega-embed\"], displayChart, err => showError(`Error loading script: ${err.message}`));\n",
       "    } else if (typeof vegaEmbed === \"function\") {\n",
       "      displayChart(vegaEmbed);\n",
       "    } else {\n",
       "      loadScript(\"vega\")\n",
       "        .then(() => loadScript(\"vega-lite\"))\n",
       "        .then(() => loadScript(\"vega-embed\"))\n",
       "        .catch(showError)\n",
       "        .then(() => displayChart(vegaEmbed));\n",
       "    }\n",
       "  })({\"config\": {\"view\": {\"continuousWidth\": 400, \"continuousHeight\": 300}}, \"layer\": [{\"data\": {\"name\": \"data-b52e021a0734944d4e2e38e1163d0639\"}, \"mark\": \"line\", \"encoding\": {\"x\": {\"type\": \"quantitative\", \"field\": \"qd\", \"scale\": {\"domain\": [0, 10]}, \"title\": \"Quantity\"}, \"y\": {\"type\": \"quantitative\", \"field\": \"price\", \"scale\": {\"domain\": [0, 11]}, \"title\": \"Price\"}}}, {\"data\": {\"name\": \"data-f4791e6d2c5433b743c328a8f6f72260\"}, \"mark\": \"line\", \"encoding\": {\"x\": {\"type\": \"quantitative\", \"field\": \"qs\", \"scale\": {\"domain\": [0, 10]}, \"title\": \"Quantity\"}, \"y\": {\"type\": \"quantitative\", \"field\": \"price\", \"scale\": {\"domain\": [0, 11]}, \"title\": \"Price\"}}}, {\"data\": {\"name\": \"data-d399b823e5ed27652ccca1b73313cabb\"}, \"mark\": {\"type\": \"point\", \"color\": \"black\", \"fill\": \"black\", \"size\": 90}, \"encoding\": {\"x\": {\"type\": \"quantitative\", \"field\": \"q\"}, \"y\": {\"type\": \"quantitative\", \"field\": \"price\"}}}, {\"data\": {\"name\": \"data-411b058143eb0c76546a59e0f2efbb64\"}, \"mark\": {\"type\": \"text\", \"fontSize\": 15, \"text\": \"D\"}, \"encoding\": {\"x\": {\"type\": \"quantitative\", \"field\": \"x\"}, \"y\": {\"type\": \"quantitative\", \"field\": \"y\"}}}, {\"data\": {\"name\": \"data-78eb422e47dc010e08ec7870329a9a72\"}, \"mark\": {\"type\": \"text\", \"fontSize\": 15, \"text\": \"S\"}, \"encoding\": {\"x\": {\"type\": \"quantitative\", \"field\": \"x\"}, \"y\": {\"type\": \"quantitative\", \"field\": \"y\"}}}, {\"data\": {\"name\": \"data-7e100178d0b30ff53f5f746e95732883\"}, \"mark\": {\"type\": \"text\", \"fontSize\": 15, \"text\": \"E\"}, \"encoding\": {\"x\": {\"type\": \"quantitative\", \"field\": \"x\"}, \"y\": {\"type\": \"quantitative\", \"field\": \"y\"}}}, {\"data\": {\"name\": \"data-69798f96eb95f743177ddc215c0c7d3f\"}, \"mark\": {\"type\": \"line\", \"color\": \"black\", \"strokeDash\": [4, 2]}, \"encoding\": {\"x\": {\"type\": \"quantitative\", \"field\": \"q\"}, \"y\": {\"type\": \"quantitative\", \"field\": \"price\"}}}, {\"data\": {\"name\": \"data-8d3f29c45f05094ed9e8a75ee292382f\"}, \"mark\": {\"type\": \"line\", \"color\": \"black\", \"strokeDash\": [4, 2]}, \"encoding\": {\"x\": {\"type\": \"quantitative\", \"field\": \"q\"}, \"y\": {\"type\": \"quantitative\", \"field\": \"price\"}}}, {\"data\": {\"name\": \"data-fa89a883a0141b394cf39fc6bff7760f\"}, \"mark\": {\"type\": \"text\", \"fontSize\": 15, \"text\": \"CS\"}, \"encoding\": {\"x\": {\"type\": \"quantitative\", \"field\": \"x\"}, \"y\": {\"type\": \"quantitative\", \"field\": \"y\"}}}], \"title\": \"Market Equilibrium\", \"$schema\": \"https://vega.github.io/schema/vega-lite/v4.8.1.json\", \"datasets\": {\"data-b52e021a0734944d4e2e38e1163d0639\": [{\"price\": 1, \"qd\": 9}, {\"price\": 2, \"qd\": 8}, {\"price\": 3, \"qd\": 7}, {\"price\": 4, \"qd\": 6}, {\"price\": 5, \"qd\": 5}, {\"price\": 6, \"qd\": 4}, {\"price\": 7, \"qd\": 3}, {\"price\": 8, \"qd\": 2}, {\"price\": 9, \"qd\": 1}, {\"price\": 10, \"qd\": 0}], \"data-f4791e6d2c5433b743c328a8f6f72260\": [{\"price\": 1, \"qs\": 0}, {\"price\": 2, \"qs\": 1}, {\"price\": 3, \"qs\": 2}, {\"price\": 4, \"qs\": 3}, {\"price\": 5, \"qs\": 4}, {\"price\": 6, \"qs\": 5}, {\"price\": 7, \"qs\": 6}, {\"price\": 8, \"qs\": 7}, {\"price\": 9, \"qs\": 8}, {\"price\": 10, \"qs\": 9}], \"data-d399b823e5ed27652ccca1b73313cabb\": [{\"price\": 5.5, \"q\": 4.5}], \"data-411b058143eb0c76546a59e0f2efbb64\": [{\"x\": 9, \"y\": 1.5}], \"data-78eb422e47dc010e08ec7870329a9a72\": [{\"x\": 9, \"y\": 9.5}], \"data-7e100178d0b30ff53f5f746e95732883\": [{\"x\": 5, \"y\": 5.5}], \"data-69798f96eb95f743177ddc215c0c7d3f\": [{\"price\": 5.5, \"q\": 0.0}, {\"price\": 5.5, \"q\": 4.5}], \"data-8d3f29c45f05094ed9e8a75ee292382f\": [{\"price\": 0.0, \"q\": 4.5}, {\"price\": 5.5, \"q\": 4.5}], \"data-fa89a883a0141b394cf39fc6bff7760f\": [{\"x\": 1, \"y\": 7}]}}, {\"mode\": \"vega-lite\"});\n",
       "</script>"
      ],
      "text/plain": [
       "alt.LayerChart(...)"
      ]
     },
     "execution_count": 5,
     "metadata": {},
     "output_type": "execute_result"
    }
   ],
   "source": [
    "fig2 = (fig_eq + text1 + text2 + text3 + fig_h1 + fig_v1).properties(title='Market Equilibrium')\n",
    "\n",
    "text4 = alt.Chart({'values':[{'x': 1, 'y': 7}]}).mark_text(\n",
    "    text='CS',\n",
    "    fontSize=15\n",
    ").encode(x='x:Q', y='y:Q')\n",
    "\n",
    "fig2 + text4"
   ]
  },
  {
   "cell_type": "markdown",
   "id": "547450e0-4652-4c86-903c-b6b92b55a18a",
   "metadata": {},
   "source": [
    "## Producer Surplus\n",
    "\n",
    "Producer surplus\n",
    ": Happens when the market price is greater than the prices they are willing to sell at.<br><br>\n",
    ": Difference between the price a seller receives and their willingness to sell for each quantity.<br><br>\n",
    ": The figure below show the producer surplus which equals the area of PS."
   ]
  },
  {
   "cell_type": "code",
   "execution_count": 6,
   "id": "b3f3762a-c6d1-4a1b-a610-8efd92ed7576",
   "metadata": {
    "tags": [
     "remove-input"
    ]
   },
   "outputs": [
    {
     "data": {
      "text/html": [
       "\n",
       "<div id=\"altair-viz-f395665cad2f446c9241fadaf871b7e0\"></div>\n",
       "<script type=\"text/javascript\">\n",
       "  (function(spec, embedOpt){\n",
       "    let outputDiv = document.currentScript.previousElementSibling;\n",
       "    if (outputDiv.id !== \"altair-viz-f395665cad2f446c9241fadaf871b7e0\") {\n",
       "      outputDiv = document.getElementById(\"altair-viz-f395665cad2f446c9241fadaf871b7e0\");\n",
       "    }\n",
       "    const paths = {\n",
       "      \"vega\": \"https://cdn.jsdelivr.net/npm//vega@5?noext\",\n",
       "      \"vega-lib\": \"https://cdn.jsdelivr.net/npm//vega-lib?noext\",\n",
       "      \"vega-lite\": \"https://cdn.jsdelivr.net/npm//vega-lite@4.8.1?noext\",\n",
       "      \"vega-embed\": \"https://cdn.jsdelivr.net/npm//vega-embed@6?noext\",\n",
       "    };\n",
       "\n",
       "    function loadScript(lib) {\n",
       "      return new Promise(function(resolve, reject) {\n",
       "        var s = document.createElement('script');\n",
       "        s.src = paths[lib];\n",
       "        s.async = true;\n",
       "        s.onload = () => resolve(paths[lib]);\n",
       "        s.onerror = () => reject(`Error loading script: ${paths[lib]}`);\n",
       "        document.getElementsByTagName(\"head\")[0].appendChild(s);\n",
       "      });\n",
       "    }\n",
       "\n",
       "    function showError(err) {\n",
       "      outputDiv.innerHTML = `<div class=\"error\" style=\"color:red;\">${err}</div>`;\n",
       "      throw err;\n",
       "    }\n",
       "\n",
       "    function displayChart(vegaEmbed) {\n",
       "      vegaEmbed(outputDiv, spec, embedOpt)\n",
       "        .catch(err => showError(`Javascript Error: ${err.message}<br>This usually means there's a typo in your chart specification. See the javascript console for the full traceback.`));\n",
       "    }\n",
       "\n",
       "    if(typeof define === \"function\" && define.amd) {\n",
       "      requirejs.config({paths});\n",
       "      require([\"vega-embed\"], displayChart, err => showError(`Error loading script: ${err.message}`));\n",
       "    } else if (typeof vegaEmbed === \"function\") {\n",
       "      displayChart(vegaEmbed);\n",
       "    } else {\n",
       "      loadScript(\"vega\")\n",
       "        .then(() => loadScript(\"vega-lite\"))\n",
       "        .then(() => loadScript(\"vega-embed\"))\n",
       "        .catch(showError)\n",
       "        .then(() => displayChart(vegaEmbed));\n",
       "    }\n",
       "  })({\"config\": {\"view\": {\"continuousWidth\": 400, \"continuousHeight\": 300}}, \"layer\": [{\"data\": {\"name\": \"data-b52e021a0734944d4e2e38e1163d0639\"}, \"mark\": \"line\", \"encoding\": {\"x\": {\"type\": \"quantitative\", \"field\": \"qd\", \"scale\": {\"domain\": [0, 10]}, \"title\": \"Quantity\"}, \"y\": {\"type\": \"quantitative\", \"field\": \"price\", \"scale\": {\"domain\": [0, 11]}, \"title\": \"Price\"}}}, {\"data\": {\"name\": \"data-f4791e6d2c5433b743c328a8f6f72260\"}, \"mark\": \"line\", \"encoding\": {\"x\": {\"type\": \"quantitative\", \"field\": \"qs\", \"scale\": {\"domain\": [0, 10]}, \"title\": \"Quantity\"}, \"y\": {\"type\": \"quantitative\", \"field\": \"price\", \"scale\": {\"domain\": [0, 11]}, \"title\": \"Price\"}}}, {\"data\": {\"name\": \"data-d399b823e5ed27652ccca1b73313cabb\"}, \"mark\": {\"type\": \"point\", \"color\": \"black\", \"fill\": \"black\", \"size\": 90}, \"encoding\": {\"x\": {\"type\": \"quantitative\", \"field\": \"q\"}, \"y\": {\"type\": \"quantitative\", \"field\": \"price\"}}}, {\"data\": {\"name\": \"data-411b058143eb0c76546a59e0f2efbb64\"}, \"mark\": {\"type\": \"text\", \"fontSize\": 15, \"text\": \"D\"}, \"encoding\": {\"x\": {\"type\": \"quantitative\", \"field\": \"x\"}, \"y\": {\"type\": \"quantitative\", \"field\": \"y\"}}}, {\"data\": {\"name\": \"data-78eb422e47dc010e08ec7870329a9a72\"}, \"mark\": {\"type\": \"text\", \"fontSize\": 15, \"text\": \"S\"}, \"encoding\": {\"x\": {\"type\": \"quantitative\", \"field\": \"x\"}, \"y\": {\"type\": \"quantitative\", \"field\": \"y\"}}}, {\"data\": {\"name\": \"data-7e100178d0b30ff53f5f746e95732883\"}, \"mark\": {\"type\": \"text\", \"fontSize\": 15, \"text\": \"E\"}, \"encoding\": {\"x\": {\"type\": \"quantitative\", \"field\": \"x\"}, \"y\": {\"type\": \"quantitative\", \"field\": \"y\"}}}, {\"data\": {\"name\": \"data-69798f96eb95f743177ddc215c0c7d3f\"}, \"mark\": {\"type\": \"line\", \"color\": \"black\", \"strokeDash\": [4, 2]}, \"encoding\": {\"x\": {\"type\": \"quantitative\", \"field\": \"q\"}, \"y\": {\"type\": \"quantitative\", \"field\": \"price\"}}}, {\"data\": {\"name\": \"data-8d3f29c45f05094ed9e8a75ee292382f\"}, \"mark\": {\"type\": \"line\", \"color\": \"black\", \"strokeDash\": [4, 2]}, \"encoding\": {\"x\": {\"type\": \"quantitative\", \"field\": \"q\"}, \"y\": {\"type\": \"quantitative\", \"field\": \"price\"}}}, {\"data\": {\"name\": \"data-fa89a883a0141b394cf39fc6bff7760f\"}, \"mark\": {\"type\": \"text\", \"fontSize\": 15, \"text\": \"CS\"}, \"encoding\": {\"x\": {\"type\": \"quantitative\", \"field\": \"x\"}, \"y\": {\"type\": \"quantitative\", \"field\": \"y\"}}}, {\"data\": {\"name\": \"data-72dd04cc6a780fcff871e575388a44b2\"}, \"mark\": {\"type\": \"text\", \"fontSize\": 15, \"text\": \"PS\"}, \"encoding\": {\"x\": {\"type\": \"quantitative\", \"field\": \"x\"}, \"y\": {\"type\": \"quantitative\", \"field\": \"y\"}}}], \"title\": \"Market Equilibrium\", \"$schema\": \"https://vega.github.io/schema/vega-lite/v4.8.1.json\", \"datasets\": {\"data-b52e021a0734944d4e2e38e1163d0639\": [{\"price\": 1, \"qd\": 9}, {\"price\": 2, \"qd\": 8}, {\"price\": 3, \"qd\": 7}, {\"price\": 4, \"qd\": 6}, {\"price\": 5, \"qd\": 5}, {\"price\": 6, \"qd\": 4}, {\"price\": 7, \"qd\": 3}, {\"price\": 8, \"qd\": 2}, {\"price\": 9, \"qd\": 1}, {\"price\": 10, \"qd\": 0}], \"data-f4791e6d2c5433b743c328a8f6f72260\": [{\"price\": 1, \"qs\": 0}, {\"price\": 2, \"qs\": 1}, {\"price\": 3, \"qs\": 2}, {\"price\": 4, \"qs\": 3}, {\"price\": 5, \"qs\": 4}, {\"price\": 6, \"qs\": 5}, {\"price\": 7, \"qs\": 6}, {\"price\": 8, \"qs\": 7}, {\"price\": 9, \"qs\": 8}, {\"price\": 10, \"qs\": 9}], \"data-d399b823e5ed27652ccca1b73313cabb\": [{\"price\": 5.5, \"q\": 4.5}], \"data-411b058143eb0c76546a59e0f2efbb64\": [{\"x\": 9, \"y\": 1.5}], \"data-78eb422e47dc010e08ec7870329a9a72\": [{\"x\": 9, \"y\": 9.5}], \"data-7e100178d0b30ff53f5f746e95732883\": [{\"x\": 5, \"y\": 5.5}], \"data-69798f96eb95f743177ddc215c0c7d3f\": [{\"price\": 5.5, \"q\": 0.0}, {\"price\": 5.5, \"q\": 4.5}], \"data-8d3f29c45f05094ed9e8a75ee292382f\": [{\"price\": 0.0, \"q\": 4.5}, {\"price\": 5.5, \"q\": 4.5}], \"data-fa89a883a0141b394cf39fc6bff7760f\": [{\"x\": 1, \"y\": 7}], \"data-72dd04cc6a780fcff871e575388a44b2\": [{\"x\": 1, \"y\": 4}]}}, {\"mode\": \"vega-lite\"});\n",
       "</script>"
      ],
      "text/plain": [
       "alt.LayerChart(...)"
      ]
     },
     "execution_count": 6,
     "metadata": {},
     "output_type": "execute_result"
    }
   ],
   "source": [
    "text5 = alt.Chart({'values':[{'x': 1, 'y': 4}]}).mark_text(\n",
    "    text='PS',\n",
    "    fontSize=15\n",
    ").encode(x='x:Q', y='y:Q')\n",
    "\n",
    "fig2 + text4 + text5"
   ]
  },
  {
   "cell_type": "markdown",
   "id": "6513b7a0-26fe-4110-a955-375f13975137",
   "metadata": {},
   "source": [
    "```{Note}\n",
    "Total Surplus = Consumer Surplus + Producer Surplus<br><br>\n",
    "Consumer surplus and producer surplus are the benefits from the price they are getting. Economists use consumer surplus and producer surplus to measure the benefits markets create to buyers and sellers and understand market efficiency.<br><br>\n",
    "Market equilibrium maximizes total economic surplus in the absence of market failures, meaning that perfectly competitive markets are efficient.\n",
    "```"
   ]
  }
 ],
 "metadata": {
  "kernelspec": {
   "display_name": "Python 3 (ipykernel)",
   "language": "python",
   "name": "python3"
  },
  "language_info": {
   "codemirror_mode": {
    "name": "ipython",
    "version": 3
   },
   "file_extension": ".py",
   "mimetype": "text/x-python",
   "name": "python",
   "nbconvert_exporter": "python",
   "pygments_lexer": "ipython3",
   "version": "3.8.13"
  }
 },
 "nbformat": 4,
 "nbformat_minor": 5
}
