{
 "cells": [
  {
   "cell_type": "markdown",
   "id": "e2f47485-f4c2-4f0e-bc0d-507e53f4cf0f",
   "metadata": {},
   "source": [
    "# Long-Run Production Costs"
   ]
  },
  {
   "cell_type": "markdown",
   "id": "d96166d8-83b0-4303-af52-6df75e1acaea",
   "metadata": {},
   "source": [
    "> In the **long-run**, **all** resources are variable. For example, the size and capacity of the factory can change.<br><br>The long-run production cost is used for planning for firms to identify which size factory results in the lowest per unit cost."
   ]
  },
  {
   "cell_type": "markdown",
   "id": "fe2efe36-0fcb-4a23-b9e5-000f354e91f1",
   "metadata": {},
   "source": [
    "The figure below shows how the ATC curves change within 5 different short-run plant sizes."
   ]
  },
  {
   "cell_type": "markdown",
   "id": "49c77221-396b-4d47-94d0-c5bdcca849e4",
   "metadata": {},
   "source": [
    "<img src=\"../pic/unit03_3_atc.png\" alt=\"atc\" width=\"600\"/>"
   ]
  },
  {
   "cell_type": "markdown",
   "id": "b076a61e-6df5-4485-965c-44c14b9739dc",
   "metadata": {},
   "source": [
    "A long-run average total cost (LRATC) curve is a U shape connecting the bottom or minimum ATCs of the 5 curves.<br>\n",
    "\n",
    "Long-run average total cost curve/LRATC\n",
    ": Relationship between output and average total cost when fixed cost has been chosen to minimize average total cost for each level of output."
   ]
  },
  {
   "cell_type": "markdown",
   "id": "366149b1-6f12-4180-8452-51179d1986b7",
   "metadata": {},
   "source": [
    "<img src=\"../pic/unit03_3_lratc.png\" alt=\"atc\" width=\"600\"/>"
   ]
  },
  {
   "cell_type": "markdown",
   "id": "0430e98c-b9c3-47fd-ae13-afa841e367f5",
   "metadata": {},
   "source": [
    "## Stages of the Long-Run Average Total Cost Curve\n",
    "\n",
    "**Economies of scale**\n",
    "- Occur when the LRATC curve decreases as output increases.\n",
    "- Also mean **increasing returns to scale**,<br>where if inputs are increased by X%, output increases more than X%."
   ]
  },
  {
   "cell_type": "markdown",
   "id": "a86a7d87-b5bd-4a6f-aab9-701ac3b30d60",
   "metadata": {},
   "source": [
    "**Constant returns to scale**\n",
    "- Occur when the LRATC curve remains constant as production increases.\n",
    "- When output increases directly in proportion to an increase in all inputs.\n",
    "- Where if inputs are increased by X%, output increases by X%."
   ]
  },
  {
   "cell_type": "markdown",
   "id": "7b84fb3c-7d44-4db0-84e0-eeb86b5b822a",
   "metadata": {},
   "source": [
    "**Diseconomies of scale**\n",
    "- Occur when the LRATC curve increases as a firm's output increases.\n",
    "- Also mean **decreasing returns to scale**,<br>where if inputs are increased by X%, output increases less than X%."
   ]
  }
 ],
 "metadata": {
  "kernelspec": {
   "display_name": "Python 3 (ipykernel)",
   "language": "python",
   "name": "python3"
  },
  "language_info": {
   "codemirror_mode": {
    "name": "ipython",
    "version": 3
   },
   "file_extension": ".py",
   "mimetype": "text/x-python",
   "name": "python",
   "nbconvert_exporter": "python",
   "pygments_lexer": "ipython3",
   "version": "3.8.13"
  }
 },
 "nbformat": 4,
 "nbformat_minor": 5
}
