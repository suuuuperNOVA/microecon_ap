{
 "cells": [
  {
   "cell_type": "markdown",
   "id": "ea6e652d-644e-4886-8113-6f35f50ac2b4",
   "metadata": {},
   "source": [
    "# Introduction to Imperfectly Competitive Markets"
   ]
  },
  {
   "cell_type": "markdown",
   "id": "942d3bb7-07a5-4181-9125-77fdcc6c4e75",
   "metadata": {},
   "source": [
    "```{admonition} Perfect vs. Imperfect Competition\n",
    "\n",
    "- Perfectly competitive firms are **price takers**, so the demand curve is constant and equal to MR.\n",
    "- Imperfectly competitive firms are **price makers**, so they have downward sloping demand curves.\n",
    "    - MR is **not** equal to the demand;\n",
    "    - Firm must lower price to sell additional units.\n",
    "```"
   ]
  }
 ],
 "metadata": {
  "kernelspec": {
   "display_name": "Python 3 (ipykernel)",
   "language": "python",
   "name": "python3"
  },
  "language_info": {
   "codemirror_mode": {
    "name": "ipython",
    "version": 3
   },
   "file_extension": ".py",
   "mimetype": "text/x-python",
   "name": "python",
   "nbconvert_exporter": "python",
   "pygments_lexer": "ipython3",
   "version": "3.8.13"
  }
 },
 "nbformat": 4,
 "nbformat_minor": 5
}
