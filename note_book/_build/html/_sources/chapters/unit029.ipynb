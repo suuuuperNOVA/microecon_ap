{
 "cells": [
  {
   "cell_type": "markdown",
   "id": "97d06cbc-46b6-45d9-8040-007b536328b7",
   "metadata": {},
   "source": [
    "# International Trade and Public Policy"
   ]
  },
  {
   "cell_type": "markdown",
   "id": "da9cbfe0-f5a9-44cb-b11f-53cca384def6",
   "metadata": {},
   "source": [
    "> The government can use **tariff** and **quota** to influence the domestic market:\n",
    "> - To protect domestic producers from a cheaper world price;\n",
    "> - To prevent domestic unemployment;\n",
    "> - To reduce reliance on other countries."
   ]
  },
  {
   "cell_type": "markdown",
   "id": "21f38280-2c10-4968-bd34-03752fc7a01e",
   "metadata": {},
   "source": [
    "## World Price without Tariff or Quota\n",
    "\n",
    "World price\n",
    ": Countries can buy products at their own domestic price or they can buy the products at a cheaper world price.<br><br>\n",
    "\n",
    "Tariff\n",
    ": Tax on imports that increases the world price.<br><br>\n",
    "\n",
    "Quota\n",
    ": Limit on number of imports."
   ]
  },
  {
   "cell_type": "markdown",
   "id": "1093d6f7-0375-45dd-b738-2a1db26a54b3",
   "metadata": {},
   "source": [
    "The figure below shows how the international trade effects the domestic market. Due to world trade, the domestic demand can be met at a low price (2 dollars). The table below shows the differences between before and after."
   ]
  },
  {
   "cell_type": "markdown",
   "id": "a251a9c4-b5fe-4934-bdd7-60f676b2aa96",
   "metadata": {},
   "source": [
    "|   |Before World Trade|After Trade at World Price|\n",
    "|---|---|---|\n",
    "|**Equilibrium Price ($)**|4|6|\n",
    "|**Equilibrium Quantity**|40|60|\n",
    "|**Consumer Surplus**|A|ABDE|\n",
    "|**Producer Surplus**|BC|C|\n",
    "|**Total Surplus**|ABC|ABCDE|\n",
    "|**Quantity of Imports**|-|40|\n",
    "|**Net Gains from Trade**|-|DE|"
   ]
  },
  {
   "cell_type": "markdown",
   "id": "75d47ab7-9ad1-4f1d-9294-18d05133a846",
   "metadata": {},
   "source": [
    "<img src=\"../pic/unit02_9_no_tariff.png\" alt=\"dead_ceil\" width=\"500\"/>"
   ]
  },
  {
   "cell_type": "markdown",
   "id": "1850043f-9e71-403f-9b8a-104e2c0d5ad9",
   "metadata": {},
   "source": [
    "## World Price with a Tariff\n",
    "\n",
    "If the government imposes a tariff on imports, the import price will be increased from <math xmlns=\"http://www.w3.org/1998/Math/MathML\">\n",
    "  <msub>\n",
    "    <mi>P</mi>\n",
    "    <mi>W</mi>\n",
    "  </msub>\n",
    "</math> to <math xmlns=\"http://www.w3.org/1998/Math/MathML\">\n",
    "  <msub>\n",
    "    <mi>P</mi>\n",
    "    <mi>T</mi>\n",
    "  </msub>\n",
    "</math>. The deadweight loss will be the area of A and B."
   ]
  },
  {
   "cell_type": "markdown",
   "id": "06fd152c-047d-4ccb-8868-b85567e93329",
   "metadata": {},
   "source": [
    "<img src=\"../pic/unit02_9_tariff.png\" alt=\"dead_ceil\" width=\"600\"/>"
   ]
  }
 ],
 "metadata": {
  "kernelspec": {
   "display_name": "Python 3 (ipykernel)",
   "language": "python",
   "name": "python3"
  },
  "language_info": {
   "codemirror_mode": {
    "name": "ipython",
    "version": 3
   },
   "file_extension": ".py",
   "mimetype": "text/x-python",
   "name": "python",
   "nbconvert_exporter": "python",
   "pygments_lexer": "ipython3",
   "version": "3.8.13"
  }
 },
 "nbformat": 4,
 "nbformat_minor": 5
}
