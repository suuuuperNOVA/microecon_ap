{
 "cells": [
  {
   "cell_type": "markdown",
   "id": "d7ce3640-18bd-4995-89a5-827cd7a3ce18",
   "metadata": {},
   "source": [
    "# Market Failure and the Role of Government"
   ]
  },
  {
   "cell_type": "markdown",
   "id": "c1698e16-4c2b-44cb-a616-3181b13d3fe2",
   "metadata": {},
   "source": [
    "## Socially Efficient and Inefficient Market Outcomes"
   ]
  },
  {
   "cell_type": "markdown",
   "id": "dad1fa71-277d-48b4-956a-cfc0e19b7565",
   "metadata": {},
   "source": [
    "In previous chapters, we learned that:\n",
    "- Perfectly competitive markets allocate resources efficiently in the long run.\n",
    "    - Allocatively efficient\n",
    "    - Productively efficient\n",
    "- Imperfect competition often results in market inefficiencies."
   ]
  },
  {
   "cell_type": "markdown",
   "id": "c72dfa41-196b-4670-a460-ed9a4e22a49d",
   "metadata": {},
   "source": [
    "### Social Efficiency\n",
    "\n",
    "**Social efficiency** is achieved when **MC = MB** (market equilibrium) as show in the figure below:\n",
    "- No deadweight loss;\n",
    "- Total surplus are maximized."
   ]
  },
  {
   "cell_type": "code",
   "execution_count": 1,
   "id": "09248d6c-3700-43f7-887a-72112f8b3648",
   "metadata": {
    "jupyter": {
     "source_hidden": true
    },
    "tags": [
     "remove-input"
    ]
   },
   "outputs": [],
   "source": [
    "import pandas as pd\n",
    "import altair as alt"
   ]
  },
  {
   "cell_type": "code",
   "execution_count": 3,
   "id": "b6de22da-ce7f-465a-881f-f312038ba7d2",
   "metadata": {
    "jupyter": {
     "source_hidden": true
    },
    "tags": [
     "remove-input"
    ]
   },
   "outputs": [
    {
     "data": {
      "text/html": [
       "\n",
       "<div id=\"altair-viz-d83369575e6749d3abd288a62ac769b4\"></div>\n",
       "<script type=\"text/javascript\">\n",
       "  (function(spec, embedOpt){\n",
       "    let outputDiv = document.currentScript.previousElementSibling;\n",
       "    if (outputDiv.id !== \"altair-viz-d83369575e6749d3abd288a62ac769b4\") {\n",
       "      outputDiv = document.getElementById(\"altair-viz-d83369575e6749d3abd288a62ac769b4\");\n",
       "    }\n",
       "    const paths = {\n",
       "      \"vega\": \"https://cdn.jsdelivr.net/npm//vega@5?noext\",\n",
       "      \"vega-lib\": \"https://cdn.jsdelivr.net/npm//vega-lib?noext\",\n",
       "      \"vega-lite\": \"https://cdn.jsdelivr.net/npm//vega-lite@4.8.1?noext\",\n",
       "      \"vega-embed\": \"https://cdn.jsdelivr.net/npm//vega-embed@6?noext\",\n",
       "    };\n",
       "\n",
       "    function loadScript(lib) {\n",
       "      return new Promise(function(resolve, reject) {\n",
       "        var s = document.createElement('script');\n",
       "        s.src = paths[lib];\n",
       "        s.async = true;\n",
       "        s.onload = () => resolve(paths[lib]);\n",
       "        s.onerror = () => reject(`Error loading script: ${paths[lib]}`);\n",
       "        document.getElementsByTagName(\"head\")[0].appendChild(s);\n",
       "      });\n",
       "    }\n",
       "\n",
       "    function showError(err) {\n",
       "      outputDiv.innerHTML = `<div class=\"error\" style=\"color:red;\">${err}</div>`;\n",
       "      throw err;\n",
       "    }\n",
       "\n",
       "    function displayChart(vegaEmbed) {\n",
       "      vegaEmbed(outputDiv, spec, embedOpt)\n",
       "        .catch(err => showError(`Javascript Error: ${err.message}<br>This usually means there's a typo in your chart specification. See the javascript console for the full traceback.`));\n",
       "    }\n",
       "\n",
       "    if(typeof define === \"function\" && define.amd) {\n",
       "      requirejs.config({paths});\n",
       "      require([\"vega-embed\"], displayChart, err => showError(`Error loading script: ${err.message}`));\n",
       "    } else if (typeof vegaEmbed === \"function\") {\n",
       "      displayChart(vegaEmbed);\n",
       "    } else {\n",
       "      loadScript(\"vega\")\n",
       "        .then(() => loadScript(\"vega-lite\"))\n",
       "        .then(() => loadScript(\"vega-embed\"))\n",
       "        .catch(showError)\n",
       "        .then(() => displayChart(vegaEmbed));\n",
       "    }\n",
       "  })({\"config\": {\"view\": {\"continuousWidth\": 400, \"continuousHeight\": 300}}, \"layer\": [{\"data\": {\"name\": \"data-3f5abcc8d5343cbde644ba2a16cc1dac\"}, \"mark\": {\"type\": \"line\", \"point\": {\"fill\": \"white\", \"filled\": false}}, \"encoding\": {\"x\": {\"type\": \"quantitative\", \"field\": \"pizza\", \"title\": \"Quantity of pizza\"}, \"y\": {\"type\": \"quantitative\", \"field\": \"MB\", \"title\": \"MB/MC\"}}, \"title\": \"Benefits and Costs\"}, {\"data\": {\"name\": \"data-d6574ffcadf5570af0ec4d7d24ee6728\"}, \"mark\": {\"type\": \"line\", \"color\": \"green\", \"point\": {\"color\": \"green\", \"fill\": \"white\", \"filled\": false}}, \"encoding\": {\"x\": {\"type\": \"quantitative\", \"field\": \"pizza\", \"title\": \"Quantity of pizza\"}, \"y\": {\"type\": \"quantitative\", \"field\": \"MB\", \"title\": \"MB/MC\"}}}, {\"data\": {\"name\": \"data-e66117fc37f4b489d5fd1ecdac4bb029\"}, \"mark\": {\"type\": \"text\", \"fontSize\": 15, \"text\": \"MB\"}, \"encoding\": {\"x\": {\"type\": \"quantitative\", \"field\": \"x\"}, \"y\": {\"type\": \"quantitative\", \"field\": \"y\"}}}, {\"data\": {\"name\": \"data-78eb422e47dc010e08ec7870329a9a72\"}, \"mark\": {\"type\": \"text\", \"fontSize\": 15, \"text\": \"MC\"}, \"encoding\": {\"x\": {\"type\": \"quantitative\", \"field\": \"x\"}, \"y\": {\"type\": \"quantitative\", \"field\": \"y\"}}}, {\"data\": {\"name\": \"data-aa738e91b16cbc4cc830c091fab8f392\"}, \"mark\": {\"type\": \"text\", \"fontSize\": 15, \"text\": \"MB = MC\"}, \"encoding\": {\"x\": {\"type\": \"quantitative\", \"field\": \"x\"}, \"y\": {\"type\": \"quantitative\", \"field\": \"y\"}}}], \"$schema\": \"https://vega.github.io/schema/vega-lite/v4.8.1.json\", \"datasets\": {\"data-3f5abcc8d5343cbde644ba2a16cc1dac\": [{\"MB\": 10, \"pizza\": 0}, {\"MB\": 9, \"pizza\": 1}, {\"MB\": 8, \"pizza\": 2}, {\"MB\": 7, \"pizza\": 3}, {\"MB\": 6, \"pizza\": 4}, {\"MB\": 5, \"pizza\": 5}, {\"MB\": 4, \"pizza\": 6}, {\"MB\": 3, \"pizza\": 7}, {\"MB\": 2, \"pizza\": 8}, {\"MB\": 1, \"pizza\": 9}, {\"MB\": 0, \"pizza\": 10}], \"data-d6574ffcadf5570af0ec4d7d24ee6728\": [{\"MB\": 0, \"pizza\": 0}, {\"MB\": 1, \"pizza\": 1}, {\"MB\": 2, \"pizza\": 2}, {\"MB\": 3, \"pizza\": 3}, {\"MB\": 4, \"pizza\": 4}, {\"MB\": 5, \"pizza\": 5}, {\"MB\": 6, \"pizza\": 6}, {\"MB\": 7, \"pizza\": 7}, {\"MB\": 8, \"pizza\": 8}, {\"MB\": 9, \"pizza\": 9}, {\"MB\": 10, \"pizza\": 10}], \"data-e66117fc37f4b489d5fd1ecdac4bb029\": [{\"x\": 9, \"y\": 2}], \"data-78eb422e47dc010e08ec7870329a9a72\": [{\"x\": 9, \"y\": 9.5}], \"data-aa738e91b16cbc4cc830c091fab8f392\": [{\"x\": 6.2, \"y\": 5}]}}, {\"mode\": \"vega-lite\"});\n",
       "</script>"
      ],
      "text/plain": [
       "alt.LayerChart(...)"
      ]
     },
     "execution_count": 3,
     "metadata": {},
     "output_type": "execute_result"
    }
   ],
   "source": [
    "df_mu = pd.DataFrame(data={'MB': list(range(10,-1,-1)), 'pizza': list(range(0,11))})\n",
    "df_mc = pd.DataFrame(data={'MB': list(range(0,11)), 'pizza': list(range(0,11))})\n",
    "fig_mu = alt.Chart(df_mu).mark_line(point=alt.OverlayMarkDef(filled=False, fill='white')).encode(\n",
    "    alt.X('pizza', title='Quantity of pizza'),\n",
    "    alt.Y('MB', title='MB/MC')\n",
    ").properties(title='Benefits and Costs')\n",
    "\n",
    "fig_mc = alt.Chart(df_mc).mark_line(point=alt.OverlayMarkDef(filled=False, fill='white', color='green'), color='green').encode(\n",
    "    alt.X('pizza', title='Quantity of pizza'),\n",
    "    alt.Y('MB', title='MB/MC')\n",
    ")\n",
    "\n",
    "text6 = alt.Chart({'values':[{'x': 9, 'y': 2}]}).mark_text(\n",
    "    text='MB',\n",
    "    fontSize=15\n",
    ").encode(x='x:Q', y='y:Q')\n",
    "\n",
    "text7 = alt.Chart({'values':[{'x': 9, 'y': 9.5}]}).mark_text(\n",
    "    text='MC',\n",
    "    fontSize=15\n",
    ").encode(x='x:Q', y='y:Q')\n",
    "\n",
    "text8 = alt.Chart({'values':[{'x': 6.2, 'y': 5}]}).mark_text(\n",
    "    text='MB = MC',\n",
    "    fontSize=15\n",
    ").encode(x='x:Q', y='y:Q')\n",
    "\n",
    "df_mu_s = pd.DataFrame(data={'MB': [0, 3, 7], 'pizza': [7, 7, 7]})\n",
    "fig_mu_s = alt.Chart(df_mu_s).mark_line(color='black', strokeDash=[4, 2]).encode(\n",
    "    alt.X('pizza', title='Quantity of pizza'),\n",
    "    alt.Y('MB', title='MB/MC')\n",
    ")\n",
    "\n",
    "df_mu_st = pd.DataFrame(data={'MB': [0, 3, 7], 'pizza': [3, 3, 3]})\n",
    "fig_mu_st = alt.Chart(df_mu_st).mark_line(color='black', strokeDash=[4, 2]).encode(\n",
    "    alt.X('pizza', title='Quantity of pizza'),\n",
    "    alt.Y('MB', title='MB/MC')\n",
    ")\n",
    "\n",
    "text9 = alt.Chart({'values':[{'x': 1.5, 'y': 5}]}).mark_text(\n",
    "    text='Not enough',\n",
    "    fontSize=15\n",
    ").encode(x='x:Q', y='y:Q')\n",
    "\n",
    "text10 = alt.Chart({'values':[{'x': 8, 'y': 5}]}).mark_text(\n",
    "    text='Too much',\n",
    "    fontSize=15\n",
    ").encode(x='x:Q', y='y:Q')\n",
    "\n",
    "fig_mu_1 = fig_mu + fig_mc + text6 + text7 + text8\n",
    "fig_mu_1"
   ]
  },
  {
   "cell_type": "markdown",
   "id": "17d5cda8-7a52-4a9e-8290-a604416ef0b3",
   "metadata": {},
   "source": [
    "Market failure\n",
    ": When a market fails to provide an efficient allocation of resources.\n",
    "\n",
    "> Governments may step in to attempt to intervene an attempt to promote a more desirable social outcome in different market failures.\n",
    "> - Public goods\n",
    "> - Externalities\n",
    "> - Imperfect competition\n",
    "> - Unequal distribution of income"
   ]
  },
  {
   "cell_type": "markdown",
   "id": "55da34a3-5628-4a9f-983a-0ee166661e01",
   "metadata": {},
   "source": [
    "```{admonition} Definitions\n",
    "Public good\n",
    ": Commodities or services that benefit all members of society.\n",
    ": Non-rival and non-exclude.\n",
    ": Often provided for free through public taxation.\n",
    ": e.g. law enforcement, national defense, parks<br><br>\n",
    "\n",
    "Positive externality/External benefit\n",
    ": External benefit is a benefit that an individual or a firm confers on others without receiving compensation.\n",
    ": e.g. free parks<br><br>\n",
    "\n",
    "Negative externality/External cost\n",
    ": External cost is an uncompensated cost that an individual or a firm imposes on others.\n",
    ": e.g. traffic congestion<br><br>\n",
    "\n",
    "Externalities\n",
    ": Third-person side effects.\n",
    ": External costs and benefits.\n",
    ": Usually arise from lack of well-defined property rights and/or high transaction costs.<br><br>\n",
    "\n",
    "Marginal private benefit/MPB\n",
    ": Marginal benefit that accrues to consumers of a good, not including any external benefits.\n",
    ": Take as **consumers' demand**.<br><br>\n",
    "\n",
    "Marginal external benefit/MEB\n",
    ": Addition to external benefits created by one more unit of the good.<br><br>\n",
    "\n",
    "Marginal social benefit/MSB\n",
    ": Additional benefit to society as a whole from one additional unit.\n",
    ": **MSB = MPB + MEB**\n",
    ": Take as **total demand**.<br><br>\n",
    "\n",
    "Marginal private cost/MPC\n",
    ": Marginal cost of producing that good, not including any external costs.\n",
    ": Take as **producers' supply**.<br><br>\n",
    "\n",
    "Marginal external cost\n",
    ": Increase in external costs to society created by one more unit of the good.<br><br>\n",
    "\n",
    "Marginal social cost/MSC\n",
    ": Additional cost imposed on society as a whole by one additional unit.\n",
    ": **MSC = MPC + MEC**\n",
    ": Take as **supply**.<br><br>\n",
    "\n",
    "Socially optimal quantity\n",
    ": MSB = MSC\n",
    "```"
   ]
  },
  {
   "cell_type": "markdown",
   "id": "fa1af218-63e2-46d9-8945-6da17272d02e",
   "metadata": {},
   "source": [
    "## Externalities\n",
    "\n",
    "The free market fails to include external costs or external benefits (**market failure**) because rational consumers and producers only respond to private costs and benefits and not to external costs and benefits. Rational agents have the incentive to free ride when a good is non-excludable. With no government involvement there would be too much of some goods and too little of others."
   ]
  },
  {
   "cell_type": "markdown",
   "id": "b899597a-a335-4459-b7a8-9818ee06db31",
   "metadata": {},
   "source": [
    "### Positive Externalities"
   ]
  },
  {
   "cell_type": "markdown",
   "id": "a0d93de5-5195-4474-8969-77a960e10d46",
   "metadata": {},
   "source": [
    "#### Positive Externality in Production\n",
    "\n",
    "When there is the marginal excess benefit (MEB) like a new office building, the good is **underproduced** as MSC > MPC in the figure below.\n",
    "- Supply curve is S where S = MPC;\n",
    "- The supply good has positive externality to society, so the society expect to produce at the curve MSC (MSC = MPC + MEB);\n",
    "- QS is the socially optimal quantity, but the market is producing at QMKT;\n",
    "- There is **deadweight loss**.\n",
    "\n",
    "**With positive externalities, the good is underproduced but at a higher price.**"
   ]
  },
  {
   "cell_type": "markdown",
   "id": "6c4ab52d-27d9-45a0-b656-45b9f61d06a8",
   "metadata": {},
   "source": [
    "<img src=\"../pic/unit06_pes.png\" alt=\"pes\" width=\"600\"/>"
   ]
  },
  {
   "cell_type": "markdown",
   "id": "19185902-6b3c-46a6-a49d-a479bf9f792f",
   "metadata": {},
   "source": [
    "#### Positive Externality in Consumption\n",
    "\n",
    "When there is the marginal excess benefit (MEB) like paid vaccine, the good is **underproduced** as MSB > MPB in the figure below.\n",
    "- Demand curve is D where D = MPB;\n",
    "- The demand good has positive externality to society, so the society expect to consume at the curve MSB (MSB = MPB + MEB);\n",
    "- QS is the socially optimal quantity, but the market is producing at QMKT;\n",
    "- There is **deadweight loss**.\n",
    "\n",
    "**With positive externalities, the good is underproduced but at a higher price.**"
   ]
  },
  {
   "cell_type": "markdown",
   "id": "a8e12c19-339b-4b29-b082-dbbc4284b436",
   "metadata": {},
   "source": [
    "<img src=\"../pic/unit06_pec.png\" alt=\"pec\" width=\"600\"/>"
   ]
  },
  {
   "cell_type": "markdown",
   "id": "5a4136a5-f91e-49db-a4b7-a2db376b84d8",
   "metadata": {},
   "source": [
    "### Negative Externalities"
   ]
  },
  {
   "cell_type": "markdown",
   "id": "2576b23e-1246-40be-9416-eff5e452d102",
   "metadata": {},
   "source": [
    "#### Negative Externality in Production"
   ]
  },
  {
   "cell_type": "markdown",
   "id": "f0dec2c3-8f0f-49b5-a641-200e419e2aff",
   "metadata": {},
   "source": [
    "When there is the marginal excess cost (MEC) like logging company and gas company, the good is **overproduced** as MSC < MPC in the figure below.\n",
    "- Supply curve is S where S = MPC;\n",
    "- The supply good has negative externality to society, so the society expect to produce at a higher cost at the curve MSC (MSC = MPC - MEB);\n",
    "- QS is the socially optimal quantity, but the market is producing at QMKT;\n",
    "- There is **deadweight loss**.\n",
    "\n",
    "**With negative externalities, the good is overproduced but at a lower price.**"
   ]
  },
  {
   "cell_type": "markdown",
   "id": "f5662853-e77c-493b-8665-24d529b2e7bc",
   "metadata": {},
   "source": [
    "<img src=\"../pic/unit06_nes.png\" alt=\"nes\" width=\"600\"/>"
   ]
  },
  {
   "cell_type": "markdown",
   "id": "aa981d32-9a45-4872-bad3-c0ad22143b95",
   "metadata": {},
   "source": [
    "#### Negative Externality in Consumption"
   ]
  },
  {
   "cell_type": "markdown",
   "id": "34a8686e-87b6-4ac3-bbb5-34bb7b405e62",
   "metadata": {},
   "source": [
    "When there is the marginal excess cost (MEC) like cigarette, the good is **overproduced** as MSB < MPB in the figure below.\n",
    "- Demand curve is D where D = MPB;\n",
    "- The demand good has negative externality to society, so the society expect to consume at the curve MSB (MSB = MPB - MEB);\n",
    "- QS is the socially optimal quantity, but the market is producing at QMKT;\n",
    "- There is **deadweight loss**.\n",
    "\n",
    "**With negative externalities, the good is overproduced but at a lower price.**"
   ]
  },
  {
   "cell_type": "markdown",
   "id": "d4ea27c3-19a7-4b5e-bc18-710de4fe654e",
   "metadata": {},
   "source": [
    "<img src=\"../pic/unit06_nec.png\" alt=\"nec\" width=\"600\"/>"
   ]
  },
  {
   "cell_type": "markdown",
   "id": "07caf0cc-17b7-427f-9805-5893c9a0ce41",
   "metadata": {},
   "source": [
    "### Policies to Address Externalities\n",
    "\n",
    "- Positive externality\n",
    "    - Subsidies\n",
    "    - Public provision\n",
    "    - Assignment of property rights\n",
    "- Negative externality\n",
    "    - Taxes\n",
    "    - Environmental regulation\n",
    "    - Assignment of property rights"
   ]
  },
  {
   "cell_type": "markdown",
   "id": "2323d626-ee1b-49b5-91fe-d0a6a98c5aa2",
   "metadata": {},
   "source": [
    "## Public and Private Goods"
   ]
  },
  {
   "cell_type": "markdown",
   "id": "45bd6d1d-fc68-4228-9a7b-764ee09b6387",
   "metadata": {},
   "source": [
    "```{admonition} Public goods vs. Private goods\n",
    "\n",
    "Public goods\n",
    ": Both non-excludable and non-rival in consumption.\n",
    ": Free riders.\n",
    ": e.g. free parks, national defense<br><br>\n",
    "\n",
    "Private goods\n",
    ": Excludable and rival in consumption.\n",
    ": Consumers have the right to exclude others from the benefits.\n",
    "```"
   ]
  },
  {
   "cell_type": "markdown",
   "id": "0e73a4dd-2409-427d-b267-d657214c3156",
   "metadata": {},
   "source": [
    "### Free-Rider Problem\n",
    "\n",
    "```{note} \n",
    "As public goods are non-exclusive, people know they can benefit from public good without paying for them. If consumers are free riders, demand drops to 0 for the product. Due to the free-rider problem, private firms will not supply public goods. If society wants a public good to be produced, it will have to direct government to do it.\n",
    "```"
   ]
  },
  {
   "cell_type": "markdown",
   "id": "e530fa94-f900-46e0-af1b-5d18c39208af",
   "metadata": {},
   "source": [
    "## The Effects of Government Intervention in Different Market Structures"
   ]
  },
  {
   "cell_type": "markdown",
   "id": "4385c7bf-36f3-4e8b-bff2-4f3a4a6e42b6",
   "metadata": {},
   "source": [
    "> Government intervention in imperfect markets can increase efficiency if the policy correctly addresses the incentives that led to the market failure.\n",
    "\n",
    "<br>\n",
    "\n",
    "Government can use (<ins>[recap **Taxes and Shifting Cost Curves**](content:references:label_tax)</ins> 👀):\n",
    "- Taxes\n",
    "    - Per-Unit tax<br>Shift the supply curve left.\n",
    "    - Lump-Sum tax<br>Shift the ATC upward.\n",
    "- Subsidies\n",
    "    - Per-Unit subsidy<br>Shift the supply curve right.\n",
    "    - Lump-Sum subsidy<br>Shift the ATC downward.\n",
    "    \n",
    "> **Per-Unit tax/subsidy is more efficient than lump-sum because lump-sum does not control the quantity.**"
   ]
  },
  {
   "cell_type": "markdown",
   "id": "a42511d6-b3cd-44fd-b3ae-3a45020ef443",
   "metadata": {},
   "source": [
    "### Monopoly/Natural Monopoly\n",
    "\n",
    "- Government can use **price regulation** \n",
    "    - To keep prices low (**fair-return pricing**);\n",
    "    - To make monopolies efficient.\n",
    "- Government can use **lump-sum subsidy** to make the firm produce at the **socially optimal price**.\n",
    "- Governments can use **antitrust policy** in an attempt to make markets more competitive.\n",
    "    - Also applied to oligopolies.\n",
    "    \n",
    "Antitrust policy\n",
    ": Regulations that encourage competition by limiting the market power of any particular firm. \n",
    ": This often involves ensuring that mergers and acquisitions don’t overly concentrate market power or form monopolies, as well as breaking up firms that have become monopolies.\n",
    ": Prevent multiple firms from colluding or forming a cartel to limit competition through practices such as price fixing. "
   ]
  },
  {
   "cell_type": "markdown",
   "id": "274f0e11-0684-490a-aeed-c6c40c5db534",
   "metadata": {},
   "source": [
    "<img src=\"../pic/unit04_2_nmono.png\" alt=\"namono\" width=\"600\"/>"
   ]
  },
  {
   "cell_type": "markdown",
   "id": "8a311ae0-fe63-44a1-bf69-35384639c6b5",
   "metadata": {},
   "source": [
    "## Inequality"
   ]
  },
  {
   "cell_type": "markdown",
   "id": "b5a119ac-f375-4586-8276-cdef80add697",
   "metadata": {},
   "source": [
    "> Income levels and poverty rates vary greatly both across and within groups (e.g. age, gender, race) and countries."
   ]
  },
  {
   "cell_type": "markdown",
   "id": "27885638-0a00-47ba-9589-9005bb5e541f",
   "metadata": {},
   "source": [
    "### Lorenze Curve"
   ]
  },
  {
   "cell_type": "markdown",
   "id": "53e51ee7-c4ee-4822-8293-1099741cb654",
   "metadata": {},
   "source": [
    "We use the **Lorenze curve** to measure the income inequality as shown in the figure below.\n",
    "\n",
    "Lorenze curve consists of:\n",
    "- \\% of income on the vertical axis\n",
    "- \\% of family on the horizontal axis\n",
    "- Diagonal<br>Noted as the perfect equality case.\n",
    "    - At the Point B, 50\\% of the families make 50\\% of total income in a country.\n",
    "- Lorenz curve<br>Real case\n",
    "    - At the Point A, 50\\% of families make 25\\% of total income in a country.\n",
    "\n",
    "When the Lorenze curve is more apart from the perfect equality line, there is more income inequality. So, the right case below is more unequal than the left case."
   ]
  },
  {
   "cell_type": "markdown",
   "id": "ed7a0ac6-76a9-4739-9750-ef68efb59d63",
   "metadata": {},
   "source": [
    "<div class=\"row\">\n",
    "  <div class=\"column\">\n",
    "    <img src=\"../pic/unit06_incomea.png\" alt=\"lca\" width=\"490\" style=\"float:left\">\n",
    "  </div>\n",
    "  <div class=\"column\">\n",
    "    <img src=\"../pic/unit06_incomeb.png\" alt=\"lcb\" width=\"470\" style=\"float:right\">\n",
    "  </div>\n",
    "</div>"
   ]
  },
  {
   "cell_type": "markdown",
   "id": "4af22fd7-964a-42b6-8536-bc0ae55af86b",
   "metadata": {},
   "source": [
    "### Gini Coefficient\n",
    "\n",
    "We also use the **Gini coefficient** to measure the income inequality.\n",
    "- Gini coefficient ranges from 0 to 1;\n",
    "- 0 means perfectly equality;\n",
    "- The greater value, the more unequal."
   ]
  },
  {
   "cell_type": "markdown",
   "id": "7dcfa996-4bea-4aea-87b0-45b1c39af378",
   "metadata": {},
   "source": [
    "<math xmlns=\"http://www.w3.org/1998/Math/MathML\">\n",
    "  <mtext>Gini Coefficient</mtext>\n",
    "  <mo>=</mo>\n",
    "  <mfrac>\n",
    "    <mi>A</mi>\n",
    "    <mrow>\n",
    "      <mi>A</mi>\n",
    "      <mo>+</mo>\n",
    "      <mi>B</mi>\n",
    "    </mrow>\n",
    "  </mfrac>\n",
    "</math>\n",
    "<br>"
   ]
  },
  {
   "cell_type": "markdown",
   "id": "cdac8eda-9ebd-4eff-a93e-5328d6320666",
   "metadata": {},
   "source": [
    "<img src=\"../pic/unit06_gini.png\" alt=\"gini\" width=\"600\"/>"
   ]
  },
  {
   "cell_type": "markdown",
   "id": "9e397e9c-093d-486c-86f8-c16459020676",
   "metadata": {},
   "source": [
    "### Sources of Income and Wealth Inequality\n",
    "\n",
    "Each factor of production receives the value of its marginal product, which can contribute to income inequality. Sources of income and wealth inequality include:\n",
    "- Tax structures\n",
    "    - Progressive tax<br>Higher tax rates as income increases.\n",
    "    - Proportional tax<br>Flat tax rates.\n",
    "    - Regressive tax<br>Lower tax rates as income decreases.\n",
    "- Human capital\n",
    "- Social capital\n",
    "- Inheritance\n",
    "- Effects of discrimination\n",
    "- Access to financial markets\n",
    "- Mobility\n",
    "- Bargaining power within economic and social units\n",
    "    - Firms, labor unions, and families."
   ]
  }
 ],
 "metadata": {
  "kernelspec": {
   "display_name": "Python 3 (ipykernel)",
   "language": "python",
   "name": "python3"
  },
  "language_info": {
   "codemirror_mode": {
    "name": "ipython",
    "version": 3
   },
   "file_extension": ".py",
   "mimetype": "text/x-python",
   "name": "python",
   "nbconvert_exporter": "python",
   "pygments_lexer": "ipython3",
   "version": "3.8.13"
  }
 },
 "nbformat": 4,
 "nbformat_minor": 5
}
