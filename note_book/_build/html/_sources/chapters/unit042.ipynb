{
 "cells": [
  {
   "cell_type": "markdown",
   "id": "e8b2a72b-e834-4d08-9470-7281ba4dbd63",
   "metadata": {},
   "source": [
    "# Monopoly"
   ]
  },
  {
   "cell_type": "markdown",
   "id": "e890f920-b42c-4f20-8b03-716bd9aed310",
   "metadata": {},
   "source": []
  }
 ],
 "metadata": {
  "kernelspec": {
   "display_name": "Python 3 (ipykernel)",
   "language": "python",
   "name": "python3"
  },
  "language_info": {
   "codemirror_mode": {
    "name": "ipython",
    "version": 3
   },
   "file_extension": ".py",
   "mimetype": "text/x-python",
   "name": "python",
   "nbconvert_exporter": "python",
   "pygments_lexer": "ipython3",
   "version": "3.8.13"
  }
 },
 "nbformat": 4,
 "nbformat_minor": 5
}
