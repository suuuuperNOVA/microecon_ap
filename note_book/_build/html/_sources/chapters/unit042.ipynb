{
 "cells": [
  {
   "cell_type": "markdown",
   "id": "e8b2a72b-e834-4d08-9470-7281ba4dbd63",
   "metadata": {},
   "source": [
    "# Monopoly"
   ]
  },
  {
   "cell_type": "markdown",
   "id": "e890f920-b42c-4f20-8b03-716bd9aed310",
   "metadata": {},
   "source": [
    "Monopoly\n",
    ": A firm is a single seller of a product for which there are no close substitutes.\n",
    ": The firm is the price maker.\n",
    "\n",
    "\n",
    "The market power of a monopoly is the high barriers to enter.\n",
    "- Government power\n",
    "- Resource control\n",
    "- Economies of scale\n",
    "- Copyrights of patents"
   ]
  },
  {
   "cell_type": "markdown",
   "id": "183b75c1-caf9-48aa-83eb-6588b832e538",
   "metadata": {},
   "source": [
    "## Graphs of Monoplist"
   ]
  },
  {
   "cell_type": "markdown",
   "id": "4d321ba6-ef2d-4d77-8e0d-11730b1d4f2e",
   "metadata": {},
   "source": [
    "Within monopoly, there are 2 curves as shown in the figure below:\n",
    "- Demand (D)\n",
    "    - Demand = Average Revenue\n",
    "- Marginal revenue (MR)\n",
    "- D is above MR<br>Means the firm can sell the product higher than the marginal revenue."
   ]
  },
  {
   "cell_type": "markdown",
   "id": "35c3799f-ace4-42e1-bb67-a590e22eb2e4",
   "metadata": {},
   "source": [
    "<img src=\"../pic/unit04_2_demand.png\" alt=\"d\" width=\"600\"/>"
   ]
  },
  {
   "cell_type": "markdown",
   "id": "320fbe84-6839-46b2-924b-d6baeb0e4da7",
   "metadata": {},
   "source": [
    "> Still, there are production cost curves.\n",
    "\n",
    "1. To find how many to produce<br>The profit-maximizing point is at Point A where MC = MR;\n",
    "1. To find the product price<br>Sell it at Point C;\n",
    "1. To find the cost per unit<br>The production cost is at Point B;\n",
    "1. Profit per unit<br>Difference between C and B;\n",
    "1. Total profit = Area of GCBH."
   ]
  },
  {
   "cell_type": "markdown",
   "id": "9227e8d6-10cd-4c21-816c-32faa4d0c3f1",
   "metadata": {},
   "source": [
    "<img src=\"../pic/unit04_2_mono.png\" alt=\"mono\" width=\"600\"/>"
   ]
  },
  {
   "cell_type": "markdown",
   "id": "ddcf896f-62e9-43ca-a53e-defbd52c9168",
   "metadata": {},
   "source": [
    "## Is monopoly efficient?\n",
    "\n",
    "- **Not** Allocatively efficient<br>The quantity produced is less than the market demanded.<br><br>\n",
    "- **Not** Productively efficient<br>Not produce at the minimum point on ATC."
   ]
  },
  {
   "cell_type": "markdown",
   "id": "b460e63f-d93c-401e-8f84-d4706a02fe27",
   "metadata": {},
   "source": [
    "## Deadweight Loss of Monopoly"
   ]
  },
  {
   "cell_type": "markdown",
   "id": "7a40ee22-be34-4617-ba0e-74d9b8795ccf",
   "metadata": {},
   "source": [
    "When the firm produces at the Point D where MC (short run supply intersects demand), the total surplus will be maximized. However, the monopolist produces Qm and sells at the Point C. The consumer surplus is reduced, the producer surplus is increased. The **deadweight loss** is the area of **CAD**.  "
   ]
  },
  {
   "cell_type": "markdown",
   "id": "ce65dca2-47c5-4666-b208-6e85b2d1b42d",
   "metadata": {},
   "source": [
    "<img src=\"../pic/unit04_2_ddw.png\" alt=\"ddw\" width=\"600\"/>"
   ]
  },
  {
   "cell_type": "markdown",
   "id": "f3121a75-8a72-4be1-b4f5-3ae87b45b7e9",
   "metadata": {},
   "source": [
    "## Natural Monopoly"
   ]
  },
  {
   "cell_type": "markdown",
   "id": "b8c73b73-8576-427e-bdbc-e01f0bf0983d",
   "metadata": {},
   "source": [
    "Natural monopoly\n",
    ": Arises due to unique circumstances where high start-up costs and significant economies of scale lead to only one firm being able to efficiently provide the service in a certain territory.<br><br>\n",
    ": Natural monopolies are allowed when a single company can supply a product or service at a lower cost than any potential competitor but are often heavily regulated to protect consumers.<br><br>\n",
    ": e.g. Electricity company and public transport company."
   ]
  },
  {
   "cell_type": "markdown",
   "id": "877d6282-b89f-4895-82d9-5ee91ac606f8",
   "metadata": {},
   "source": [
    "```{note}\n",
    "- Natural monopolists benefit from scales of economy, operating at a very low cost. So, there is no competitor. \n",
    "\n",
    "- Due to the significant cost savings of having one producer in these industries, governments allow some monopolies such as utility companies to operate.\n",
    "\n",
    "- Due to the fear of high prices and poor quality, the government regulates natural monopolies with the goal of increasing efficiency and reducing deadweight loss.\n",
    "```"
   ]
  },
  {
   "cell_type": "markdown",
   "id": "47891ae3-0c91-4e2a-ac34-56c4d544f8ad",
   "metadata": {},
   "source": [
    "Socially optimal pricing\n",
    ": The government regulators force the monopoly to have allocatively efficient pricing at P = MC.<br><br>\n",
    ": Requires a large of subsidy from taxpayers because P > ATC.\n",
    "\n",
    "Fair-Return pricing\n",
    ": Let the monopoly break even and earn a normal profit at P = ATC."
   ]
  },
  {
   "cell_type": "markdown",
   "id": "ccc857f4-8627-4bd8-8da1-3ebf1999e340",
   "metadata": {},
   "source": [
    "<img src=\"../pic/unit04_2_nmono.png\" alt=\"namono\" width=\"600\"/>"
   ]
  }
 ],
 "metadata": {
  "kernelspec": {
   "display_name": "Python 3 (ipykernel)",
   "language": "python",
   "name": "python3"
  },
  "language_info": {
   "codemirror_mode": {
    "name": "ipython",
    "version": 3
   },
   "file_extension": ".py",
   "mimetype": "text/x-python",
   "name": "python",
   "nbconvert_exporter": "python",
   "pygments_lexer": "ipython3",
   "version": "3.8.13"
  }
 },
 "nbformat": 4,
 "nbformat_minor": 5
}
