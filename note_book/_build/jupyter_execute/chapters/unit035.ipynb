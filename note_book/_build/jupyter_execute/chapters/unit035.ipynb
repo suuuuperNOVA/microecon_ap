{
 "cells": [
  {
   "cell_type": "markdown",
   "id": "601fb7a9-cf8c-4418-93f8-5642fbd1d089",
   "metadata": {},
   "source": [
    "# Profit Maximization"
   ]
  },
  {
   "cell_type": "markdown",
   "id": "534dba7e-0bdd-4b3a-82c0-d7838f298c05",
   "metadata": {},
   "source": [
    "```{important}\n",
    "Firms aim to maximize economic profit by producing where <ins>[marginal revenue (MR) equals marginal cost (MC)](content:references:label_mrmc)</ins> 👀<br>\n",
    "\n",
    "<math xmlns=\"http://www.w3.org/1998/Math/MathML\">\n",
    "  <mi>M</mi>\n",
    "  <mi>R</mi>\n",
    "  <mo>=</mo>\n",
    "  <mi>M</mi>\n",
    "  <mi>C</mi>\n",
    "</math>\n",
    "```"
   ]
  },
  {
   "cell_type": "markdown",
   "id": "ab828c5b-1e1d-442d-8f84-c4fa04df15ac",
   "metadata": {},
   "source": [
    "Marginal revenue/MR\n",
    ": Change in total revenue from the sale of an additional product.\n",
    ": <math xmlns=\"http://www.w3.org/1998/Math/MathML\">\n",
    "  <mi>M</mi>\n",
    "  <mi>R</mi>\n",
    "  <mo>=</mo>\n",
    "  <mfrac>\n",
    "    <mrow>\n",
    "      <mi mathvariant=\"normal\">&#x0394;<!-- Δ --></mi>\n",
    "      <mi>T</mi>\n",
    "      <mi>R</mi>\n",
    "    </mrow>\n",
    "    <mrow>\n",
    "      <mi mathvariant=\"normal\">&#x0394;<!-- Δ --></mi>\n",
    "      <mi>Q</mi>\n",
    "    </mrow>\n",
    "  </mfrac>\n",
    "</math>"
   ]
  },
  {
   "cell_type": "markdown",
   "id": "fdcb9b49-7407-4b1b-946e-3399511c7691",
   "metadata": {},
   "source": [
    "The area under the MR curve is the total benefit a producer can get, and the area under the MC curve is the total cost. The net benefit is the difference of the area of 2 curves, which is maximized when MR = MC."
   ]
  },
  {
   "cell_type": "markdown",
   "id": "aab189f7-8fd9-4c34-a83a-6efdfc6f5e61",
   "metadata": {},
   "source": [
    "<img src=\"../pic/unit03_5_MR.png\" alt=\"mrmc\" width=\"600\"/>"
   ]
  },
  {
   "cell_type": "markdown",
   "id": "671507e5-7d15-4055-aae7-13962bfc22e8",
   "metadata": {},
   "source": [
    "> This concept is very important. 15% of the exam questions require to use this rule."
   ]
  },
  {
   "cell_type": "markdown",
   "id": "8635ca6e-5011-4a60-8ccd-3a1a8bca0478",
   "metadata": {},
   "source": [
    "**Example**<br>\n",
    "> To find the profit-maximizing quantity.\n",
    "\n",
    "When the firm's demand curve is at $14, the profit is maximized at MR = MC, where the quantity of output is 400.<br>\n",
    "The formula for profit is (Price - ATC) x Quantity."
   ]
  },
  {
   "cell_type": "markdown",
   "id": "384643e7-78c8-4ed1-9cf8-1cac45998c51",
   "metadata": {},
   "source": [
    "<img src=\"../pic/unit03_5_eg.png\" alt=\"eg\" width=\"600\"/>"
   ]
  }
 ],
 "metadata": {
  "kernelspec": {
   "display_name": "Python 3 (ipykernel)",
   "language": "python",
   "name": "python3"
  },
  "language_info": {
   "codemirror_mode": {
    "name": "ipython",
    "version": 3
   },
   "file_extension": ".py",
   "mimetype": "text/x-python",
   "name": "python",
   "nbconvert_exporter": "python",
   "pygments_lexer": "ipython3",
   "version": "3.8.13"
  }
 },
 "nbformat": 4,
 "nbformat_minor": 5
}