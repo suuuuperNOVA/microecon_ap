{
 "cells": [
  {
   "cell_type": "markdown",
   "id": "3a790c4a-4181-4e44-a134-2c165850c2ea",
   "metadata": {},
   "source": [
    "# Changes in Factor Demand and Factor Supply"
   ]
  },
  {
   "cell_type": "markdown",
   "id": "46d7193a-940c-4e28-bf93-f0f908e364b0",
   "metadata": {},
   "source": [
    "> The demand in the product market in turn creates a demand for the inputs used in production such as labor, which is known as **derived demand**."
   ]
  },
  {
   "cell_type": "markdown",
   "id": "c817a806-346c-4a51-be53-df074e49666e",
   "metadata": {},
   "source": [
    "The supply and demand model can also be used to show the resource/input market as show in the figure below."
   ]
  },
  {
   "cell_type": "code",
   "execution_count": 1,
   "id": "b6af3f9c-6763-4012-9050-cfbce3411e94",
   "metadata": {
    "tags": [
     "remove-input"
    ]
   },
   "outputs": [],
   "source": [
    "import pandas as pd\n",
    "import altair as alt"
   ]
  },
  {
   "cell_type": "code",
   "execution_count": 2,
   "id": "c7901a09-10e0-4c5a-8b9a-49ff29dba7b0",
   "metadata": {
    "tags": [
     "remove-input"
    ]
   },
   "outputs": [
    {
     "data": {
      "text/html": [
       "\n",
       "<div id=\"altair-viz-1745fbbf485a4c83af831c17a81319c4\"></div>\n",
       "<script type=\"text/javascript\">\n",
       "  (function(spec, embedOpt){\n",
       "    let outputDiv = document.currentScript.previousElementSibling;\n",
       "    if (outputDiv.id !== \"altair-viz-1745fbbf485a4c83af831c17a81319c4\") {\n",
       "      outputDiv = document.getElementById(\"altair-viz-1745fbbf485a4c83af831c17a81319c4\");\n",
       "    }\n",
       "    const paths = {\n",
       "      \"vega\": \"https://cdn.jsdelivr.net/npm//vega@5?noext\",\n",
       "      \"vega-lib\": \"https://cdn.jsdelivr.net/npm//vega-lib?noext\",\n",
       "      \"vega-lite\": \"https://cdn.jsdelivr.net/npm//vega-lite@4.8.1?noext\",\n",
       "      \"vega-embed\": \"https://cdn.jsdelivr.net/npm//vega-embed@6?noext\",\n",
       "    };\n",
       "\n",
       "    function loadScript(lib) {\n",
       "      return new Promise(function(resolve, reject) {\n",
       "        var s = document.createElement('script');\n",
       "        s.src = paths[lib];\n",
       "        s.async = true;\n",
       "        s.onload = () => resolve(paths[lib]);\n",
       "        s.onerror = () => reject(`Error loading script: ${paths[lib]}`);\n",
       "        document.getElementsByTagName(\"head\")[0].appendChild(s);\n",
       "      });\n",
       "    }\n",
       "\n",
       "    function showError(err) {\n",
       "      outputDiv.innerHTML = `<div class=\"error\" style=\"color:red;\">${err}</div>`;\n",
       "      throw err;\n",
       "    }\n",
       "\n",
       "    function displayChart(vegaEmbed) {\n",
       "      vegaEmbed(outputDiv, spec, embedOpt)\n",
       "        .catch(err => showError(`Javascript Error: ${err.message}<br>This usually means there's a typo in your chart specification. See the javascript console for the full traceback.`));\n",
       "    }\n",
       "\n",
       "    if(typeof define === \"function\" && define.amd) {\n",
       "      requirejs.config({paths});\n",
       "      require([\"vega-embed\"], displayChart, err => showError(`Error loading script: ${err.message}`));\n",
       "    } else if (typeof vegaEmbed === \"function\") {\n",
       "      displayChart(vegaEmbed);\n",
       "    } else {\n",
       "      loadScript(\"vega\")\n",
       "        .then(() => loadScript(\"vega-lite\"))\n",
       "        .then(() => loadScript(\"vega-embed\"))\n",
       "        .catch(showError)\n",
       "        .then(() => displayChart(vegaEmbed));\n",
       "    }\n",
       "  })({\"config\": {\"view\": {\"continuousWidth\": 400, \"continuousHeight\": 300}}, \"layer\": [{\"data\": {\"name\": \"data-b52e021a0734944d4e2e38e1163d0639\"}, \"mark\": \"line\", \"encoding\": {\"x\": {\"type\": \"quantitative\", \"field\": \"qd\", \"scale\": {\"domain\": [0, 10]}, \"title\": \"Quantity of Workers\"}, \"y\": {\"type\": \"quantitative\", \"field\": \"price\", \"scale\": {\"domain\": [0, 11]}, \"title\": \"Wage Rate\"}}}, {\"data\": {\"name\": \"data-f4791e6d2c5433b743c328a8f6f72260\"}, \"mark\": \"line\", \"encoding\": {\"x\": {\"type\": \"quantitative\", \"field\": \"qs\", \"scale\": {\"domain\": [0, 10]}, \"title\": \"Quantity of Workers\"}, \"y\": {\"type\": \"quantitative\", \"field\": \"price\", \"scale\": {\"domain\": [0, 11]}, \"title\": \"Wage Rate\"}}}, {\"data\": {\"name\": \"data-d399b823e5ed27652ccca1b73313cabb\"}, \"mark\": {\"type\": \"point\", \"color\": \"black\", \"fill\": \"black\", \"size\": 90}, \"encoding\": {\"x\": {\"type\": \"quantitative\", \"field\": \"q\"}, \"y\": {\"type\": \"quantitative\", \"field\": \"price\"}}}, {\"data\": {\"name\": \"data-411b058143eb0c76546a59e0f2efbb64\"}, \"mark\": {\"type\": \"text\", \"fontSize\": 15, \"text\": \"DL\"}, \"encoding\": {\"x\": {\"type\": \"quantitative\", \"field\": \"x\"}, \"y\": {\"type\": \"quantitative\", \"field\": \"y\"}}}, {\"data\": {\"name\": \"data-78eb422e47dc010e08ec7870329a9a72\"}, \"mark\": {\"type\": \"text\", \"fontSize\": 15, \"text\": \"SL\"}, \"encoding\": {\"x\": {\"type\": \"quantitative\", \"field\": \"x\"}, \"y\": {\"type\": \"quantitative\", \"field\": \"y\"}}}, {\"data\": {\"name\": \"data-7e100178d0b30ff53f5f746e95732883\"}, \"mark\": {\"type\": \"text\", \"fontSize\": 15, \"text\": \"E\"}, \"encoding\": {\"x\": {\"type\": \"quantitative\", \"field\": \"x\"}, \"y\": {\"type\": \"quantitative\", \"field\": \"y\"}}}, {\"data\": {\"name\": \"data-69798f96eb95f743177ddc215c0c7d3f\"}, \"mark\": {\"type\": \"line\", \"color\": \"black\", \"strokeDash\": [4, 2]}, \"encoding\": {\"x\": {\"type\": \"quantitative\", \"field\": \"q\"}, \"y\": {\"type\": \"quantitative\", \"field\": \"price\"}}}, {\"data\": {\"name\": \"data-8d3f29c45f05094ed9e8a75ee292382f\"}, \"mark\": {\"type\": \"line\", \"color\": \"black\", \"strokeDash\": [4, 2]}, \"encoding\": {\"x\": {\"type\": \"quantitative\", \"field\": \"q\"}, \"y\": {\"type\": \"quantitative\", \"field\": \"price\"}}}], \"title\": \"Supply and Demand for Labor\", \"$schema\": \"https://vega.github.io/schema/vega-lite/v4.8.1.json\", \"datasets\": {\"data-b52e021a0734944d4e2e38e1163d0639\": [{\"price\": 1, \"qd\": 9}, {\"price\": 2, \"qd\": 8}, {\"price\": 3, \"qd\": 7}, {\"price\": 4, \"qd\": 6}, {\"price\": 5, \"qd\": 5}, {\"price\": 6, \"qd\": 4}, {\"price\": 7, \"qd\": 3}, {\"price\": 8, \"qd\": 2}, {\"price\": 9, \"qd\": 1}, {\"price\": 10, \"qd\": 0}], \"data-f4791e6d2c5433b743c328a8f6f72260\": [{\"price\": 1, \"qs\": 0}, {\"price\": 2, \"qs\": 1}, {\"price\": 3, \"qs\": 2}, {\"price\": 4, \"qs\": 3}, {\"price\": 5, \"qs\": 4}, {\"price\": 6, \"qs\": 5}, {\"price\": 7, \"qs\": 6}, {\"price\": 8, \"qs\": 7}, {\"price\": 9, \"qs\": 8}, {\"price\": 10, \"qs\": 9}], \"data-d399b823e5ed27652ccca1b73313cabb\": [{\"price\": 5.5, \"q\": 4.5}], \"data-411b058143eb0c76546a59e0f2efbb64\": [{\"x\": 9, \"y\": 1.5}], \"data-78eb422e47dc010e08ec7870329a9a72\": [{\"x\": 9, \"y\": 9.5}], \"data-7e100178d0b30ff53f5f746e95732883\": [{\"x\": 5, \"y\": 5.5}], \"data-69798f96eb95f743177ddc215c0c7d3f\": [{\"price\": 5.5, \"q\": 0.0}, {\"price\": 5.5, \"q\": 4.5}], \"data-8d3f29c45f05094ed9e8a75ee292382f\": [{\"price\": 0.0, \"q\": 4.5}, {\"price\": 5.5, \"q\": 4.5}]}}, {\"mode\": \"vega-lite\"});\n",
       "</script>"
      ],
      "text/plain": [
       "alt.LayerChart(...)"
      ]
     },
     "execution_count": 2,
     "metadata": {},
     "output_type": "execute_result"
    }
   ],
   "source": [
    "df_d = pd.DataFrame(data={'price': list(range(1, 11)),\n",
    "                        'qd': list(range(9,-1,-1))\n",
    "                       })\n",
    "\n",
    "df_s = pd.DataFrame(data={'price': list(range(1, 11)),\n",
    "                        'qs': list(range(0,10))\n",
    "                       })\n",
    "\n",
    "df_e = pd.DataFrame(data={'price': [5.5],\n",
    "                        'q': [4.5]\n",
    "                       })\n",
    "\n",
    "fig_eq = alt.Chart(df_d).mark_line().encode(\n",
    "    alt.X('qd', title='Quantity of Workers', scale=alt.Scale(domain=[0,10])),\n",
    "    alt.Y('price', title='Wage Rate', scale=alt.Scale(domain=[0,11])),\n",
    ") + alt.Chart(df_s).mark_line().encode(\n",
    "    alt.X('qs', title='Quantity of Workers', scale=alt.Scale(domain=[0,10])),\n",
    "    alt.Y('price', title='Wage Rate', scale=alt.Scale(domain=[0,11])),\n",
    ") + alt.Chart(df_e).mark_point(size=90, color='black', fill='black').encode(\n",
    "    x='q',\n",
    "    y='price'\n",
    ")\n",
    "\n",
    "text1 = alt.Chart({'values':[{'x': 9, 'y': 1.5}]}).mark_text(\n",
    "    text='DL',\n",
    "    fontSize=15\n",
    ").encode(x='x:Q', y='y:Q')\n",
    "\n",
    "text2 = alt.Chart({'values':[{'x': 9, 'y': 9.5}]}).mark_text(\n",
    "    text='SL',\n",
    "    fontSize=15\n",
    ").encode(x='x:Q', y='y:Q')\n",
    "\n",
    "text3 = alt.Chart({'values':[{'x': 5, 'y': 5.5}]}).mark_text(\n",
    "    text='E',\n",
    "    fontSize=15\n",
    ").encode(x='x:Q', y='y:Q')\n",
    "\n",
    "df_h1 = pd.DataFrame(data={'price': [5.5, 5.5], 'q': [0, 4.5]})\n",
    "fig_h1 = alt.Chart(df_h1).mark_line(color='black', strokeDash=[4, 2]).encode(\n",
    "    alt.X('q'),\n",
    "    alt.Y('price')\n",
    ")\n",
    "\n",
    "df_v1 = pd.DataFrame(data={'price': [0, 5.5], 'q': [4.5, 4.5]})\n",
    "fig_v1 = alt.Chart(df_v1).mark_line(color='black', strokeDash=[4, 2]).encode(\n",
    "    alt.X('q'),\n",
    "    alt.Y('price')\n",
    ")\n",
    "\n",
    "(fig_eq + text1 + text2 + text3 + fig_h1 + fig_v1).properties(title='Supply and Demand for Labor')"
   ]
  },
  {
   "cell_type": "markdown",
   "id": "9016be25-0c8e-4d79-a698-2e708afbf211",
   "metadata": {},
   "source": [
    "## Shifting Resource Demand\n",
    "\n",
    "**Changes in the product demand**<br>\n",
    "An increase in the price of a product then increases MRP and the resources used in production. This would result in more labor being hired.\n",
    "\n",
    "Price of product ↑/Product demand ↑ increases the demand of labor (shifting to right).\n",
    "\n",
    "**Changes in productivity**<br>\n",
    "Increases in productivity can make a firm more profitable and give it a greater incentive to employ more resources and utilize the increased productivity of resources.\n",
    "\n",
    "Productivity ↑ increases the demand of labor (shifting to right).\n",
    "\n",
    "**Changes in the prices of other resources**<br>\n",
    "- Substitute resources<br>If the price of farm machinery decreases relative to farm laborers, the demand of machinery will increase and the demand of laborers will decrease.\n",
    "- Complementary resources<br>If the price of raw materials decreases, more profitable and the demand of laborers will increase.\n"
   ]
  },
  {
   "cell_type": "code",
   "execution_count": 3,
   "id": "c97e129f-9cf5-4eeb-9c4a-c451071e3ef0",
   "metadata": {
    "jupyter": {
     "source_hidden": true
    },
    "tags": [
     "remove-input"
    ]
   },
   "outputs": [
    {
     "data": {
      "text/html": [
       "\n",
       "<div id=\"altair-viz-e4c6323d985d4be0b13bc99f841b8ac7\"></div>\n",
       "<script type=\"text/javascript\">\n",
       "  (function(spec, embedOpt){\n",
       "    let outputDiv = document.currentScript.previousElementSibling;\n",
       "    if (outputDiv.id !== \"altair-viz-e4c6323d985d4be0b13bc99f841b8ac7\") {\n",
       "      outputDiv = document.getElementById(\"altair-viz-e4c6323d985d4be0b13bc99f841b8ac7\");\n",
       "    }\n",
       "    const paths = {\n",
       "      \"vega\": \"https://cdn.jsdelivr.net/npm//vega@5?noext\",\n",
       "      \"vega-lib\": \"https://cdn.jsdelivr.net/npm//vega-lib?noext\",\n",
       "      \"vega-lite\": \"https://cdn.jsdelivr.net/npm//vega-lite@4.8.1?noext\",\n",
       "      \"vega-embed\": \"https://cdn.jsdelivr.net/npm//vega-embed@6?noext\",\n",
       "    };\n",
       "\n",
       "    function loadScript(lib) {\n",
       "      return new Promise(function(resolve, reject) {\n",
       "        var s = document.createElement('script');\n",
       "        s.src = paths[lib];\n",
       "        s.async = true;\n",
       "        s.onload = () => resolve(paths[lib]);\n",
       "        s.onerror = () => reject(`Error loading script: ${paths[lib]}`);\n",
       "        document.getElementsByTagName(\"head\")[0].appendChild(s);\n",
       "      });\n",
       "    }\n",
       "\n",
       "    function showError(err) {\n",
       "      outputDiv.innerHTML = `<div class=\"error\" style=\"color:red;\">${err}</div>`;\n",
       "      throw err;\n",
       "    }\n",
       "\n",
       "    function displayChart(vegaEmbed) {\n",
       "      vegaEmbed(outputDiv, spec, embedOpt)\n",
       "        .catch(err => showError(`Javascript Error: ${err.message}<br>This usually means there's a typo in your chart specification. See the javascript console for the full traceback.`));\n",
       "    }\n",
       "\n",
       "    if(typeof define === \"function\" && define.amd) {\n",
       "      requirejs.config({paths});\n",
       "      require([\"vega-embed\"], displayChart, err => showError(`Error loading script: ${err.message}`));\n",
       "    } else if (typeof vegaEmbed === \"function\") {\n",
       "      displayChart(vegaEmbed);\n",
       "    } else {\n",
       "      loadScript(\"vega\")\n",
       "        .then(() => loadScript(\"vega-lite\"))\n",
       "        .then(() => loadScript(\"vega-embed\"))\n",
       "        .catch(showError)\n",
       "        .then(() => displayChart(vegaEmbed));\n",
       "    }\n",
       "  })({\"config\": {\"view\": {\"continuousWidth\": 400, \"continuousHeight\": 300}}, \"layer\": [{\"data\": {\"name\": \"data-b52e021a0734944d4e2e38e1163d0639\"}, \"mark\": \"line\", \"encoding\": {\"x\": {\"type\": \"quantitative\", \"field\": \"qd\", \"scale\": {\"domain\": [0, 10]}, \"title\": \"Quantity of Workers\"}, \"y\": {\"type\": \"quantitative\", \"field\": \"price\", \"scale\": {\"domain\": [0, 11]}, \"title\": \"Wage Rate\"}}}, {\"data\": {\"name\": \"data-f4791e6d2c5433b743c328a8f6f72260\"}, \"mark\": \"line\", \"encoding\": {\"x\": {\"type\": \"quantitative\", \"field\": \"qs\", \"scale\": {\"domain\": [0, 10]}, \"title\": \"Quantity of Workers\"}, \"y\": {\"type\": \"quantitative\", \"field\": \"price\", \"scale\": {\"domain\": [0, 11]}, \"title\": \"Wage Rate\"}}}, {\"data\": {\"name\": \"data-d399b823e5ed27652ccca1b73313cabb\"}, \"mark\": {\"type\": \"point\", \"color\": \"black\", \"fill\": \"black\", \"size\": 90}, \"encoding\": {\"x\": {\"type\": \"quantitative\", \"field\": \"q\"}, \"y\": {\"type\": \"quantitative\", \"field\": \"price\"}}}, {\"data\": {\"name\": \"data-93f18ea3f997e46b4c8a77fe4feec911\"}, \"mark\": {\"type\": \"text\", \"fontSize\": 15, \"text\": \"DL0\"}, \"encoding\": {\"x\": {\"type\": \"quantitative\", \"field\": \"x\"}, \"y\": {\"type\": \"quantitative\", \"field\": \"y\"}}}, {\"data\": {\"name\": \"data-78eb422e47dc010e08ec7870329a9a72\"}, \"mark\": {\"type\": \"text\", \"fontSize\": 15, \"text\": \"SL\"}, \"encoding\": {\"x\": {\"type\": \"quantitative\", \"field\": \"x\"}, \"y\": {\"type\": \"quantitative\", \"field\": \"y\"}}}, {\"data\": {\"name\": \"data-7e100178d0b30ff53f5f746e95732883\"}, \"mark\": {\"type\": \"text\", \"fontSize\": 15, \"text\": \"E0\"}, \"encoding\": {\"x\": {\"type\": \"quantitative\", \"field\": \"x\"}, \"y\": {\"type\": \"quantitative\", \"field\": \"y\"}}}, {\"data\": {\"name\": \"data-498fdeec1f0f7da2fb2e8a2d6fb04553\"}, \"mark\": {\"type\": \"text\", \"fontSize\": 15, \"text\": \"E1\"}, \"encoding\": {\"x\": {\"type\": \"quantitative\", \"field\": \"x\"}, \"y\": {\"type\": \"quantitative\", \"field\": \"y\"}}}, {\"data\": {\"name\": \"data-c7bf9576517b30fd82269b5e3e3ca2e3\"}, \"mark\": {\"type\": \"text\", \"fontSize\": 40, \"text\": \"\\u279f\"}, \"encoding\": {\"x\": {\"type\": \"quantitative\", \"field\": \"x\"}, \"y\": {\"type\": \"quantitative\", \"field\": \"y\"}}}, {\"data\": {\"name\": \"data-814e6d3af481940900abdec8f40c03ea\"}, \"mark\": {\"type\": \"text\", \"fontSize\": 15, \"text\": \"DL1\"}, \"encoding\": {\"x\": {\"type\": \"quantitative\", \"field\": \"x\"}, \"y\": {\"type\": \"quantitative\", \"field\": \"y\"}}}, {\"layer\": [{\"data\": {\"name\": \"data-fb15055763d03ba9818aeeccc9f979db\"}, \"mark\": {\"type\": \"line\", \"clip\": true, \"color\": \"green\"}, \"encoding\": {\"x\": {\"type\": \"quantitative\", \"field\": \"qd\", \"scale\": {\"domain\": [0, 10]}, \"title\": \"Quantity of Workers\"}, \"y\": {\"type\": \"quantitative\", \"field\": \"price\", \"scale\": {\"domain\": [0, 11]}, \"title\": \"Wage Rate\"}}}, {\"data\": {\"name\": \"data-eb4fd1c40e9ab83a5e2c930c755396c8\"}, \"mark\": {\"type\": \"point\", \"color\": \"black\", \"fill\": \"black\", \"size\": 90}, \"encoding\": {\"x\": {\"type\": \"quantitative\", \"field\": \"q\"}, \"y\": {\"type\": \"quantitative\", \"field\": \"price\"}}}]}], \"title\": \"Shifts of Demand of Labor\", \"$schema\": \"https://vega.github.io/schema/vega-lite/v4.8.1.json\", \"datasets\": {\"data-b52e021a0734944d4e2e38e1163d0639\": [{\"price\": 1, \"qd\": 9}, {\"price\": 2, \"qd\": 8}, {\"price\": 3, \"qd\": 7}, {\"price\": 4, \"qd\": 6}, {\"price\": 5, \"qd\": 5}, {\"price\": 6, \"qd\": 4}, {\"price\": 7, \"qd\": 3}, {\"price\": 8, \"qd\": 2}, {\"price\": 9, \"qd\": 1}, {\"price\": 10, \"qd\": 0}], \"data-f4791e6d2c5433b743c328a8f6f72260\": [{\"price\": 1, \"qs\": 0}, {\"price\": 2, \"qs\": 1}, {\"price\": 3, \"qs\": 2}, {\"price\": 4, \"qs\": 3}, {\"price\": 5, \"qs\": 4}, {\"price\": 6, \"qs\": 5}, {\"price\": 7, \"qs\": 6}, {\"price\": 8, \"qs\": 7}, {\"price\": 9, \"qs\": 8}, {\"price\": 10, \"qs\": 9}], \"data-d399b823e5ed27652ccca1b73313cabb\": [{\"price\": 5.5, \"q\": 4.5}], \"data-93f18ea3f997e46b4c8a77fe4feec911\": [{\"x\": 9.2, \"y\": 1.5}], \"data-78eb422e47dc010e08ec7870329a9a72\": [{\"x\": 9, \"y\": 9.5}], \"data-7e100178d0b30ff53f5f746e95732883\": [{\"x\": 5, \"y\": 5.5}], \"data-498fdeec1f0f7da2fb2e8a2d6fb04553\": [{\"x\": 6, \"y\": 6.5}], \"data-c7bf9576517b30fd82269b5e3e3ca2e3\": [{\"x\": 8, \"y\": 2.9}], \"data-814e6d3af481940900abdec8f40c03ea\": [{\"x\": 9.7, \"y\": 3}], \"data-fb15055763d03ba9818aeeccc9f979db\": [{\"price\": 1, \"qd\": 11}, {\"price\": 2, \"qd\": 10}, {\"price\": 3, \"qd\": 9}, {\"price\": 4, \"qd\": 8}, {\"price\": 5, \"qd\": 7}, {\"price\": 6, \"qd\": 6}, {\"price\": 7, \"qd\": 5}, {\"price\": 8, \"qd\": 4}, {\"price\": 9, \"qd\": 3}, {\"price\": 10, \"qd\": 2}], \"data-eb4fd1c40e9ab83a5e2c930c755396c8\": [{\"price\": 6.5, \"q\": 5.5}]}}, {\"mode\": \"vega-lite\"});\n",
       "</script>"
      ],
      "text/plain": [
       "alt.LayerChart(...)"
      ]
     },
     "execution_count": 3,
     "metadata": {},
     "output_type": "execute_result"
    }
   ],
   "source": [
    "df_d2 = pd.DataFrame(data={'price': list(range(1, 11)),\n",
    "                        'qd': list(range(11,1,-1))\n",
    "                       })\n",
    "\n",
    "df_e = pd.DataFrame(data={'price': [6.5],\n",
    "                        'q': [5.5]\n",
    "                       })\n",
    "\n",
    "fig_eq2 = alt.Chart(df_d2).mark_line(clip=True, color='green').encode(\n",
    "    alt.X('qd', title='Quantity of Workers', scale=alt.Scale(domain=[0,10])),\n",
    "    alt.Y('price', title='Wage Rate', scale=alt.Scale(domain=[0,11])),\n",
    ") + alt.Chart(df_e).mark_point(size=90, color='black', fill='black').encode(\n",
    "    x='q',\n",
    "    y='price'\n",
    ")\n",
    "\n",
    "text1 = alt.Chart({'values':[{'x': 9.2, 'y': 1.5}]}).mark_text(\n",
    "    text='DL0',\n",
    "    fontSize=15\n",
    ").encode(x='x:Q', y='y:Q')\n",
    "\n",
    "text3 = alt.Chart({'values':[{'x': 5, 'y': 5.5}]}).mark_text(\n",
    "    text='E0',\n",
    "    fontSize=15\n",
    ").encode(x='x:Q', y='y:Q')\n",
    "\n",
    "text4 = alt.Chart({'values':[{'x': 6, 'y': 6.5}]}).mark_text(\n",
    "    text='E1',\n",
    "    fontSize=15\n",
    ").encode(x='x:Q', y='y:Q')\n",
    "\n",
    "text5 = alt.Chart({'values':[{'x': 8, 'y': 2.9}]}).mark_text(\n",
    "    text='➟',\n",
    "    fontSize=40\n",
    ").encode(x='x:Q', y='y:Q')\n",
    "\n",
    "text6 = alt.Chart({'values':[{'x': 9.7, 'y': 3}]}).mark_text(\n",
    "    text='DL1',\n",
    "    fontSize=15\n",
    ").encode(x='x:Q', y='y:Q')\n",
    "\n",
    "\n",
    "(fig_eq + text1 + text2 + text3 + text4 + text5 + text6 +fig_eq2).properties(title='Shifts of Demand of Labor')"
   ]
  },
  {
   "cell_type": "markdown",
   "id": "da8e7aff-cd7a-48d4-a766-b7db95f216d6",
   "metadata": {},
   "source": [
    "## Shifting Resource Supply\n",
    "\n",
    "**Changes in preferences for leisure**<br>\n",
    "If people prefer less leisure time, they will choose to work more, increasing the supply of laborers (shift to right).\n",
    "\n",
    "**Changes in population/immigration**<br>\n",
    "If the population increases, or immigrants increases, the supply of laborers will increase (shift to right).\n",
    "\n",
    "**Changes in working condition**<br>\n",
    "If the work condition is improved, the supply of laborers will increase (shift to right).\n",
    "\n",
    "**Changes in education/training**<br>\n",
    "If the more people are educated , the supply of skilled laborers will increase (shift to right)."
   ]
  },
  {
   "cell_type": "code",
   "execution_count": 4,
   "id": "01ad0984-9261-4b19-a365-2e7f41bf76eb",
   "metadata": {
    "jupyter": {
     "source_hidden": true
    },
    "tags": [
     "remove-input"
    ]
   },
   "outputs": [
    {
     "data": {
      "text/html": [
       "\n",
       "<div id=\"altair-viz-44bd1a5dcbdb4ad5a87b4d969a092938\"></div>\n",
       "<script type=\"text/javascript\">\n",
       "  (function(spec, embedOpt){\n",
       "    let outputDiv = document.currentScript.previousElementSibling;\n",
       "    if (outputDiv.id !== \"altair-viz-44bd1a5dcbdb4ad5a87b4d969a092938\") {\n",
       "      outputDiv = document.getElementById(\"altair-viz-44bd1a5dcbdb4ad5a87b4d969a092938\");\n",
       "    }\n",
       "    const paths = {\n",
       "      \"vega\": \"https://cdn.jsdelivr.net/npm//vega@5?noext\",\n",
       "      \"vega-lib\": \"https://cdn.jsdelivr.net/npm//vega-lib?noext\",\n",
       "      \"vega-lite\": \"https://cdn.jsdelivr.net/npm//vega-lite@4.8.1?noext\",\n",
       "      \"vega-embed\": \"https://cdn.jsdelivr.net/npm//vega-embed@6?noext\",\n",
       "    };\n",
       "\n",
       "    function loadScript(lib) {\n",
       "      return new Promise(function(resolve, reject) {\n",
       "        var s = document.createElement('script');\n",
       "        s.src = paths[lib];\n",
       "        s.async = true;\n",
       "        s.onload = () => resolve(paths[lib]);\n",
       "        s.onerror = () => reject(`Error loading script: ${paths[lib]}`);\n",
       "        document.getElementsByTagName(\"head\")[0].appendChild(s);\n",
       "      });\n",
       "    }\n",
       "\n",
       "    function showError(err) {\n",
       "      outputDiv.innerHTML = `<div class=\"error\" style=\"color:red;\">${err}</div>`;\n",
       "      throw err;\n",
       "    }\n",
       "\n",
       "    function displayChart(vegaEmbed) {\n",
       "      vegaEmbed(outputDiv, spec, embedOpt)\n",
       "        .catch(err => showError(`Javascript Error: ${err.message}<br>This usually means there's a typo in your chart specification. See the javascript console for the full traceback.`));\n",
       "    }\n",
       "\n",
       "    if(typeof define === \"function\" && define.amd) {\n",
       "      requirejs.config({paths});\n",
       "      require([\"vega-embed\"], displayChart, err => showError(`Error loading script: ${err.message}`));\n",
       "    } else if (typeof vegaEmbed === \"function\") {\n",
       "      displayChart(vegaEmbed);\n",
       "    } else {\n",
       "      loadScript(\"vega\")\n",
       "        .then(() => loadScript(\"vega-lite\"))\n",
       "        .then(() => loadScript(\"vega-embed\"))\n",
       "        .catch(showError)\n",
       "        .then(() => displayChart(vegaEmbed));\n",
       "    }\n",
       "  })({\"config\": {\"view\": {\"continuousWidth\": 400, \"continuousHeight\": 300}}, \"layer\": [{\"data\": {\"name\": \"data-b52e021a0734944d4e2e38e1163d0639\"}, \"mark\": \"line\", \"encoding\": {\"x\": {\"type\": \"quantitative\", \"field\": \"qd\", \"scale\": {\"domain\": [0, 10]}, \"title\": \"Quantity of Workers\"}, \"y\": {\"type\": \"quantitative\", \"field\": \"price\", \"scale\": {\"domain\": [0, 11]}, \"title\": \"Wage Rate\"}}}, {\"data\": {\"name\": \"data-f4791e6d2c5433b743c328a8f6f72260\"}, \"mark\": \"line\", \"encoding\": {\"x\": {\"type\": \"quantitative\", \"field\": \"qs\", \"scale\": {\"domain\": [0, 10]}, \"title\": \"Quantity of Workers\"}, \"y\": {\"type\": \"quantitative\", \"field\": \"price\", \"scale\": {\"domain\": [0, 11]}, \"title\": \"Wage Rate\"}}}, {\"data\": {\"name\": \"data-d399b823e5ed27652ccca1b73313cabb\"}, \"mark\": {\"type\": \"point\", \"color\": \"black\", \"fill\": \"black\", \"size\": 90}, \"encoding\": {\"x\": {\"type\": \"quantitative\", \"field\": \"q\"}, \"y\": {\"type\": \"quantitative\", \"field\": \"price\"}}}, {\"data\": {\"name\": \"data-93f18ea3f997e46b4c8a77fe4feec911\"}, \"mark\": {\"type\": \"text\", \"fontSize\": 15, \"text\": \"DL0\"}, \"encoding\": {\"x\": {\"type\": \"quantitative\", \"field\": \"x\"}, \"y\": {\"type\": \"quantitative\", \"field\": \"y\"}}}, {\"data\": {\"name\": \"data-78eb422e47dc010e08ec7870329a9a72\"}, \"mark\": {\"type\": \"text\", \"fontSize\": 15, \"text\": \"SL0\"}, \"encoding\": {\"x\": {\"type\": \"quantitative\", \"field\": \"x\"}, \"y\": {\"type\": \"quantitative\", \"field\": \"y\"}}}, {\"data\": {\"name\": \"data-7e100178d0b30ff53f5f746e95732883\"}, \"mark\": {\"type\": \"text\", \"fontSize\": 15, \"text\": \"E0\"}, \"encoding\": {\"x\": {\"type\": \"quantitative\", \"field\": \"x\"}, \"y\": {\"type\": \"quantitative\", \"field\": \"y\"}}}, {\"data\": {\"name\": \"data-81edcdd18f4710a77af8f8e1468b7292\"}, \"mark\": {\"type\": \"text\", \"fontSize\": 15, \"text\": \"E1\"}, \"encoding\": {\"x\": {\"type\": \"quantitative\", \"field\": \"x\"}, \"y\": {\"type\": \"quantitative\", \"field\": \"y\"}}}, {\"data\": {\"name\": \"data-fd29a84a6539c93dda5c0400e94307fe\"}, \"mark\": {\"type\": \"text\", \"fontSize\": 40, \"text\": \"\\u279f\"}, \"encoding\": {\"x\": {\"type\": \"quantitative\", \"field\": \"x\"}, \"y\": {\"type\": \"quantitative\", \"field\": \"y\"}}}, {\"data\": {\"name\": \"data-d1a7ace4bd5b7425fbe8b74446407f22\"}, \"mark\": {\"type\": \"text\", \"fontSize\": 15, \"text\": \"SL1\"}, \"encoding\": {\"x\": {\"type\": \"quantitative\", \"field\": \"x\"}, \"y\": {\"type\": \"quantitative\", \"field\": \"y\"}}}, {\"layer\": [{\"data\": {\"name\": \"data-167be7727574e7eb70c072f365fe0acd\"}, \"mark\": {\"type\": \"line\", \"clip\": true, \"color\": \"green\"}, \"encoding\": {\"x\": {\"type\": \"quantitative\", \"field\": \"qs\", \"scale\": {\"domain\": [0, 10]}, \"title\": \"Quantity of Workers\"}, \"y\": {\"type\": \"quantitative\", \"field\": \"price\", \"scale\": {\"domain\": [0, 11]}, \"title\": \"Wage Rate\"}}}, {\"data\": {\"name\": \"data-fb8ec82848cda1416a672712c332059e\"}, \"mark\": {\"type\": \"point\", \"color\": \"black\", \"fill\": \"black\", \"size\": 90}, \"encoding\": {\"x\": {\"type\": \"quantitative\", \"field\": \"q\"}, \"y\": {\"type\": \"quantitative\", \"field\": \"price\"}}}]}], \"title\": \"Shifts of Supply of Labor\", \"$schema\": \"https://vega.github.io/schema/vega-lite/v4.8.1.json\", \"datasets\": {\"data-b52e021a0734944d4e2e38e1163d0639\": [{\"price\": 1, \"qd\": 9}, {\"price\": 2, \"qd\": 8}, {\"price\": 3, \"qd\": 7}, {\"price\": 4, \"qd\": 6}, {\"price\": 5, \"qd\": 5}, {\"price\": 6, \"qd\": 4}, {\"price\": 7, \"qd\": 3}, {\"price\": 8, \"qd\": 2}, {\"price\": 9, \"qd\": 1}, {\"price\": 10, \"qd\": 0}], \"data-f4791e6d2c5433b743c328a8f6f72260\": [{\"price\": 1, \"qs\": 0}, {\"price\": 2, \"qs\": 1}, {\"price\": 3, \"qs\": 2}, {\"price\": 4, \"qs\": 3}, {\"price\": 5, \"qs\": 4}, {\"price\": 6, \"qs\": 5}, {\"price\": 7, \"qs\": 6}, {\"price\": 8, \"qs\": 7}, {\"price\": 9, \"qs\": 8}, {\"price\": 10, \"qs\": 9}], \"data-d399b823e5ed27652ccca1b73313cabb\": [{\"price\": 5.5, \"q\": 4.5}], \"data-93f18ea3f997e46b4c8a77fe4feec911\": [{\"x\": 9.2, \"y\": 1.5}], \"data-78eb422e47dc010e08ec7870329a9a72\": [{\"x\": 9, \"y\": 9.5}], \"data-7e100178d0b30ff53f5f746e95732883\": [{\"x\": 5, \"y\": 5.5}], \"data-81edcdd18f4710a77af8f8e1468b7292\": [{\"x\": 6, \"y\": 4.5}], \"data-fd29a84a6539c93dda5c0400e94307fe\": [{\"x\": 8, \"y\": 8}], \"data-d1a7ace4bd5b7425fbe8b74446407f22\": [{\"x\": 9, \"y\": 7.5}], \"data-167be7727574e7eb70c072f365fe0acd\": [{\"price\": 1, \"qs\": 2}, {\"price\": 2, \"qs\": 3}, {\"price\": 3, \"qs\": 4}, {\"price\": 4, \"qs\": 5}, {\"price\": 5, \"qs\": 6}, {\"price\": 6, \"qs\": 7}, {\"price\": 7, \"qs\": 8}, {\"price\": 8, \"qs\": 9}, {\"price\": 9, \"qs\": 10}, {\"price\": 10, \"qs\": 11}], \"data-fb8ec82848cda1416a672712c332059e\": [{\"price\": 4.5, \"q\": 5.5}]}}, {\"mode\": \"vega-lite\"});\n",
       "</script>"
      ],
      "text/plain": [
       "alt.LayerChart(...)"
      ]
     },
     "execution_count": 4,
     "metadata": {},
     "output_type": "execute_result"
    }
   ],
   "source": [
    "df_s2 = pd.DataFrame(data={'price': list(range(1, 11)),\n",
    "                        'qs': list(range(2,12))\n",
    "                       })\n",
    "\n",
    "df_e = pd.DataFrame(data={'price': [4.5],\n",
    "                        'q': [5.5]\n",
    "                       })\n",
    "\n",
    "fig_eq2 = alt.Chart(df_s2).mark_line(clip=True, color='green').encode(\n",
    "    alt.X('qs', title='Quantity of Workers', scale=alt.Scale(domain=[0,10])),\n",
    "    alt.Y('price', title='Wage Rate', scale=alt.Scale(domain=[0,11])),\n",
    ") + alt.Chart(df_e).mark_point(size=90, color='black', fill='black').encode(\n",
    "    x='q',\n",
    "    y='price'\n",
    ")\n",
    "\n",
    "text2 = alt.Chart({'values':[{'x': 9, 'y': 9.5}]}).mark_text(\n",
    "    text='SL0',\n",
    "    fontSize=15\n",
    ").encode(x='x:Q', y='y:Q')\n",
    "\n",
    "text3 = alt.Chart({'values':[{'x': 5, 'y': 5.5}]}).mark_text(\n",
    "    text='E0',\n",
    "    fontSize=15\n",
    ").encode(x='x:Q', y='y:Q')\n",
    "\n",
    "text4 = alt.Chart({'values':[{'x': 6, 'y': 4.5}]}).mark_text(\n",
    "    text='E1',\n",
    "    fontSize=15\n",
    ").encode(x='x:Q', y='y:Q')\n",
    "\n",
    "text5 = alt.Chart({'values':[{'x': 8, 'y': 8}]}).mark_text(\n",
    "    text='➟',\n",
    "    fontSize=40\n",
    ").encode(x='x:Q', y='y:Q')\n",
    "\n",
    "text6 = alt.Chart({'values':[{'x': 9, 'y': 7.5}]}).mark_text(\n",
    "    text='SL1',\n",
    "    fontSize=15\n",
    ").encode(x='x:Q', y='y:Q')\n",
    "\n",
    "\n",
    "(fig_eq + text1 + text2 + text3 + text4 + text5 + text6 +fig_eq2).properties(title='Shifts of Supply of Labor')"
   ]
  }
 ],
 "metadata": {
  "kernelspec": {
   "display_name": "Python 3 (ipykernel)",
   "language": "python",
   "name": "python3"
  },
  "language_info": {
   "codemirror_mode": {
    "name": "ipython",
    "version": 3
   },
   "file_extension": ".py",
   "mimetype": "text/x-python",
   "name": "python",
   "nbconvert_exporter": "python",
   "pygments_lexer": "ipython3",
   "version": "3.8.13"
  }
 },
 "nbformat": 4,
 "nbformat_minor": 5
}