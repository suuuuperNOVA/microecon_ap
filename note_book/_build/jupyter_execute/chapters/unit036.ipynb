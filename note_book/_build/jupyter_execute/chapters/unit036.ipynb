{
 "cells": [
  {
   "cell_type": "markdown",
   "id": "a0da3a34-17a4-4321-8d2d-f1e7097d1f3e",
   "metadata": {},
   "source": [
    "# Firms' Short-Run Decisions to Produce and Long-Run Decisions to Enter or Exit a Market"
   ]
  },
  {
   "cell_type": "markdown",
   "id": "db652496-8568-4cdd-a406-956a334ab885",
   "metadata": {},
   "source": [
    "## Short-Run Decisions\n",
    "\n",
    "1. The **shut-down rule** states that firms should not produce when **price falls below AVC**. The more produced, the greater loss.\n",
    "1. When P > AVC, a firm should continue to produce as long as MR > MC up to the level of output at which MR = MC; the profit is maximized.\n",
    "1. When P > AVC but P < ATC, a firm should continue to produce until MR = MC where the total loss is minimized."
   ]
  },
  {
   "cell_type": "markdown",
   "id": "34fe11c3-0f23-4ceb-8cd5-606481fd00dc",
   "metadata": {},
   "source": [
    "> The figure below shows **loss minimization**."
   ]
  },
  {
   "cell_type": "markdown",
   "id": "dfb8c41d-94de-40b0-92b0-7e2b6d1174d5",
   "metadata": {},
   "source": [
    "```{tip}\n",
    "For convenience, MC can be taken as a short-run **supply** curve and MR can be taken as a **demand** curve.\n",
    "```"
   ]
  },
  {
   "cell_type": "markdown",
   "id": "e76e72ab-a7c5-4e70-90f4-3baf631b39e2",
   "metadata": {},
   "source": [
    "<img src=\"../pic/unit03_6_loss.png\" alt=\"loss\" width=\"600\"/>"
   ]
  },
  {
   "cell_type": "markdown",
   "id": "d9fc0d77-724f-49c6-bb96-ccb0e20da641",
   "metadata": {},
   "source": [
    "## Long-Run Decisions"
   ]
  },
  {
   "cell_type": "markdown",
   "id": "c4cf0051-8956-4b08-90e0-8d5c72b53840",
   "metadata": {},
   "source": [
    "Whether to enter or leave depends on the **economic profit**.\n",
    "- In a perfect competition market, firms have no barrier to entry or exit.\n",
    "- When the firms can earn economic profits, they will enter.\n",
    "- Profits will attract new competition and firms, while losses create incentives to leave the market."
   ]
  },
  {
   "cell_type": "markdown",
   "id": "ea3e2d01-0f84-4597-bbd6-9c02209da3cf",
   "metadata": {},
   "source": [
    "In the short run, firms can have positive economic profit. Then, more firms will enter because of positive economic profit. Finally, in the **long run**, the economic profit will become 0 (**normal profit**) with more firms getting into the industry."
   ]
  }
 ],
 "metadata": {
  "kernelspec": {
   "display_name": "Python 3 (ipykernel)",
   "language": "python",
   "name": "python3"
  },
  "language_info": {
   "codemirror_mode": {
    "name": "ipython",
    "version": 3
   },
   "file_extension": ".py",
   "mimetype": "text/x-python",
   "name": "python",
   "nbconvert_exporter": "python",
   "pygments_lexer": "ipython3",
   "version": "3.8.13"
  }
 },
 "nbformat": 4,
 "nbformat_minor": 5
}