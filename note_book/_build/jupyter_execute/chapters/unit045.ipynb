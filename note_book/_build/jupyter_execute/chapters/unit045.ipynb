{
 "cells": [
  {
   "cell_type": "markdown",
   "id": "94a9e8d1-a197-413b-929b-5503530c9211",
   "metadata": {},
   "source": [
    "# Oligopoly and Game Theory"
   ]
  },
  {
   "cell_type": "markdown",
   "id": "2b8be928-1d31-490f-8c7a-f9cf6ff9154d",
   "metadata": {},
   "source": [
    "Oligopoly\n",
    ": A very small number of firms have market dominance (less than 10).\n",
    ": Firms use strategic pricing (**price interdependence**).\n",
    "\n",
    "Features of oligopoly:\n",
    "- A few large producers\n",
    "- Identical or differentiated products\n",
    "- High barriers to entry\n",
    "- Control over price (price maker)\n",
    "- Collusion"
   ]
  },
  {
   "cell_type": "markdown",
   "id": "6f579af9-3781-4dcb-8888-8b1e4903aeef",
   "metadata": {},
   "source": [
    "Collusion\n",
    ": An agreement (usually illegal) is drawn up to agree on what price and quantity will be produced in a market.\n",
    ": e.g. OPEC, also called **cartel** (a groups of firms acting together and not to compete)."
   ]
  },
  {
   "cell_type": "markdown",
   "id": "77a4a161-a6c4-417d-9528-5e48c9676a19",
   "metadata": {},
   "source": [
    "## Oligopoly with Game Theory"
   ]
  },
  {
   "cell_type": "markdown",
   "id": "75632978-63f4-4317-9121-330809829b93",
   "metadata": {},
   "source": [
    "```{admonition} Prisoner's Dilemma\n",
    "Charged with a crime, each prisoner has one of 2 choices: Deny or Confess. What would they choose?<br>\n",
    "\n",
    "Both A and B would choose to confess.<br>\n",
    "\n",
    "|   |B|Deny|Confess|\n",
    "|:---|:---|:---|:---|\n",
    "|**A**|**Deny**|5 years<br>each|B = free<br>A = 20 years|\n",
    "||**Confess**|A = free<br>B = 20 years|10 years<br>each|\n",
    "\n",
    "This example shows that when each individual pursues their own self-interest, the outcome is worse than if they had both cooperated.<br>\n",
    "\n",
    "So, firms have an incentive to collude but also an incentive to cheat on the agreement.\n",
    "```"
   ]
  },
  {
   "cell_type": "markdown",
   "id": "78cb4f44-8d9d-48e6-957e-512a5c45fd4b",
   "metadata": {},
   "source": [
    "Game theory\n",
    ": Study of how people and firms act strategically in the context of a game."
   ]
  },
  {
   "cell_type": "markdown",
   "id": "69891732-c652-4ff7-b599-ba21825b115c",
   "metadata": {},
   "source": [
    "> Within oligopolies, the strategies employed by a firm to maximize profits depend on other firms' actions. A firm may have a **dominant strategy**."
   ]
  },
  {
   "cell_type": "markdown",
   "id": "9a5dd21a-2b31-433f-9702-5bfe6f3bb127",
   "metadata": {},
   "source": [
    "Dominant strategy\n",
    ": Best choice for a player regardless of what the other players chooses."
   ]
  },
  {
   "cell_type": "markdown",
   "id": "4e3fac38-4eaf-4ecb-a47e-c1943c4b8268",
   "metadata": {},
   "source": [
    "**Example**<br>\n",
    "Firm A and Firm B have 2 pricing options whether to set a high price or a low price. If both A and set a high price, A will make \\\\$100 and B will make \\\\$50.\n",
    "\n",
    "|   |B|High|Low|\n",
    "|:---|:---|:---|:---|\n",
    "|**A**|**High**|A = \\\\$100<br>B = \\\\$50|A = \\\\$60<br>B = \\\\$90|\n",
    "||**Lows**|A = \\\\$50<br>B = \\\\$40|A = \\\\$20<br>B = \\\\$10|"
   ]
  },
  {
   "cell_type": "markdown",
   "id": "a500fe38-f061-4754-9d4d-06554a45f89d",
   "metadata": {},
   "source": [
    "- Based on the matrix above, A has a dominant strategy, pricing at a **high** price because A would always have greater profits regardless of B's choice.\n",
    "- But B doesn't have a dominant strategy.\n",
    "- Since A would set a high price anyway, B should set a low price to make more profits.\n",
    "- When A sets high and B sets low, it's called **nash equilibrium**."
   ]
  },
  {
   "cell_type": "markdown",
   "id": "36535a2c-4c9b-4644-ac09-880f1e3c1714",
   "metadata": {},
   "source": [
    "Nash equilibrium\n",
    ": Optimal outcome that will occur when both firms make decisions simultaneously and have no incentive to change."
   ]
  },
  {
   "cell_type": "markdown",
   "id": "c9493326-5c42-4326-9d13-6f34c9c33a41",
   "metadata": {},
   "source": [
    "## Graphs of Colluding Oligopolies\n",
    "\n",
    "1. Cartels set price and output at an agreed upon level; \n",
    "1. Firms require identical or highly similar demand and costs; \n",
    "1. Cartel must have a way to punish cheaters;\n",
    "1. Together they act as a monopoly.\n",
    "\n",
    "Firms in a colluding oligopoly act as a **monopoly** and share the profit."
   ]
  },
  {
   "cell_type": "markdown",
   "id": "078c546d-b945-454e-8d72-c23bef392106",
   "metadata": {},
   "source": [
    "### Kinked Demand Curve Model\n",
    "\n",
    "> It shows how noncollusive firms are interdependent.\n",
    "\n",
    "If firms are not colluding they are likely to react to competitors’ pricing in 2 ways:\n",
    "- Match price/**Price leadership**<br>If one firm cuts it’s prices, then the other firms follow suit causing inelastic demand.\n",
    "- Ignore change<br>If one firm raises prices, others maintain same price causing elastic demand."
   ]
  },
  {
   "cell_type": "markdown",
   "id": "8fecaafa-1daf-4af0-83fc-62dabfce0321",
   "metadata": {},
   "source": [
    "> The figure below shows the kinked demand curve model of a non-colluded oligopoly.\n",
    "\n",
    "1. If this firm increases its price, other firms will ignore it and keep prices the same. As the only firm with high prices, quantity demanded for this firm will decrease a lot and the demand curve will become **elastic**.\n",
    "1. If this firm decreases its price, other firms will match it and lower their prices. Since all firms have lower prices, quantity demanded for this firm will increase only a little and the demand curve will become **inelastic**."
   ]
  },
  {
   "cell_type": "code",
   "execution_count": 1,
   "id": "9f09e40d-375c-40bc-944b-fa598ccc649c",
   "metadata": {
    "jupyter": {
     "source_hidden": true
    },
    "tags": [
     "remove_input"
    ]
   },
   "outputs": [],
   "source": [
    "import pandas as pd\n",
    "import altair as alt"
   ]
  },
  {
   "cell_type": "code",
   "execution_count": 2,
   "id": "9780eacb-36c4-4404-8a58-9b72a7bdef89",
   "metadata": {
    "jupyter": {
     "source_hidden": true
    },
    "tags": [
     "remove_input"
    ]
   },
   "outputs": [
    {
     "data": {
      "text/html": [
       "\n",
       "<div id=\"altair-viz-b056fbf5411a47ac97e17ab960895f3c\"></div>\n",
       "<script type=\"text/javascript\">\n",
       "  (function(spec, embedOpt){\n",
       "    let outputDiv = document.currentScript.previousElementSibling;\n",
       "    if (outputDiv.id !== \"altair-viz-b056fbf5411a47ac97e17ab960895f3c\") {\n",
       "      outputDiv = document.getElementById(\"altair-viz-b056fbf5411a47ac97e17ab960895f3c\");\n",
       "    }\n",
       "    const paths = {\n",
       "      \"vega\": \"https://cdn.jsdelivr.net/npm//vega@5?noext\",\n",
       "      \"vega-lib\": \"https://cdn.jsdelivr.net/npm//vega-lib?noext\",\n",
       "      \"vega-lite\": \"https://cdn.jsdelivr.net/npm//vega-lite@4.8.1?noext\",\n",
       "      \"vega-embed\": \"https://cdn.jsdelivr.net/npm//vega-embed@6?noext\",\n",
       "    };\n",
       "\n",
       "    function loadScript(lib) {\n",
       "      return new Promise(function(resolve, reject) {\n",
       "        var s = document.createElement('script');\n",
       "        s.src = paths[lib];\n",
       "        s.async = true;\n",
       "        s.onload = () => resolve(paths[lib]);\n",
       "        s.onerror = () => reject(`Error loading script: ${paths[lib]}`);\n",
       "        document.getElementsByTagName(\"head\")[0].appendChild(s);\n",
       "      });\n",
       "    }\n",
       "\n",
       "    function showError(err) {\n",
       "      outputDiv.innerHTML = `<div class=\"error\" style=\"color:red;\">${err}</div>`;\n",
       "      throw err;\n",
       "    }\n",
       "\n",
       "    function displayChart(vegaEmbed) {\n",
       "      vegaEmbed(outputDiv, spec, embedOpt)\n",
       "        .catch(err => showError(`Javascript Error: ${err.message}<br>This usually means there's a typo in your chart specification. See the javascript console for the full traceback.`));\n",
       "    }\n",
       "\n",
       "    if(typeof define === \"function\" && define.amd) {\n",
       "      requirejs.config({paths});\n",
       "      require([\"vega-embed\"], displayChart, err => showError(`Error loading script: ${err.message}`));\n",
       "    } else if (typeof vegaEmbed === \"function\") {\n",
       "      displayChart(vegaEmbed);\n",
       "    } else {\n",
       "      loadScript(\"vega\")\n",
       "        .then(() => loadScript(\"vega-lite\"))\n",
       "        .then(() => loadScript(\"vega-embed\"))\n",
       "        .catch(showError)\n",
       "        .then(() => displayChart(vegaEmbed));\n",
       "    }\n",
       "  })({\"config\": {\"view\": {\"continuousWidth\": 400, \"continuousHeight\": 300}}, \"layer\": [{\"data\": {\"name\": \"data-47ed2d564bcde7a0e4de780ed84863ef\"}, \"mark\": {\"type\": \"line\", \"point\": {\"fill\": \"white\", \"filled\": false}}, \"encoding\": {\"x\": {\"type\": \"quantitative\", \"field\": \"q\", \"scale\": {\"domain\": [0, 20]}, \"title\": \"Q\"}, \"y\": {\"type\": \"quantitative\", \"field\": \"p\", \"scale\": {\"domain\": [0, 11]}, \"title\": \"P\"}}, \"title\": \"Demand of Non-colluded Oligopolies\"}, {\"data\": {\"name\": \"data-a1bc8d5f0ae3ed8d05fb1464ae87e26e\"}, \"mark\": {\"type\": \"line\", \"color\": \"black\", \"strokeDash\": [4, 2]}, \"encoding\": {\"x\": {\"type\": \"quantitative\", \"field\": \"q\"}, \"y\": {\"type\": \"quantitative\", \"field\": \"p\"}}}, {\"data\": {\"name\": \"data-2304dcbcb5cf40092a54acf10c5c87ee\"}, \"mark\": {\"type\": \"line\", \"color\": \"black\", \"strokeDash\": [4, 2]}, \"encoding\": {\"x\": {\"type\": \"quantitative\", \"field\": \"q\"}, \"y\": {\"type\": \"quantitative\", \"field\": \"p\"}}}, {\"data\": {\"name\": \"data-7d8376a7d490ee0fee1b3f5ae46ea401\"}, \"mark\": {\"type\": \"text\", \"fontSize\": 15, \"text\": \"E\"}, \"encoding\": {\"x\": {\"type\": \"quantitative\", \"field\": \"x\"}, \"y\": {\"type\": \"quantitative\", \"field\": \"y\"}}}, {\"data\": {\"name\": \"data-8f3bdbe1ecfdd6eaf774ec2bc0ddc87d\"}, \"mark\": {\"type\": \"text\", \"angle\": 21, \"fontSize\": 15, \"text\": \"Elastic\"}, \"encoding\": {\"x\": {\"type\": \"quantitative\", \"field\": \"x\"}, \"y\": {\"type\": \"quantitative\", \"field\": \"y\"}}}, {\"data\": {\"name\": \"data-d6d4938175c9daf71518f95631cf10e4\"}, \"mark\": {\"type\": \"text\", \"angle\": 52, \"fontSize\": 15, \"text\": \"Inelastic\"}, \"encoding\": {\"x\": {\"type\": \"quantitative\", \"field\": \"x\"}, \"y\": {\"type\": \"quantitative\", \"field\": \"y\"}}}], \"$schema\": \"https://vega.github.io/schema/vega-lite/v4.8.1.json\", \"datasets\": {\"data-47ed2d564bcde7a0e4de780ed84863ef\": [{\"p\": 10, \"q\": 4}, {\"p\": 9, \"q\": 8}, {\"p\": 8, \"q\": 12}, {\"p\": 7, \"q\": 13}, {\"p\": 6, \"q\": 14}, {\"p\": 5, \"q\": 15}, {\"p\": 4, \"q\": 16}, {\"p\": 3, \"q\": 17}, {\"p\": 2, \"q\": 18}, {\"p\": 1, \"q\": 19}], \"data-a1bc8d5f0ae3ed8d05fb1464ae87e26e\": [{\"p\": 0, \"q\": 12}, {\"p\": 8, \"q\": 12}], \"data-2304dcbcb5cf40092a54acf10c5c87ee\": [{\"p\": 8, \"q\": 0}, {\"p\": 8, \"q\": 12}], \"data-7d8376a7d490ee0fee1b3f5ae46ea401\": [{\"x\": 12, \"y\": 8.4}], \"data-8f3bdbe1ecfdd6eaf774ec2bc0ddc87d\": [{\"x\": 8, \"y\": 9.4}], \"data-d6d4938175c9daf71518f95631cf10e4\": [{\"x\": 16, \"y\": 4.7}]}}, {\"mode\": \"vega-lite\"});\n",
       "</script>"
      ],
      "text/plain": [
       "alt.LayerChart(...)"
      ]
     },
     "execution_count": 2,
     "metadata": {},
     "output_type": "execute_result"
    }
   ],
   "source": [
    "df = pd.DataFrame(data={'p': [10, 9, 8, 7, 6, 5, 4, 3, 2, 1],\n",
    "                        'q': [4, 8, 12, 13, 14, 15, 16, 17, 18, 19]\n",
    "                       })\n",
    "fig1 = alt.Chart(df).mark_line(point=alt.OverlayMarkDef(filled=False, fill='white')).encode(\n",
    "    alt.X('q', title='Q', scale=alt.Scale(domain=[0,20])),\n",
    "    alt.Y('p', title='P', scale=alt.Scale(domain=[0,11]))\n",
    ").properties(title='Demand of Non-colluded Oligopolies')\n",
    "\n",
    "df_v1 = pd.DataFrame(data={'p': [0, 8], 'q': [12, 12]})\n",
    "fig_v1 = alt.Chart(df_v1).mark_line(color='black', strokeDash=[4, 2]).encode(\n",
    "    alt.X('q'),\n",
    "    alt.Y('p')\n",
    ")\n",
    "\n",
    "df_h1 = pd.DataFrame(data={'p': [8, 8], 'q': [0, 12]})\n",
    "fig_h1 = alt.Chart(df_h1).mark_line(color='black', strokeDash=[4, 2]).encode(\n",
    "    alt.X('q'),\n",
    "    alt.Y('p')\n",
    ")\n",
    "\n",
    "text1 = alt.Chart({'values':[{'x': 12, 'y': 8.4}]}).mark_text(\n",
    "    text='E',\n",
    "    fontSize=15\n",
    ").encode(x='x:Q', y='y:Q')\n",
    "\n",
    "text2 = alt.Chart({'values':[{'x': 8, 'y': 9.4}]}).mark_text(\n",
    "    text='Elastic',\n",
    "    fontSize=15,\n",
    "    angle=21\n",
    ").encode(x='x:Q', y='y:Q')\n",
    "\n",
    "text3 = alt.Chart({'values':[{'x': 16, 'y': 4.7}]}).mark_text(\n",
    "    text='Inelastic',\n",
    "    fontSize=15,\n",
    "    angle=52\n",
    ").encode(x='x:Q', y='y:Q')\n",
    "\n",
    "fig1 + fig_v1 + fig_h1 + text1 + text2 + text3"
   ]
  }
 ],
 "metadata": {
  "kernelspec": {
   "display_name": "Python 3 (ipykernel)",
   "language": "python",
   "name": "python3"
  },
  "language_info": {
   "codemirror_mode": {
    "name": "ipython",
    "version": 3
   },
   "file_extension": ".py",
   "mimetype": "text/x-python",
   "name": "python",
   "nbconvert_exporter": "python",
   "pygments_lexer": "ipython3",
   "version": "3.8.13"
  }
 },
 "nbformat": 4,
 "nbformat_minor": 5
}