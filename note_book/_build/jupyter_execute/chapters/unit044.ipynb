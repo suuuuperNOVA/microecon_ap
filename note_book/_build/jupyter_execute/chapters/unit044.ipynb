{
 "cells": [
  {
   "cell_type": "markdown",
   "id": "ed2bf15d-5bde-4f78-9840-0074d045b7e0",
   "metadata": {},
   "source": [
    "# Monopolistic Competition"
   ]
  },
  {
   "cell_type": "markdown",
   "id": "86f9ab4a-91d5-4ebd-b9c0-022534601391",
   "metadata": {},
   "source": [
    "Monopolistic competition\n",
    ": Monopoly + Perfect Competition\n",
    ": Firms are monopolies in the sense that they sell their own products.\n",
    "\n",
    "Features of monopolistic competition:\n",
    "- Relatively large number of sellers\n",
    "- Differentiated products\n",
    "- Some control over price\n",
    "- Easy entry and exit (low barriers)\n",
    "- More non-price competition (ads)."
   ]
  },
  {
   "cell_type": "markdown",
   "id": "f3290190-7687-4947-a0e5-b805941e5613",
   "metadata": {},
   "source": [
    "```{note}\n",
    "Monopolistic qualities\n",
    "- Price maker of own goods due to differentiated products;\n",
    "- D is greater than MR;\n",
    "- Not efficient, neither allocatively nor productively.\n",
    "\n",
    "Perfect competition qualities\n",
    "- Large number of smaller firms;\n",
    "- Relatively easy entry and exit;\n",
    "- Normal profit in the long run.\n",
    "```"
   ]
  },
  {
   "cell_type": "markdown",
   "id": "fcf02b8d-fa74-49b2-a706-c4656d38de0a",
   "metadata": {},
   "source": [
    "## Graphs of Monopolistic Competition"
   ]
  },
  {
   "cell_type": "markdown",
   "id": "e8a5bb2c-5612-470c-83d9-74124e36010e",
   "metadata": {},
   "source": [
    "### In the Short Run"
   ]
  },
  {
   "cell_type": "markdown",
   "id": "cc8e4627-a2fd-40a6-868d-7880443e6963",
   "metadata": {},
   "source": [
    "- In the short run, the figure is the exactly same as monopoly in which the grey area is the economic profits.\n",
    "- If monopolistically competitive firms are earning profits, new firms will eventually enter the industry, decreasing the demand (shifting to left).\n",
    "- If firms are incurring losses, some firms will leave, increasing the demand (shifting to right).\n",
    "\n",
    "> The figure below shows the monopolistic competition with profits in the short run."
   ]
  },
  {
   "cell_type": "markdown",
   "id": "24c083a6-1dd2-49b7-abf4-8d7b8a0d1e2a",
   "metadata": {},
   "source": [
    "<img src=\"../pic/unit04_2_mono.png\" alt=\"profit\" width=\"600\"/>"
   ]
  },
  {
   "cell_type": "markdown",
   "id": "a1064304-8867-4b0a-b331-7208913ca2c2",
   "metadata": {},
   "source": [
    "> The figure below shows the monopolistic competition with losses in the short run."
   ]
  },
  {
   "cell_type": "markdown",
   "id": "c2e5bba2-573f-424d-95cb-0183a3ea5a64",
   "metadata": {},
   "source": [
    "<img src=\"../pic/unit04_4_loss.png\" alt=\"loss\" width=\"600\"/>"
   ]
  },
  {
   "cell_type": "markdown",
   "id": "adae1128-065d-4bad-a12d-95ef44a80ac3",
   "metadata": {},
   "source": [
    "### In the Long Run"
   ]
  },
  {
   "cell_type": "markdown",
   "id": "007d8396-b5fc-4b0e-b473-e0336777bfa8",
   "metadata": {},
   "source": [
    "In the long run, there is no economic profit and firms produces at the point where ATC is **tengent** with D before its minimum point."
   ]
  },
  {
   "cell_type": "markdown",
   "id": "6f1befb3-69a0-4a12-aa97-30bc147aa64b",
   "metadata": {},
   "source": [
    "<img src=\"../pic/unit04_4_lr.png\" alt=\"lr\" width=\"600\"/>"
   ]
  },
  {
   "cell_type": "markdown",
   "id": "7fdcc3ef-24b3-4d87-8304-34c9de882c8c",
   "metadata": {},
   "source": [
    "## Is Monopolistic Competition Efficient?\n",
    "\n",
    "- **Not** Allocatively efficient<br>The quantity produced is less than the market demanded.\n",
    "<br><br>\n",
    "- **Not** Productively efficient<br>Not produce at the minimum point on ATC."
   ]
  },
  {
   "cell_type": "markdown",
   "id": "596cdca3-12f9-40f5-af5a-d4e5ac85fc98",
   "metadata": {},
   "source": [
    "<img src=\"../pic/unit04_4_eff.png\" alt=\"eff\" width=\"600\"/>"
   ]
  },
  {
   "cell_type": "markdown",
   "id": "c5eb56c3-6684-4adb-8f46-6c3cb8f97752",
   "metadata": {},
   "source": [
    "### Excess Capacity"
   ]
  },
  {
   "cell_type": "markdown",
   "id": "5a0475b5-d654-4db3-b0ae-79bb0d7def25",
   "metadata": {},
   "source": [
    "Excess capacity\n",
    ": Gap between minimum ATC output and the profit maximizing output.<br><br>\n",
    ": Given current resources, the firm can produce at the lowest costs (minimum ATC) but they decide not to."
   ]
  },
  {
   "cell_type": "code",
   "execution_count": null,
   "id": "21039836-4c0a-4e71-b555-18eed9a76d47",
   "metadata": {},
   "outputs": [],
   "source": []
  }
 ],
 "metadata": {
  "kernelspec": {
   "display_name": "Python 3 (ipykernel)",
   "language": "python",
   "name": "python3"
  },
  "language_info": {
   "codemirror_mode": {
    "name": "ipython",
    "version": 3
   },
   "file_extension": ".py",
   "mimetype": "text/x-python",
   "name": "python",
   "nbconvert_exporter": "python",
   "pygments_lexer": "ipython3",
   "version": "3.8.13"
  }
 },
 "nbformat": 4,
 "nbformat_minor": 5
}