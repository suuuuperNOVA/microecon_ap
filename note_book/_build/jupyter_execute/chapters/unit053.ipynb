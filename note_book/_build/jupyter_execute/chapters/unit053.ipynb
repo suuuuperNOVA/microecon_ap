{
 "cells": [
  {
   "cell_type": "markdown",
   "id": "01fce2ac-0cf7-4ed6-86c3-50829b946342",
   "metadata": {},
   "source": [
    "# Profit-Maximizing Behavior in Perfectly Competitive Factor Markets"
   ]
  },
  {
   "cell_type": "markdown",
   "id": "a704ff1c-1d45-4d10-a801-d187f0425345",
   "metadata": {},
   "source": [
    "> Similar to a perfectly competitive market."
   ]
  },
  {
   "cell_type": "markdown",
   "id": "952c4930-4f4b-4a0e-bdc5-5eadbdc22ea4",
   "metadata": {},
   "source": [
    "Perfectly competitive labor market:\n",
    "- Many firms hiring;\n",
    "- Firms are wage takers;\n",
    "- Workers with identical skills;\n",
    "- Wage rate is determined by the market."
   ]
  },
  {
   "cell_type": "markdown",
   "id": "f0fb5fc3-997d-4670-86a7-0b61514831d5",
   "metadata": {},
   "source": [
    "## Marginal Revenue Product\n",
    "\n",
    "Diminishing marginal returns\n",
    ": Fixed resources means each worker will eventually add less than the previous workers.\n",
    "\n",
    "- The firm is willing and able to pay each worker up to the amount they generate.\n",
    "- Each worker is worth the amount of money they generate for the firm."
   ]
  },
  {
   "cell_type": "markdown",
   "id": "20ededb2-4364-4264-aae1-a59654231e3f",
   "metadata": {},
   "source": [
    "## Graphs of Perfect Labor Competition"
   ]
  },
  {
   "cell_type": "markdown",
   "id": "afb4306f-2f2b-413e-9f76-772e5f27ef57",
   "metadata": {},
   "source": [
    "In a perfectly competitive labor market,\n",
    "- Supply of workers is perfectly elastic.<br>**S = MFC = W**\n",
    "- Demand is downward sloping.<br>**D = MRP**\n",
    "- The firm will hire at **MRP = MFC**."
   ]
  },
  {
   "cell_type": "markdown",
   "id": "68167c10-afa8-4e90-a5ff-4b3b82abb9a1",
   "metadata": {},
   "source": [
    "<img src=\"../pic/unit05_3_perlc.png\" alt=\"plc\" width=\"600\"/>"
   ]
  },
  {
   "cell_type": "markdown",
   "id": "190526be-c11a-469a-9ddd-6d6fd9513ed2",
   "metadata": {},
   "source": [
    "### Minimum Wage"
   ]
  },
  {
   "cell_type": "markdown",
   "id": "600a57dd-434d-41e6-8eb7-2f2c0dcd2803",
   "metadata": {},
   "source": [
    "The figure below shows the effect of minimum wage on an individual firm."
   ]
  },
  {
   "cell_type": "markdown",
   "id": "3f4cd06b-6199-49f3-921b-298c7fcaafcc",
   "metadata": {},
   "source": [
    "<img src=\"../pic/unit05_3_minw.png\" alt=\"mw\" width=\"600\"/>"
   ]
  },
  {
   "cell_type": "code",
   "execution_count": null,
   "id": "7e9da73e-cc90-4882-8ee5-286542f25983",
   "metadata": {},
   "outputs": [],
   "source": []
  }
 ],
 "metadata": {
  "kernelspec": {
   "display_name": "Python 3 (ipykernel)",
   "language": "python",
   "name": "python3"
  },
  "language_info": {
   "codemirror_mode": {
    "name": "ipython",
    "version": 3
   },
   "file_extension": ".py",
   "mimetype": "text/x-python",
   "name": "python",
   "nbconvert_exporter": "python",
   "pygments_lexer": "ipython3",
   "version": "3.8.13"
  }
 },
 "nbformat": 4,
 "nbformat_minor": 5
}