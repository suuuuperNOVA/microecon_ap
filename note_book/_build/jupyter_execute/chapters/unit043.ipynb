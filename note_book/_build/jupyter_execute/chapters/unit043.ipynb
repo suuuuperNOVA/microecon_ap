{
 "cells": [
  {
   "cell_type": "markdown",
   "id": "4a69181a-5785-4037-a517-ccf0324d9e8d",
   "metadata": {},
   "source": [
    "# Price Discrimination"
   ]
  },
  {
   "cell_type": "markdown",
   "id": "4691a355-3571-4efd-8256-1304800b4250",
   "metadata": {},
   "source": [
    "Price discrimination\n",
    ": Practice of selling the same products to different buyers at different prices.\n",
    ": e.g. airline tickets<br><br>\n",
    ": Price discrimination seeks to charge each consumer what they are willing to pay in an effort to increase profits."
   ]
  },
  {
   "cell_type": "markdown",
   "id": "347da4c7-f7a3-460a-8a3d-eeb50a309f77",
   "metadata": {},
   "source": [
    "Conditions of price discrimination:\n",
    "- Must have monopoly power;\n",
    "- Able to segregate the market or perfect information about each consumer;\n",
    "- Consumers must **not** be able to resell the product."
   ]
  },
  {
   "cell_type": "markdown",
   "id": "459d740c-1aa1-45d9-8c25-316d590178ed",
   "metadata": {},
   "source": [
    "## Monopoly with Perfect Price Discrimination"
   ]
  },
  {
   "cell_type": "markdown",
   "id": "c33d92cb-9959-4ee9-9327-51660e0ab00a",
   "metadata": {},
   "source": [
    "A perfectly discrimination can charge each person differently, so **MR = Demand**."
   ]
  },
  {
   "cell_type": "markdown",
   "id": "5407acbe-b023-467e-a273-f6c10517f082",
   "metadata": {},
   "source": [
    "<img src=\"../pic/unit04_3_pd.png\" alt=\"pd\" width=\"600\"/>"
   ]
  },
  {
   "cell_type": "markdown",
   "id": "c17dcbf5-d65c-4070-b02f-182b2c1df2fb",
   "metadata": {},
   "source": [
    "```{note}\n",
    "- MR = D<br>Each consumer will be charged at the highest possible price.\n",
    "- No consumer surplus<br>Eevery consumer is paying the highest price.\n",
    "- Profits increase\n",
    "- No deadweight loss\n",
    "```"
   ]
  }
 ],
 "metadata": {
  "kernelspec": {
   "display_name": "Python 3 (ipykernel)",
   "language": "python",
   "name": "python3"
  },
  "language_info": {
   "codemirror_mode": {
    "name": "ipython",
    "version": 3
   },
   "file_extension": ".py",
   "mimetype": "text/x-python",
   "name": "python",
   "nbconvert_exporter": "python",
   "pygments_lexer": "ipython3",
   "version": "3.8.13"
  }
 },
 "nbformat": 4,
 "nbformat_minor": 5
}