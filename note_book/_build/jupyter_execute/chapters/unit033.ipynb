{
 "cells": [
  {
   "cell_type": "markdown",
   "id": "e2f47485-f4c2-4f0e-bc0d-507e53f4cf0f",
   "metadata": {},
   "source": [
    "# Long-Run Production Costs"
   ]
  },
  {
   "cell_type": "code",
   "execution_count": null,
   "id": "ac262ad7-556d-4d09-be09-f83743cc9bbf",
   "metadata": {},
   "outputs": [],
   "source": []
  }
 ],
 "metadata": {
  "kernelspec": {
   "display_name": "Python 3 (ipykernel)",
   "language": "python",
   "name": "python3"
  },
  "language_info": {
   "codemirror_mode": {
    "name": "ipython",
    "version": 3
   },
   "file_extension": ".py",
   "mimetype": "text/x-python",
   "name": "python",
   "nbconvert_exporter": "python",
   "pygments_lexer": "ipython3",
   "version": "3.8.13"
  }
 },
 "nbformat": 4,
 "nbformat_minor": 5
}