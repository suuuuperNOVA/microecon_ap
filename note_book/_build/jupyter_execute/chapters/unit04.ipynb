{
 "cells": [
  {
   "cell_type": "markdown",
   "id": "dd0fb0a4-e89e-4463-8f96-830d55f16d5d",
   "metadata": {},
   "source": [
    "# Imperfect Competition"
   ]
  },
  {
   "cell_type": "markdown",
   "id": "4bef1622-3bfa-43a8-9216-411cd15e3786",
   "metadata": {},
   "source": [
    "> Previously, we learned that perfect competition allows firms to enter or exit without any barrier.<br>\n",
    "> In this unit, we will learn imperfect competition."
   ]
  },
  {
   "cell_type": "markdown",
   "id": "22701aed-118e-436f-8a42-464e178d8a8f",
   "metadata": {},
   "source": [
    "<img src=\"../pic/unit04_impc.png\" alt=\"impc\" width=\"600\"/>"
   ]
  },
  {
   "cell_type": "markdown",
   "id": "c915cede-8cd5-46a2-8bb3-b2bf646012c0",
   "metadata": {},
   "source": [
    "An imperfectly competitive market exists because of high **barriers** to keep other firms from entering. Incentives to enter an industry may be mitigated by **barriers** to entry."
   ]
  },
  {
   "cell_type": "markdown",
   "id": "c7fdc777-3f92-4ece-8dc4-920b88f5cf9e",
   "metadata": {},
   "source": [
    "Types of barriers to entry:\n",
    "- High fixed/start-up costs\n",
    "- Geography\n",
    "- Ownership of raw materials\n",
    "- Legal barriers."
   ]
  }
 ],
 "metadata": {
  "kernelspec": {
   "display_name": "Python 3 (ipykernel)",
   "language": "python",
   "name": "python3"
  },
  "language_info": {
   "codemirror_mode": {
    "name": "ipython",
    "version": 3
   },
   "file_extension": ".py",
   "mimetype": "text/x-python",
   "name": "python",
   "nbconvert_exporter": "python",
   "pygments_lexer": "ipython3",
   "version": "3.8.13"
  }
 },
 "nbformat": 4,
 "nbformat_minor": 5
}