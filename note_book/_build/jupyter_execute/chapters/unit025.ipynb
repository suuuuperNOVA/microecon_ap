{
 "cells": [
  {
   "cell_type": "markdown",
   "id": "015b3e95-704b-442c-9664-d49de8bb8109",
   "metadata": {},
   "source": [
    "# Unit 02.5 Other Elasticities"
   ]
  },
  {
   "cell_type": "markdown",
   "id": "f7065510-e2d6-40f6-964d-24c28cd75776",
   "metadata": {},
   "source": [
    "Cross-price elasticity of demand\n",
    ": Measure the effect of the change in one good’s price on the quantity demanded of the other good. It is equal to the percent change in the quantity demanded of one good divided by the percent change in the other good’s price.<br><br>\n",
    ": <math xmlns=\"http://www.w3.org/1998/Math/MathML\">\n",
    "  <mtext>Cross-Price Elasticity of Demand between goods A and B</mtext>\n",
    "  <mo>=</mo>\n",
    "  <mfrac>\n",
    "    <mrow>\n",
    "      <mi mathvariant=\"normal\">&#x0025;<!-- % --></mi>\n",
    "      <mi mathvariant=\"normal\">&#x0394;<!-- Δ --></mi>\n",
    "      <msub>\n",
    "        <mi>Q</mi>\n",
    "        <mi>D</mi>\n",
    "      </msub>\n",
    "      <mtext>&#xA0;of Good A</mtext>\n",
    "    </mrow>\n",
    "    <mrow>\n",
    "      <mi mathvariant=\"normal\">&#x0025;<!-- % --></mi>\n",
    "      <mi mathvariant=\"normal\">&#x0394;<!-- Δ --></mi>\n",
    "      <mi>P</mi>\n",
    "      <mi>r</mi>\n",
    "      <mi>i</mi>\n",
    "      <mi>c</mi>\n",
    "      <mi>e</mi>\n",
    "      <mtext>&#xA0;of Good B</mtext>\n",
    "    </mrow>\n",
    "  </mfrac>\n",
    "</math>"
   ]
  },
  {
   "cell_type": "markdown",
   "id": "c5d9de7f-161e-499a-bc1b-fabd66a39ea0",
   "metadata": {},
   "source": [
    "```{important}\n",
    "The sign of cross-price elasticity of demand is important.\n",
    "- It is positive, when A and B are substitutes.\n",
    "    - When A and B are very close, the cross-price elasticity will be positive and large.\n",
    "    - When A and B are not close, the cross-price elasticity will be positive and small.\n",
    "- It is negative, when A and B are complements.\n",
    "    - When A and B are strong complements, the cross-price elasticity will be negative and large.\n",
    "    - When A and B are weak complements, the cross-price elasticity will be negative and small.\n",
    "```"
   ]
  },
  {
   "cell_type": "markdown",
   "id": "dc0846e0-53e3-42a5-9b84-9c3516503203",
   "metadata": {},
   "source": [
    "Income elasticity of demand\n",
    ": Measure how changes in income affect the demand for a good.<br><br>\n",
    ": <math xmlns=\"http://www.w3.org/1998/Math/MathML\">\n",
    "  <mtext>Income Elasticity of Demand</mtext>\n",
    "  <mo>=</mo>\n",
    "  <mfrac>\n",
    "    <mrow>\n",
    "      <mi mathvariant=\"normal\">&#x0025;<!-- % --></mi>\n",
    "      <mi mathvariant=\"normal\">&#x0394;<!-- Δ --></mi>\n",
    "      <msub>\n",
    "        <mi>Q</mi>\n",
    "        <mi>D</mi>\n",
    "      </msub>\n",
    "    </mrow>\n",
    "    <mrow>\n",
    "      <mi mathvariant=\"normal\">&#x0025;<!-- % --></mi>\n",
    "      <mi mathvariant=\"normal\">&#x0394;<!-- Δ --></mi>\n",
    "      <mtext>&#xA0;in Income</mtext>\n",
    "    </mrow>\n",
    "  </mfrac>\n",
    "</math>"
   ]
  },
  {
   "cell_type": "markdown",
   "id": "bfe90efb-f529-4ecb-b453-85fe4f1c3309",
   "metadata": {},
   "source": [
    "```{important}\n",
    "The sign of income elasticity of demand is important.\n",
    "- It is positive for normal goods.\n",
    "- It is negative for inferior goods.\n",
    "```"
   ]
  }
 ],
 "metadata": {
  "kernelspec": {
   "display_name": "Python 3 (ipykernel)",
   "language": "python",
   "name": "python3"
  },
  "language_info": {
   "codemirror_mode": {
    "name": "ipython",
    "version": 3
   },
   "file_extension": ".py",
   "mimetype": "text/x-python",
   "name": "python",
   "nbconvert_exporter": "python",
   "pygments_lexer": "ipython3",
   "version": "3.8.13"
  }
 },
 "nbformat": 4,
 "nbformat_minor": 5
}