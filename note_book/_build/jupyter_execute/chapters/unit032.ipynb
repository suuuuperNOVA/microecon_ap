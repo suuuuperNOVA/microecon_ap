{
 "cells": [
  {
   "cell_type": "markdown",
   "id": "46783b9c-3640-477a-b292-e745ca3eef6d",
   "metadata": {},
   "source": [
    "# Short-Run Production Costs"
   ]
  },
  {
   "cell_type": "markdown",
   "id": "e0b5491a-315b-4227-99ea-b60dc143ac09",
   "metadata": {},
   "source": [
    "```{admonition} Short-Run vs. Long-Run\n",
    ":class: important\n",
    "\n",
    "The definitions of short-run and long-run about production costs are different from the duration concepts.<br>\n",
    "\n",
    "For production costs:<br>\n",
    "\n",
    "Short-Run\n",
    ": When at least one production input is fixed and supply cannot fully adjust to changes in demand.\n",
    ": Plant capacity is **not** changeable.<br><br>\n",
    "\n",
    "Long-Run\n",
    ": When all resources used in production are variable and supply can adjust to changes in demand.\n",
    ": Plant capacity is changeable.\n",
    "```"
   ]
  },
  {
   "cell_type": "markdown",
   "id": "7b4c802c-c8b0-4023-b447-f3f893f6ab36",
   "metadata": {},
   "source": [
    "## Economic costs\n",
    "\n",
    "**Total costs**\n",
    "- Total fixed costs (TFC)\n",
    "- Total variable costs (TVC)\n",
    "- Total costs (TC)<br>**TC = TFC + TVC**\n",
    "\n",
    "The figure below shows the relationship between these curves. The difference between the TC and TVC curves is the total fixed cost.\n",
    "\n",
    "<img src=\"../pic/unit03_2_tc.png\" alt=\"tc\" width=\"600\"/>"
   ]
  },
  {
   "cell_type": "markdown",
   "id": "b48b3ce5-2baf-4758-9ea9-f4f79bbde45a",
   "metadata": {},
   "source": [
    "**Per unit costs**\n",
    "- Average fixed costs (AFC)\n",
    "- Average variable costs (AVC)\n",
    "- Average total cost (ATC)<br>**ATC = AFC + AVC**\n",
    "- Marginal cost (MC)"
   ]
  },
  {
   "cell_type": "markdown",
   "id": "313385fb-b97b-4a37-8d95-eb61c8e5e08c",
   "metadata": {
    "tags": []
   },
   "source": [
    "## Short-Run Costs\n",
    "\n",
    "The figure below shows the relationships between different average costs:<br>\n",
    "\n",
    "**MC**<br>\n",
    "The shape of MC is explained by the <ins>[**law of diminishing returns**](content:references:label_diminishingmp)</ins> 👀 within 3 stages.<br>\n",
    "\n",
    "**AFC**<br>\n",
    "Since TFC is constant, the more quantity produced, the lower the average fixed cost. AFC is monotonically decreasing.\n",
    "\n",
    "**AVC**<br>\n",
    "Same reason as MC, but the average variable cost responds slower than MC.\n",
    "\n",
    "**ATC**<br>\n",
    "ATC = AFC + AVC; The distance between the AVC and ATC curves is the average fixed cost. As output increases, the AFC curve will decline. Hence, the difference between the ATC and AVC curves will gradually become smaller as output increases.\n",
    "\n",
    "- When MC is below the average, it pulls the average down.\n",
    "- When MC is above the average, it pulls the average up."
   ]
  },
  {
   "cell_type": "markdown",
   "id": "d9f4e779-3dc7-4cd7-8ddd-ae1bc1ea8196",
   "metadata": {},
   "source": [
    "<img src=\"../pic/unit03_2_atc.png\" alt=\"atc\" width=\"600\"/>"
   ]
  },
  {
   "cell_type": "markdown",
   "id": "6b3c326f-d9b1-435b-bd71-c2f6d2e94447",
   "metadata": {},
   "source": [
    "```{important}\n",
    "**The MC curve intersects both the AVC and ATC at its minimum points.**<br>\n",
    "\n",
    "Remember to show this property. Otherwise, you will lose points on the AP test!\n",
    "```"
   ]
  },
  {
   "cell_type": "markdown",
   "id": "cd0d3bb4-62a9-45de-be75-6833aea8262b",
   "metadata": {},
   "source": [
    "## Calculating Costs\n",
    "\n",
    "> Try to fill the cost table below.\n",
    "\n",
    "<img src=\"../pic/unit03_2_costq.png\" alt=\"costq\" width=\"600\"/>"
   ]
  },
  {
   "cell_type": "markdown",
   "id": "a23722fb-c451-4688-b9fc-8ce08bcb7b3a",
   "metadata": {},
   "source": [
    "```{admonition} Solution\n",
    ":class: dropdown\n",
    "\n",
    "<img src=\"../pic/unit03_2_costs.png\" alt=\"costs\" width=\"600\"/>\n",
    "```"
   ]
  },
  {
   "cell_type": "markdown",
   "id": "19b0d445-efc7-458b-a01a-851b3c5fef73",
   "metadata": {},
   "source": [
    "(content:references:label_tax)=\n",
    "## Taxes and Shifting Cost Curves"
   ]
  },
  {
   "cell_type": "markdown",
   "id": "63432b46-7a7a-4535-876c-08e2f50dd8f8",
   "metadata": {},
   "source": [
    "There are 2 types of taxes:\n",
    "- Per-unit taxes\n",
    "- Lump-sum taxes"
   ]
  },
  {
   "cell_type": "markdown",
   "id": "e2a416ee-da58-4fe4-9d9c-82fb95aa6f51",
   "metadata": {},
   "source": [
    "Per-unit tax\n",
    ": Tax on each additional unit of output produced.<br><br>\n",
    "\n",
    "Lump-sum tax\n",
    ": Fixed and unchanging tax regardless of the amount a firm produces."
   ]
  },
  {
   "cell_type": "markdown",
   "id": "060f9ac3-fb16-455b-9276-b60b77db6869",
   "metadata": {},
   "source": [
    "The table below summarizes the effects of the 2 taxes on different costs. The tax will shift the corresponding curves **upward**.\n",
    "\n",
    "|Types of Taxes|MC|ATC|AVC|AFC|\n",
    "|---|---|---|---|---|\n",
    "|Per-unit tax|✅|✅|✅||\n",
    "|Lump-sum tax||✅||✅|"
   ]
  },
  {
   "cell_type": "markdown",
   "id": "485a4712-9420-4146-83dc-e7dbeb3b2179",
   "metadata": {},
   "source": [
    "### Effects of Per-Unit Taxes\n",
    "\n",
    "<img src=\"../pic/unit03_2_unit_tax.png\" alt=\"perunit\" width=\"500\"/>"
   ]
  },
  {
   "cell_type": "markdown",
   "id": "5d4b442c-ffb6-4e0b-b1e4-c0042825d57d",
   "metadata": {},
   "source": [
    "### Effects of Lump-Sum Taxes\n",
    "\n",
    "<img src=\"../pic/unit03_2_lump_tax.png\" alt=\"lumptax\" width=\"500\"/>"
   ]
  }
 ],
 "metadata": {
  "kernelspec": {
   "display_name": "Python 3 (ipykernel)",
   "language": "python",
   "name": "python3"
  },
  "language_info": {
   "codemirror_mode": {
    "name": "ipython",
    "version": 3
   },
   "file_extension": ".py",
   "mimetype": "text/x-python",
   "name": "python",
   "nbconvert_exporter": "python",
   "pygments_lexer": "ipython3",
   "version": "3.8.13"
  }
 },
 "nbformat": 4,
 "nbformat_minor": 5
}