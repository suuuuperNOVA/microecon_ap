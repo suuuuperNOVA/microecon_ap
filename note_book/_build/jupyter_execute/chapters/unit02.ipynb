{
 "cells": [
  {
   "cell_type": "markdown",
   "id": "713af5c6-eb77-48f6-93e8-15af678a94f1",
   "metadata": {},
   "source": [
    "# Unit 02: Supply and Demand"
   ]
  },
  {
   "cell_type": "markdown",
   "id": "98348506-c908-40ea-bc04-fc253e7a5c01",
   "metadata": {},
   "source": [
    "```{admonition} Background\n",
    ":class: tip\n",
    "\n",
    "We focus on ***competitive market***, where behavior is well described by **supply and demand model**.<br>\n",
    "\n",
    "Competitive market\n",
    ": There are many buyers and sellers of the same good or service. No individual's actions have a noticeable effect on the price of the good or service.\n",
    "```"
   ]
  }
 ],
 "metadata": {
  "kernelspec": {
   "display_name": "Python 3 (ipykernel)",
   "language": "python",
   "name": "python3"
  },
  "language_info": {
   "codemirror_mode": {
    "name": "ipython",
    "version": 3
   },
   "file_extension": ".py",
   "mimetype": "text/x-python",
   "name": "python",
   "nbconvert_exporter": "python",
   "pygments_lexer": "ipython3",
   "version": "3.8.13"
  }
 },
 "nbformat": 4,
 "nbformat_minor": 5
}