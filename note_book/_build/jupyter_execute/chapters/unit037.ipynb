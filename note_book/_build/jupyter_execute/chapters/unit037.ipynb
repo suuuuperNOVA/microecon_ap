{
 "cells": [
  {
   "cell_type": "markdown",
   "id": "a60082b5-d12f-47f6-8c30-4c81f8b8c1ea",
   "metadata": {},
   "source": [
    "# Perfect Competition"
   ]
  },
  {
   "cell_type": "markdown",
   "id": "f2479a0e-1003-4f6d-8cab-8ebdb527157a",
   "metadata": {},
   "source": [
    "Perfect competition exists when there are a large number of sellers competing in the market.\n",
    "- Firms can easily enter and exit;\n",
    "- Firms are price takers, having no influencing on the price of product they produce;\n",
    "- Identical products;\n",
    "- Price is determined by the market.\n",
    "\n",
    "That's why it's a horizontal line on the firm graph.<br>\n",
    "In a perfect competition market, a firm has a **perfectly elastic demand curve** (Marginal Revenue = Demand = Average Revenue = Price)."
   ]
  },
  {
   "cell_type": "markdown",
   "id": "805e3fcf-cbd4-4684-b718-d75d227cab20",
   "metadata": {},
   "source": [
    "<img src=\"../pic/unit03_7_perfect.png\" alt=\"tc\" width=\"1000\"/>"
   ]
  }
 ],
 "metadata": {
  "kernelspec": {
   "display_name": "Python 3 (ipykernel)",
   "language": "python",
   "name": "python3"
  },
  "language_info": {
   "codemirror_mode": {
    "name": "ipython",
    "version": 3
   },
   "file_extension": ".py",
   "mimetype": "text/x-python",
   "name": "python",
   "nbconvert_exporter": "python",
   "pygments_lexer": "ipython3",
   "version": "3.8.13"
  }
 },
 "nbformat": 4,
 "nbformat_minor": 5
}