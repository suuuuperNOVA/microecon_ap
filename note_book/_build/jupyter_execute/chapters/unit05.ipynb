{
 "cells": [
  {
   "cell_type": "markdown",
   "id": "74a14ad4-438a-4b56-a899-3f0d39549f55",
   "metadata": {},
   "source": [
    "# Factor Markets"
   ]
  },
  {
   "cell_type": "markdown",
   "id": "8340c429-adf1-43af-8565-9be06851803c",
   "metadata": {},
   "source": [
    "```{note}\n",
    "In this section, we will apply the demand and supply model to the factor market. Now firms are the demanders in the factor markets, and suppliers are individuals with their labor.\n",
    "```"
   ]
  }
 ],
 "metadata": {
  "kernelspec": {
   "display_name": "Python 3 (ipykernel)",
   "language": "python",
   "name": "python3"
  },
  "language_info": {
   "codemirror_mode": {
    "name": "ipython",
    "version": 3
   },
   "file_extension": ".py",
   "mimetype": "text/x-python",
   "name": "python",
   "nbconvert_exporter": "python",
   "pygments_lexer": "ipython3",
   "version": "3.8.13"
  }
 },
 "nbformat": 4,
 "nbformat_minor": 5
}