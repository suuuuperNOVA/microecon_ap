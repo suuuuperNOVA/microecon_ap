{
 "cells": [
  {
   "cell_type": "markdown",
   "id": "190a3d4f-4d87-489c-a92b-9fddb691fdc2",
   "metadata": {},
   "source": [
    "# Monopsonistic Markets"
   ]
  },
  {
   "cell_type": "markdown",
   "id": "7f70e1cb-521d-4cc4-a370-87c7da0ab7c1",
   "metadata": {},
   "source": [
    "> Similar to a monopoly.\n",
    "\n",
    "Monopsony\n",
    ": Single buyer of labor.\n",
    ": e.g. small-town coal mine."
   ]
  },
  {
   "cell_type": "markdown",
   "id": "4ed5b2e5-d416-4360-91b5-e53fca119c98",
   "metadata": {},
   "source": [
    "A monopsony has 2 **upward-sloping** curves, S and MFC. The MFC curve increases at a faster rate than the supply curve because:\n",
    "1. Firm must pay higher wages to hire additional workers;\n",
    "1. Firm cannot wage discriminate, pay every worker same."
   ]
  },
  {
   "cell_type": "markdown",
   "id": "bbeb6856-ef2e-4e21-b955-8e3ff856ba09",
   "metadata": {},
   "source": [
    "The figure below shows the quantity of labor hired in a monopsonistic labor market would be <math xmlns=\"http://www.w3.org/1998/Math/MathML\">\n",
    "  <msub>\n",
    "    <mi>Q</mi>\n",
    "    <mi>M</mi>\n",
    "  </msub>\n",
    "</math> where MFC = MRP, but note the wage paid is <math xmlns=\"http://www.w3.org/1998/Math/MathML\">\n",
    "  <msub>\n",
    "    <mi>W</mi>\n",
    "    <mi>M</mi>\n",
    "  </msub>\n",
    "</math>."
   ]
  },
  {
   "cell_type": "markdown",
   "id": "e620e8fb-2996-4a8d-9d91-b19bd99b9fa2",
   "metadata": {},
   "source": [
    "<img src=\"../pic/unit05_4_mono.png\" alt=\"mono\" width=\"400\"/>"
   ]
  }
 ],
 "metadata": {
  "kernelspec": {
   "display_name": "Python 3 (ipykernel)",
   "language": "python",
   "name": "python3"
  },
  "language_info": {
   "codemirror_mode": {
    "name": "ipython",
    "version": 3
   },
   "file_extension": ".py",
   "mimetype": "text/x-python",
   "name": "python",
   "nbconvert_exporter": "python",
   "pygments_lexer": "ipython3",
   "version": "3.8.13"
  }
 },
 "nbformat": 4,
 "nbformat_minor": 5
}