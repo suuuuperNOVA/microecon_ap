{
 "cells": [
  {
   "cell_type": "markdown",
   "id": "5b1da5aa-fc7b-46df-bac5-5b4a83f300b6",
   "metadata": {},
   "source": [
    "# The Effects of Government Intervention in Markets"
   ]
  },
  {
   "cell_type": "markdown",
   "id": "c4317a1b-bc5c-4d87-9a67-9b0f7dc2c85f",
   "metadata": {},
   "source": [
    "> When a government intervenes to regulate prices, we say that it imposes price controls.<br>\n",
    "> When a government intervenes to regulate quantity, we say that it imposes quantity controls.\n",
    "\n",
    "Price control\n",
    ": Legal restrictions on how high or low a market price may go.\n",
    ": e.g. price ceiling, price floor.<br><br>\n",
    "\n",
    "Quantity control/Quota\n",
    ": An upper limit on the quantity of some good that can be bought or sold."
   ]
  },
  {
   "cell_type": "markdown",
   "id": "e66e7a35-534e-4af3-8d37-1bfb70371ebf",
   "metadata": {},
   "source": [
    "## Price Controls\n",
    "### Price Ceiling\n",
    "\n",
    "Price ceiling\n",
    ": A type of price control set by governments as shown in the figure below.\n",
    ": It sets the maximum amount a seller can charge for a good or service.\n",
    ": Typically imposed on consumer staples, like food, gas, or medicine, often after a crisis or particular event sends costs skyrocketing."
   ]
  },
  {
   "cell_type": "markdown",
   "id": "6f977edc-5bd6-4570-b5a2-e1dd043110b2",
   "metadata": {},
   "source": [
    "```{Tip}\n",
    "The price ceiling will always be lower than the original equilibrium price. Otherwise, it will be meaningless as the market will always reach the equilibrium without touching the price ceiling.\n",
    "```"
   ]
  },
  {
   "cell_type": "code",
   "execution_count": 1,
   "id": "cc78f63c-d33d-44b3-adfa-593dc93db4d0",
   "metadata": {
    "jupyter": {
     "source_hidden": true
    },
    "tags": [
     "remove-input"
    ]
   },
   "outputs": [],
   "source": [
    "import pandas as pd\n",
    "import altair as alt"
   ]
  },
  {
   "cell_type": "code",
   "execution_count": 2,
   "id": "209c89b5-014c-4f93-8239-7c2a98d90a67",
   "metadata": {
    "jupyter": {
     "source_hidden": true
    },
    "tags": [
     "remove-input"
    ]
   },
   "outputs": [
    {
     "data": {
      "text/html": [
       "\n",
       "<div id=\"altair-viz-f374c9e8446742a2879eea92104e07c9\"></div>\n",
       "<script type=\"text/javascript\">\n",
       "  (function(spec, embedOpt){\n",
       "    let outputDiv = document.currentScript.previousElementSibling;\n",
       "    if (outputDiv.id !== \"altair-viz-f374c9e8446742a2879eea92104e07c9\") {\n",
       "      outputDiv = document.getElementById(\"altair-viz-f374c9e8446742a2879eea92104e07c9\");\n",
       "    }\n",
       "    const paths = {\n",
       "      \"vega\": \"https://cdn.jsdelivr.net/npm//vega@5?noext\",\n",
       "      \"vega-lib\": \"https://cdn.jsdelivr.net/npm//vega-lib?noext\",\n",
       "      \"vega-lite\": \"https://cdn.jsdelivr.net/npm//vega-lite@4.8.1?noext\",\n",
       "      \"vega-embed\": \"https://cdn.jsdelivr.net/npm//vega-embed@6?noext\",\n",
       "    };\n",
       "\n",
       "    function loadScript(lib) {\n",
       "      return new Promise(function(resolve, reject) {\n",
       "        var s = document.createElement('script');\n",
       "        s.src = paths[lib];\n",
       "        s.async = true;\n",
       "        s.onload = () => resolve(paths[lib]);\n",
       "        s.onerror = () => reject(`Error loading script: ${paths[lib]}`);\n",
       "        document.getElementsByTagName(\"head\")[0].appendChild(s);\n",
       "      });\n",
       "    }\n",
       "\n",
       "    function showError(err) {\n",
       "      outputDiv.innerHTML = `<div class=\"error\" style=\"color:red;\">${err}</div>`;\n",
       "      throw err;\n",
       "    }\n",
       "\n",
       "    function displayChart(vegaEmbed) {\n",
       "      vegaEmbed(outputDiv, spec, embedOpt)\n",
       "        .catch(err => showError(`Javascript Error: ${err.message}<br>This usually means there's a typo in your chart specification. See the javascript console for the full traceback.`));\n",
       "    }\n",
       "\n",
       "    if(typeof define === \"function\" && define.amd) {\n",
       "      requirejs.config({paths});\n",
       "      require([\"vega-embed\"], displayChart, err => showError(`Error loading script: ${err.message}`));\n",
       "    } else if (typeof vegaEmbed === \"function\") {\n",
       "      displayChart(vegaEmbed);\n",
       "    } else {\n",
       "      loadScript(\"vega\")\n",
       "        .then(() => loadScript(\"vega-lite\"))\n",
       "        .then(() => loadScript(\"vega-embed\"))\n",
       "        .catch(showError)\n",
       "        .then(() => displayChart(vegaEmbed));\n",
       "    }\n",
       "  })({\"config\": {\"view\": {\"continuousWidth\": 400, \"continuousHeight\": 300}}, \"layer\": [{\"data\": {\"name\": \"data-b52e021a0734944d4e2e38e1163d0639\"}, \"mark\": \"line\", \"encoding\": {\"x\": {\"type\": \"quantitative\", \"field\": \"qd\", \"scale\": {\"domain\": [0, 10]}, \"title\": \"Quantity\"}, \"y\": {\"type\": \"quantitative\", \"field\": \"price\", \"scale\": {\"domain\": [0, 11]}, \"title\": \"Price\"}}}, {\"data\": {\"name\": \"data-f4791e6d2c5433b743c328a8f6f72260\"}, \"mark\": \"line\", \"encoding\": {\"x\": {\"type\": \"quantitative\", \"field\": \"qs\", \"scale\": {\"domain\": [0, 10]}, \"title\": \"Quantity\"}, \"y\": {\"type\": \"quantitative\", \"field\": \"price\", \"scale\": {\"domain\": [0, 11]}, \"title\": \"Price\"}}}, {\"data\": {\"name\": \"data-837ce840d3edffb4d7aba62b427292ff\"}, \"mark\": {\"type\": \"point\", \"color\": \"black\", \"fill\": \"black\", \"size\": 90}, \"encoding\": {\"x\": {\"type\": \"quantitative\", \"field\": \"q\"}, \"y\": {\"type\": \"quantitative\", \"field\": \"price\"}}}, {\"data\": {\"name\": \"data-411b058143eb0c76546a59e0f2efbb64\"}, \"mark\": {\"type\": \"text\", \"fontSize\": 15, \"text\": \"D\"}, \"encoding\": {\"x\": {\"type\": \"quantitative\", \"field\": \"x\"}, \"y\": {\"type\": \"quantitative\", \"field\": \"y\"}}}, {\"data\": {\"name\": \"data-78eb422e47dc010e08ec7870329a9a72\"}, \"mark\": {\"type\": \"text\", \"fontSize\": 15, \"text\": \"S\"}, \"encoding\": {\"x\": {\"type\": \"quantitative\", \"field\": \"x\"}, \"y\": {\"type\": \"quantitative\", \"field\": \"y\"}}}, {\"data\": {\"name\": \"data-7e100178d0b30ff53f5f746e95732883\"}, \"mark\": {\"type\": \"text\", \"fontSize\": 15, \"text\": \"E\"}, \"encoding\": {\"x\": {\"type\": \"quantitative\", \"field\": \"x\"}, \"y\": {\"type\": \"quantitative\", \"field\": \"y\"}}}, {\"data\": {\"name\": \"data-400f3cde059ba81d2fb8f84f7f3d503b\"}, \"mark\": {\"type\": \"text\", \"fontSize\": 15, \"text\": \"A\"}, \"encoding\": {\"x\": {\"type\": \"quantitative\", \"field\": \"x\"}, \"y\": {\"type\": \"quantitative\", \"field\": \"y\"}}}, {\"data\": {\"name\": \"data-bb8bf50568f281025a389f541f3f2e19\"}, \"mark\": {\"type\": \"text\", \"fontSize\": 15, \"text\": \"B\"}, \"encoding\": {\"x\": {\"type\": \"quantitative\", \"field\": \"x\"}, \"y\": {\"type\": \"quantitative\", \"field\": \"y\"}}}, {\"data\": {\"name\": \"data-dd13a6e103289845a402510aa374b811\"}, \"mark\": {\"type\": \"text\", \"fontSize\": 15, \"text\": \"Price Ceiling\"}, \"encoding\": {\"x\": {\"type\": \"quantitative\", \"field\": \"x\"}, \"y\": {\"type\": \"quantitative\", \"field\": \"y\"}}}, {\"data\": {\"name\": \"data-73a9042bebe9f0541b07cc924aabef05\"}, \"mark\": {\"type\": \"line\", \"color\": \"black\"}, \"encoding\": {\"x\": {\"type\": \"quantitative\", \"field\": \"q\"}, \"y\": {\"type\": \"quantitative\", \"field\": \"price\"}}}, {\"data\": {\"name\": \"data-4c764e6a546c2819a29f78c46a52b586\"}, \"mark\": {\"type\": \"line\", \"color\": \"black\", \"strokeDash\": [4, 2]}, \"encoding\": {\"x\": {\"type\": \"quantitative\", \"field\": \"q\"}, \"y\": {\"type\": \"quantitative\", \"field\": \"price\"}}}, {\"data\": {\"name\": \"data-5fefdb796cf2439be513cac35b713092\"}, \"mark\": {\"type\": \"line\", \"color\": \"black\", \"strokeDash\": [4, 2]}, \"encoding\": {\"x\": {\"type\": \"quantitative\", \"field\": \"q\"}, \"y\": {\"type\": \"quantitative\", \"field\": \"price\"}}}], \"title\": \"Price Ceiling\", \"$schema\": \"https://vega.github.io/schema/vega-lite/v4.8.1.json\", \"datasets\": {\"data-b52e021a0734944d4e2e38e1163d0639\": [{\"price\": 1, \"qd\": 9}, {\"price\": 2, \"qd\": 8}, {\"price\": 3, \"qd\": 7}, {\"price\": 4, \"qd\": 6}, {\"price\": 5, \"qd\": 5}, {\"price\": 6, \"qd\": 4}, {\"price\": 7, \"qd\": 3}, {\"price\": 8, \"qd\": 2}, {\"price\": 9, \"qd\": 1}, {\"price\": 10, \"qd\": 0}], \"data-f4791e6d2c5433b743c328a8f6f72260\": [{\"price\": 1, \"qs\": 0}, {\"price\": 2, \"qs\": 1}, {\"price\": 3, \"qs\": 2}, {\"price\": 4, \"qs\": 3}, {\"price\": 5, \"qs\": 4}, {\"price\": 6, \"qs\": 5}, {\"price\": 7, \"qs\": 6}, {\"price\": 8, \"qs\": 7}, {\"price\": 9, \"qs\": 8}, {\"price\": 10, \"qs\": 9}], \"data-837ce840d3edffb4d7aba62b427292ff\": [{\"price\": 5.5, \"q\": 4.5}, {\"price\": 3.0, \"q\": 2.0}, {\"price\": 3.0, \"q\": 7.0}], \"data-411b058143eb0c76546a59e0f2efbb64\": [{\"x\": 9, \"y\": 1.5}], \"data-78eb422e47dc010e08ec7870329a9a72\": [{\"x\": 9, \"y\": 9.5}], \"data-7e100178d0b30ff53f5f746e95732883\": [{\"x\": 5, \"y\": 5.5}], \"data-400f3cde059ba81d2fb8f84f7f3d503b\": [{\"x\": 2, \"y\": 3.5}], \"data-bb8bf50568f281025a389f541f3f2e19\": [{\"x\": 7, \"y\": 3.5}], \"data-dd13a6e103289845a402510aa374b811\": [{\"x\": 8.7, \"y\": 3.3}], \"data-73a9042bebe9f0541b07cc924aabef05\": [{\"price\": 3, \"q\": 0}, {\"price\": 3, \"q\": 10}], \"data-4c764e6a546c2819a29f78c46a52b586\": [{\"price\": 0, \"q\": 2}, {\"price\": 3, \"q\": 2}], \"data-5fefdb796cf2439be513cac35b713092\": [{\"price\": 0, \"q\": 7}, {\"price\": 3, \"q\": 7}]}}, {\"mode\": \"vega-lite\"});\n",
       "</script>"
      ],
      "text/plain": [
       "alt.LayerChart(...)"
      ]
     },
     "execution_count": 2,
     "metadata": {},
     "output_type": "execute_result"
    }
   ],
   "source": [
    "df_d = pd.DataFrame(data={'price': list(range(1, 11)),\n",
    "                        'qd': list(range(9,-1,-1))\n",
    "                       })\n",
    "\n",
    "df_s = pd.DataFrame(data={'price': list(range(1, 11)),\n",
    "                        'qs': list(range(0,10))\n",
    "                       })\n",
    "\n",
    "df_e = pd.DataFrame(data={'price': [5.5, 3, 3],\n",
    "                        'q': [4.5, 2, 7]\n",
    "                       })\n",
    "\n",
    "fig_eq = alt.Chart(df_d).mark_line().encode(\n",
    "    alt.X('qd', title='Quantity', scale=alt.Scale(domain=[0,10])),\n",
    "    alt.Y('price', title='Price', scale=alt.Scale(domain=[0,11])),\n",
    ") + alt.Chart(df_s).mark_line().encode(\n",
    "    alt.X('qs', title='Quantity', scale=alt.Scale(domain=[0,10])),\n",
    "    alt.Y('price', title='Price', scale=alt.Scale(domain=[0,11])),\n",
    ") + alt.Chart(df_e).mark_point(size=90, color='black', fill='black').encode(\n",
    "    x='q',\n",
    "    y='price'\n",
    ")\n",
    "\n",
    "text1 = alt.Chart({'values':[{'x': 9, 'y': 1.5}]}).mark_text(\n",
    "    text='D',\n",
    "    fontSize=15\n",
    ").encode(x='x:Q', y='y:Q')\n",
    "\n",
    "text2 = alt.Chart({'values':[{'x': 9, 'y': 9.5}]}).mark_text(\n",
    "    text='S',\n",
    "    fontSize=15\n",
    ").encode(x='x:Q', y='y:Q')\n",
    "\n",
    "text3 = alt.Chart({'values':[{'x': 5, 'y': 5.5}]}).mark_text(\n",
    "    text='E',\n",
    "    fontSize=15\n",
    ").encode(x='x:Q', y='y:Q')\n",
    "\n",
    "text4 = alt.Chart({'values':[{'x': 2, 'y': 3.5}]}).mark_text(\n",
    "    text='A',\n",
    "    fontSize=15\n",
    ").encode(x='x:Q', y='y:Q')\n",
    "\n",
    "text5 = alt.Chart({'values':[{'x': 7, 'y': 3.5}]}).mark_text(\n",
    "    text='B',\n",
    "    fontSize=15\n",
    ").encode(x='x:Q', y='y:Q')\n",
    "\n",
    "text6 = alt.Chart({'values':[{'x': 8.7, 'y': 3.3}]}).mark_text(\n",
    "    text='Price Ceiling',\n",
    "    fontSize=15\n",
    ").encode(x='x:Q', y='y:Q')\n",
    "\n",
    "df_h2 = pd.DataFrame(data={'price': [3, 3], 'q': [0, 10]})\n",
    "fig_h2 = alt.Chart(df_h2).mark_line(color='black').encode(\n",
    "    alt.X('q'),\n",
    "    alt.Y('price')\n",
    ")\n",
    "\n",
    "df_v2 = pd.DataFrame(data={'price': [0, 3], 'q': [2, 2]})\n",
    "fig_v2 = alt.Chart(df_v2).mark_line(color='black', strokeDash=[4, 2]).encode(\n",
    "    alt.X('q'),\n",
    "    alt.Y('price')\n",
    ")\n",
    "\n",
    "df_v3 = pd.DataFrame(data={'price': [0, 3], 'q': [7, 7]})\n",
    "fig_v3 = alt.Chart(df_v3).mark_line(color='black', strokeDash=[4, 2]).encode(\n",
    "    alt.X('q'),\n",
    "    alt.Y('price')\n",
    ")\n",
    "\n",
    "(fig_eq + text1 + text2 + text3 + text4 + text5 + text6 + fig_h2 + fig_v2 + fig_v3).properties(title='Price Ceiling')"
   ]
  },
  {
   "cell_type": "markdown",
   "id": "733dd4d9-0ebd-4ddd-a5e8-cc6a48e8c382",
   "metadata": {},
   "source": [
    "#### Inefficient Allocation at the Price Ceiling\n",
    "\n",
    "- Shortage\n",
    "- Wasted resources<br>\n",
    "People expend money, effort, and time to cope with the shortages caused by the price ceiling.\n",
    "- Inefficiently low quality\n",
    "- Black markets\n",
    "\n",
    "Black market\n",
    ": A market in which goods or services are bought and sold illegally, either because it is illegal to sell them at all or because the prices charged are legally prohibited by a price ceiling.\n",
    ": Encourage disrespect for the law and illegal activities."
   ]
  },
  {
   "cell_type": "markdown",
   "id": "baa43710-3d26-451e-9e4b-4c1ecd9af60f",
   "metadata": {},
   "source": [
    "### Price Floor\n",
    "\n",
    "Price floor\n",
    ": A type of price control set by governments as shown in the figure below. \n",
    ": It sets the minimum price for a good or service.\n",
    ": Typically imposed on wages and agricultural products, such as wheat and milk."
   ]
  },
  {
   "cell_type": "markdown",
   "id": "13395c37-ceb8-461c-b46d-659d843fd19c",
   "metadata": {},
   "source": [
    "```{Tip}\n",
    "The price floor will always be higher than the original equilibrium price. Otherwise, it will be meaningless as the market will always reach the equilibrium without touching the price floor.\n",
    "```"
   ]
  },
  {
   "cell_type": "code",
   "execution_count": 3,
   "id": "3596256c-4c66-4531-b9b0-274329462935",
   "metadata": {
    "tags": []
   },
   "outputs": [
    {
     "data": {
      "text/html": [
       "\n",
       "<div id=\"altair-viz-4f97420d334f45cf9ce2bb91ec3b2cee\"></div>\n",
       "<script type=\"text/javascript\">\n",
       "  (function(spec, embedOpt){\n",
       "    let outputDiv = document.currentScript.previousElementSibling;\n",
       "    if (outputDiv.id !== \"altair-viz-4f97420d334f45cf9ce2bb91ec3b2cee\") {\n",
       "      outputDiv = document.getElementById(\"altair-viz-4f97420d334f45cf9ce2bb91ec3b2cee\");\n",
       "    }\n",
       "    const paths = {\n",
       "      \"vega\": \"https://cdn.jsdelivr.net/npm//vega@5?noext\",\n",
       "      \"vega-lib\": \"https://cdn.jsdelivr.net/npm//vega-lib?noext\",\n",
       "      \"vega-lite\": \"https://cdn.jsdelivr.net/npm//vega-lite@4.8.1?noext\",\n",
       "      \"vega-embed\": \"https://cdn.jsdelivr.net/npm//vega-embed@6?noext\",\n",
       "    };\n",
       "\n",
       "    function loadScript(lib) {\n",
       "      return new Promise(function(resolve, reject) {\n",
       "        var s = document.createElement('script');\n",
       "        s.src = paths[lib];\n",
       "        s.async = true;\n",
       "        s.onload = () => resolve(paths[lib]);\n",
       "        s.onerror = () => reject(`Error loading script: ${paths[lib]}`);\n",
       "        document.getElementsByTagName(\"head\")[0].appendChild(s);\n",
       "      });\n",
       "    }\n",
       "\n",
       "    function showError(err) {\n",
       "      outputDiv.innerHTML = `<div class=\"error\" style=\"color:red;\">${err}</div>`;\n",
       "      throw err;\n",
       "    }\n",
       "\n",
       "    function displayChart(vegaEmbed) {\n",
       "      vegaEmbed(outputDiv, spec, embedOpt)\n",
       "        .catch(err => showError(`Javascript Error: ${err.message}<br>This usually means there's a typo in your chart specification. See the javascript console for the full traceback.`));\n",
       "    }\n",
       "\n",
       "    if(typeof define === \"function\" && define.amd) {\n",
       "      requirejs.config({paths});\n",
       "      require([\"vega-embed\"], displayChart, err => showError(`Error loading script: ${err.message}`));\n",
       "    } else if (typeof vegaEmbed === \"function\") {\n",
       "      displayChart(vegaEmbed);\n",
       "    } else {\n",
       "      loadScript(\"vega\")\n",
       "        .then(() => loadScript(\"vega-lite\"))\n",
       "        .then(() => loadScript(\"vega-embed\"))\n",
       "        .catch(showError)\n",
       "        .then(() => displayChart(vegaEmbed));\n",
       "    }\n",
       "  })({\"config\": {\"view\": {\"continuousWidth\": 400, \"continuousHeight\": 300}}, \"layer\": [{\"data\": {\"name\": \"data-b52e021a0734944d4e2e38e1163d0639\"}, \"mark\": \"line\", \"encoding\": {\"x\": {\"type\": \"quantitative\", \"field\": \"qd\", \"scale\": {\"domain\": [0, 10]}, \"title\": \"Quantity\"}, \"y\": {\"type\": \"quantitative\", \"field\": \"price\", \"scale\": {\"domain\": [0, 11]}, \"title\": \"Price\"}}}, {\"data\": {\"name\": \"data-f4791e6d2c5433b743c328a8f6f72260\"}, \"mark\": \"line\", \"encoding\": {\"x\": {\"type\": \"quantitative\", \"field\": \"qs\", \"scale\": {\"domain\": [0, 10]}, \"title\": \"Quantity\"}, \"y\": {\"type\": \"quantitative\", \"field\": \"price\", \"scale\": {\"domain\": [0, 11]}, \"title\": \"Price\"}}}, {\"data\": {\"name\": \"data-096857a40a56f4a60e96ff78b33d4ffa\"}, \"mark\": {\"type\": \"point\", \"color\": \"black\", \"fill\": \"black\", \"size\": 90}, \"encoding\": {\"x\": {\"type\": \"quantitative\", \"field\": \"q\"}, \"y\": {\"type\": \"quantitative\", \"field\": \"price\"}}}, {\"data\": {\"name\": \"data-411b058143eb0c76546a59e0f2efbb64\"}, \"mark\": {\"type\": \"text\", \"fontSize\": 15, \"text\": \"D\"}, \"encoding\": {\"x\": {\"type\": \"quantitative\", \"field\": \"x\"}, \"y\": {\"type\": \"quantitative\", \"field\": \"y\"}}}, {\"data\": {\"name\": \"data-78eb422e47dc010e08ec7870329a9a72\"}, \"mark\": {\"type\": \"text\", \"fontSize\": 15, \"text\": \"S\"}, \"encoding\": {\"x\": {\"type\": \"quantitative\", \"field\": \"x\"}, \"y\": {\"type\": \"quantitative\", \"field\": \"y\"}}}, {\"data\": {\"name\": \"data-7e100178d0b30ff53f5f746e95732883\"}, \"mark\": {\"type\": \"text\", \"fontSize\": 15, \"text\": \"E\"}, \"encoding\": {\"x\": {\"type\": \"quantitative\", \"field\": \"x\"}, \"y\": {\"type\": \"quantitative\", \"field\": \"y\"}}}, {\"data\": {\"name\": \"data-365a1d00aaeb4d9d1cba9d0db391e90e\"}, \"mark\": {\"type\": \"text\", \"fontSize\": 15, \"text\": \"A\"}, \"encoding\": {\"x\": {\"type\": \"quantitative\", \"field\": \"x\"}, \"y\": {\"type\": \"quantitative\", \"field\": \"y\"}}}, {\"data\": {\"name\": \"data-285ec4835d2b93338cf0b765e2371020\"}, \"mark\": {\"type\": \"text\", \"fontSize\": 15, \"text\": \"B\"}, \"encoding\": {\"x\": {\"type\": \"quantitative\", \"field\": \"x\"}, \"y\": {\"type\": \"quantitative\", \"field\": \"y\"}}}, {\"data\": {\"name\": \"data-5faefd5206dc470834c4d38866230b54\"}, \"mark\": {\"type\": \"text\", \"fontSize\": 15, \"text\": \"Price Floor\"}, \"encoding\": {\"x\": {\"type\": \"quantitative\", \"field\": \"x\"}, \"y\": {\"type\": \"quantitative\", \"field\": \"y\"}}}, {\"data\": {\"name\": \"data-9e19aa7861238189ff0b67a5efc7f97b\"}, \"mark\": {\"type\": \"line\", \"color\": \"black\"}, \"encoding\": {\"x\": {\"type\": \"quantitative\", \"field\": \"q\"}, \"y\": {\"type\": \"quantitative\", \"field\": \"price\"}}}, {\"data\": {\"name\": \"data-ba2252c31c2ecc2547edfdf7870a3249\"}, \"mark\": {\"type\": \"line\", \"color\": \"black\", \"strokeDash\": [4, 2]}, \"encoding\": {\"x\": {\"type\": \"quantitative\", \"field\": \"q\"}, \"y\": {\"type\": \"quantitative\", \"field\": \"price\"}}}, {\"data\": {\"name\": \"data-319a26ba2a5b1374a4c0097735e765a7\"}, \"mark\": {\"type\": \"line\", \"color\": \"black\", \"strokeDash\": [4, 2]}, \"encoding\": {\"x\": {\"type\": \"quantitative\", \"field\": \"q\"}, \"y\": {\"type\": \"quantitative\", \"field\": \"price\"}}}], \"title\": \"Price Floor\", \"$schema\": \"https://vega.github.io/schema/vega-lite/v4.8.1.json\", \"datasets\": {\"data-b52e021a0734944d4e2e38e1163d0639\": [{\"price\": 1, \"qd\": 9}, {\"price\": 2, \"qd\": 8}, {\"price\": 3, \"qd\": 7}, {\"price\": 4, \"qd\": 6}, {\"price\": 5, \"qd\": 5}, {\"price\": 6, \"qd\": 4}, {\"price\": 7, \"qd\": 3}, {\"price\": 8, \"qd\": 2}, {\"price\": 9, \"qd\": 1}, {\"price\": 10, \"qd\": 0}], \"data-f4791e6d2c5433b743c328a8f6f72260\": [{\"price\": 1, \"qs\": 0}, {\"price\": 2, \"qs\": 1}, {\"price\": 3, \"qs\": 2}, {\"price\": 4, \"qs\": 3}, {\"price\": 5, \"qs\": 4}, {\"price\": 6, \"qs\": 5}, {\"price\": 7, \"qs\": 6}, {\"price\": 8, \"qs\": 7}, {\"price\": 9, \"qs\": 8}, {\"price\": 10, \"qs\": 9}], \"data-096857a40a56f4a60e96ff78b33d4ffa\": [{\"price\": 5.5, \"q\": 4.5}, {\"price\": 8.0, \"q\": 2.0}, {\"price\": 8.0, \"q\": 7.0}], \"data-411b058143eb0c76546a59e0f2efbb64\": [{\"x\": 9, \"y\": 1.5}], \"data-78eb422e47dc010e08ec7870329a9a72\": [{\"x\": 9, \"y\": 9.5}], \"data-7e100178d0b30ff53f5f746e95732883\": [{\"x\": 5, \"y\": 5.5}], \"data-365a1d00aaeb4d9d1cba9d0db391e90e\": [{\"x\": 2, \"y\": 8.5}], \"data-285ec4835d2b93338cf0b765e2371020\": [{\"x\": 7, \"y\": 8.5}], \"data-5faefd5206dc470834c4d38866230b54\": [{\"x\": 8.7, \"y\": 8.3}], \"data-9e19aa7861238189ff0b67a5efc7f97b\": [{\"price\": 8, \"q\": 0}, {\"price\": 8, \"q\": 10}], \"data-ba2252c31c2ecc2547edfdf7870a3249\": [{\"price\": 0, \"q\": 2}, {\"price\": 8, \"q\": 2}], \"data-319a26ba2a5b1374a4c0097735e765a7\": [{\"price\": 0, \"q\": 7}, {\"price\": 8, \"q\": 7}]}}, {\"mode\": \"vega-lite\"});\n",
       "</script>"
      ],
      "text/plain": [
       "alt.LayerChart(...)"
      ]
     },
     "execution_count": 3,
     "metadata": {},
     "output_type": "execute_result"
    }
   ],
   "source": [
    "df_d = pd.DataFrame(data={'price': list(range(1, 11)),\n",
    "                        'qd': list(range(9,-1,-1))\n",
    "                       })\n",
    "\n",
    "df_s = pd.DataFrame(data={'price': list(range(1, 11)),\n",
    "                        'qs': list(range(0,10))\n",
    "                       })\n",
    "\n",
    "df_e = pd.DataFrame(data={'price': [5.5, 8, 8],\n",
    "                        'q': [4.5, 2, 7]\n",
    "                       })\n",
    "\n",
    "fig_eq = alt.Chart(df_d).mark_line().encode(\n",
    "    alt.X('qd', title='Quantity', scale=alt.Scale(domain=[0,10])),\n",
    "    alt.Y('price', title='Price', scale=alt.Scale(domain=[0,11])),\n",
    ") + alt.Chart(df_s).mark_line().encode(\n",
    "    alt.X('qs', title='Quantity', scale=alt.Scale(domain=[0,10])),\n",
    "    alt.Y('price', title='Price', scale=alt.Scale(domain=[0,11])),\n",
    ") + alt.Chart(df_e).mark_point(size=90, color='black', fill='black').encode(\n",
    "    x='q',\n",
    "    y='price'\n",
    ")\n",
    "\n",
    "text1 = alt.Chart({'values':[{'x': 9, 'y': 1.5}]}).mark_text(\n",
    "    text='D',\n",
    "    fontSize=15\n",
    ").encode(x='x:Q', y='y:Q')\n",
    "\n",
    "text2 = alt.Chart({'values':[{'x': 9, 'y': 9.5}]}).mark_text(\n",
    "    text='S',\n",
    "    fontSize=15\n",
    ").encode(x='x:Q', y='y:Q')\n",
    "\n",
    "text3 = alt.Chart({'values':[{'x': 5, 'y': 5.5}]}).mark_text(\n",
    "    text='E',\n",
    "    fontSize=15\n",
    ").encode(x='x:Q', y='y:Q')\n",
    "\n",
    "text4 = alt.Chart({'values':[{'x': 2, 'y': 8.5}]}).mark_text(\n",
    "    text='A',\n",
    "    fontSize=15\n",
    ").encode(x='x:Q', y='y:Q')\n",
    "\n",
    "text5 = alt.Chart({'values':[{'x': 7, 'y': 8.5}]}).mark_text(\n",
    "    text='B',\n",
    "    fontSize=15\n",
    ").encode(x='x:Q', y='y:Q')\n",
    "\n",
    "text6 = alt.Chart({'values':[{'x': 8.7, 'y': 8.3}]}).mark_text(\n",
    "    text='Price Floor',\n",
    "    fontSize=15\n",
    ").encode(x='x:Q', y='y:Q')\n",
    "\n",
    "df_h2 = pd.DataFrame(data={'price': [8, 8], 'q': [0, 10]})\n",
    "fig_h2 = alt.Chart(df_h2).mark_line(color='black').encode(\n",
    "    alt.X('q'),\n",
    "    alt.Y('price')\n",
    ")\n",
    "\n",
    "df_v2 = pd.DataFrame(data={'price': [0, 8], 'q': [2, 2]})\n",
    "fig_v2 = alt.Chart(df_v2).mark_line(color='black', strokeDash=[4, 2]).encode(\n",
    "    alt.X('q'),\n",
    "    alt.Y('price')\n",
    ")\n",
    "\n",
    "df_v3 = pd.DataFrame(data={'price': [0, 8], 'q': [7, 7]})\n",
    "fig_v3 = alt.Chart(df_v3).mark_line(color='black', strokeDash=[4, 2]).encode(\n",
    "    alt.X('q'),\n",
    "    alt.Y('price')\n",
    ")\n",
    "\n",
    "(fig_eq + text1 + text2 + text3 + text4 + text5 + text6 + fig_h2 + fig_v2 + fig_v3).properties(title='Price Floor')"
   ]
  },
  {
   "cell_type": "markdown",
   "id": "7a1c6d52-7116-4b08-8604-3ac8e237363d",
   "metadata": {},
   "source": [
    "#### Inefficient Allocation at the Price Floor\n",
    "\n",
    "- Surplus/Inefficiently low quantity\n",
    "- Wasted resources<br>\n",
    "Unwanted goods or services.\n",
    "- Inefficiently high quality\n",
    "- Illegal activities"
   ]
  },
  {
   "cell_type": "markdown",
   "id": "8e875679-7c76-4fa0-a3f5-0284221f2b4e",
   "metadata": {},
   "source": [
    "## Quantity Control\n",
    "\n",
    "Quantity control/Quota\n",
    ": Upper limit on the quantity of some goof that can be bought or sold.<br><br>\n",
    "\n",
    "License\n",
    ": Give its owner the right to supply a good or service."
   ]
  },
  {
   "cell_type": "code",
   "execution_count": null,
   "id": "171d5d2b-158b-425a-87ab-414e6380f32f",
   "metadata": {},
   "outputs": [],
   "source": []
  }
 ],
 "metadata": {
  "kernelspec": {
   "display_name": "Python 3 (ipykernel)",
   "language": "python",
   "name": "python3"
  },
  "language_info": {
   "codemirror_mode": {
    "name": "ipython",
    "version": 3
   },
   "file_extension": ".py",
   "mimetype": "text/x-python",
   "name": "python",
   "nbconvert_exporter": "python",
   "pygments_lexer": "ipython3",
   "version": "3.8.13"
  }
 },
 "nbformat": 4,
 "nbformat_minor": 5
}