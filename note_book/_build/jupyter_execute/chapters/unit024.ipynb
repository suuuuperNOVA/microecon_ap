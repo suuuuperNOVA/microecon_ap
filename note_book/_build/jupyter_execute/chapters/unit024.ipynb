{
 "cells": [
  {
   "cell_type": "markdown",
   "id": "d2f392e5-b9b2-420b-b8c8-7437be2e0933",
   "metadata": {},
   "source": [
    "# Price Elasticity of Supply\n",
    "\n",
    "Price elasticity of supply (PES)\n",
    ": Measures how sensitive quantity supplied is to a change in price.\n",
    ": <math xmlns=\"http://www.w3.org/1998/Math/MathML\">\n",
    "  <mi>P</mi>\n",
    "  <mi>E</mi>\n",
    "  <mi>S</mi>\n",
    "  <mo>=</mo>\n",
    "  <mfrac>\n",
    "    <mrow>\n",
    "      <mi mathvariant=\"normal\">&#x0025;<!-- % --></mi>\n",
    "      <mi mathvariant=\"normal\">&#x0394;<!-- Δ --></mi>\n",
    "      <msub>\n",
    "        <mi>Q</mi>\n",
    "        <mi>S</mi>\n",
    "      </msub>\n",
    "    </mrow>\n",
    "    <mrow>\n",
    "      <mi mathvariant=\"normal\">&#x0025;<!-- % --></mi>\n",
    "      <mi mathvariant=\"normal\">&#x0394;<!-- Δ --></mi>\n",
    "      <mi>P</mi>\n",
    "    </mrow>\n",
    "  </mfrac>\n",
    "</math>\n",
    "\n",
    "\n",
    "- Most goods have inelastic supply in the short run.\n",
    "- Most goods have elastic supply in the long run.\n",
    "\n",
    "> The table below shows the characteristics of inelastic and elastic supply.\n",
    "\n",
    "|Inelastic Supply|Elastic Supply|\n",
    "|---|---|\n",
    "|Hard to produce|Easier to produce|\n",
    "|High barriers to entry|Low barriers to entry|\n",
    "|High cost or specialized inputs|Low cost or generic inputs|\n",
    "|Hard to switch from producing alternative goods|Easy to switch from producing alternative goods|"
   ]
  },
  {
   "cell_type": "markdown",
   "id": "bffe8f6a-327f-4b67-8760-6069e52f4c5e",
   "metadata": {},
   "source": [
    "The figure below shows 2 extreme cases:\n",
    "- When the demand is a vertical line, elasticity coefficient is 0, called **Perfectly Inelastic**.\n",
    "- When the demand is a horizontal line, elasticity coefficient is Infinity, called **Perfectly Elastic**."
   ]
  },
  {
   "cell_type": "code",
   "execution_count": 1,
   "id": "c092967b-8f93-420a-adcf-1b6635d31f57",
   "metadata": {
    "jupyter": {
     "source_hidden": true
    },
    "tags": [
     "remove-input"
    ]
   },
   "outputs": [
    {
     "data": {
      "text/html": [
       "\n",
       "<div id=\"altair-viz-c6ed3cc91cae4d05bddb03d8d8b3120e\"></div>\n",
       "<script type=\"text/javascript\">\n",
       "  (function(spec, embedOpt){\n",
       "    let outputDiv = document.currentScript.previousElementSibling;\n",
       "    if (outputDiv.id !== \"altair-viz-c6ed3cc91cae4d05bddb03d8d8b3120e\") {\n",
       "      outputDiv = document.getElementById(\"altair-viz-c6ed3cc91cae4d05bddb03d8d8b3120e\");\n",
       "    }\n",
       "    const paths = {\n",
       "      \"vega\": \"https://cdn.jsdelivr.net/npm//vega@5?noext\",\n",
       "      \"vega-lib\": \"https://cdn.jsdelivr.net/npm//vega-lib?noext\",\n",
       "      \"vega-lite\": \"https://cdn.jsdelivr.net/npm//vega-lite@4.8.1?noext\",\n",
       "      \"vega-embed\": \"https://cdn.jsdelivr.net/npm//vega-embed@6?noext\",\n",
       "    };\n",
       "\n",
       "    function loadScript(lib) {\n",
       "      return new Promise(function(resolve, reject) {\n",
       "        var s = document.createElement('script');\n",
       "        s.src = paths[lib];\n",
       "        s.async = true;\n",
       "        s.onload = () => resolve(paths[lib]);\n",
       "        s.onerror = () => reject(`Error loading script: ${paths[lib]}`);\n",
       "        document.getElementsByTagName(\"head\")[0].appendChild(s);\n",
       "      });\n",
       "    }\n",
       "\n",
       "    function showError(err) {\n",
       "      outputDiv.innerHTML = `<div class=\"error\" style=\"color:red;\">${err}</div>`;\n",
       "      throw err;\n",
       "    }\n",
       "\n",
       "    function displayChart(vegaEmbed) {\n",
       "      vegaEmbed(outputDiv, spec, embedOpt)\n",
       "        .catch(err => showError(`Javascript Error: ${err.message}<br>This usually means there's a typo in your chart specification. See the javascript console for the full traceback.`));\n",
       "    }\n",
       "\n",
       "    if(typeof define === \"function\" && define.amd) {\n",
       "      requirejs.config({paths});\n",
       "      require([\"vega-embed\"], displayChart, err => showError(`Error loading script: ${err.message}`));\n",
       "    } else if (typeof vegaEmbed === \"function\") {\n",
       "      displayChart(vegaEmbed);\n",
       "    } else {\n",
       "      loadScript(\"vega\")\n",
       "        .then(() => loadScript(\"vega-lite\"))\n",
       "        .then(() => loadScript(\"vega-embed\"))\n",
       "        .catch(showError)\n",
       "        .then(() => displayChart(vegaEmbed));\n",
       "    }\n",
       "  })({\"config\": {\"view\": {\"continuousWidth\": 400, \"continuousHeight\": 300}}, \"hconcat\": [{\"layer\": [{\"data\": {\"name\": \"data-1717afeee895b9c8ece0c04c37937994\"}, \"mark\": \"line\", \"encoding\": {\"x\": {\"type\": \"quantitative\", \"axis\": {\"tickCount\": 10}, \"field\": \"q\", \"scale\": {\"domain\": [0, 10]}, \"title\": \"Quantity supplied\"}, \"y\": {\"type\": \"quantitative\", \"axis\": {\"tickCount\": 10}, \"field\": \"price\", \"title\": \"Price\"}}, \"title\": \"Perfectly Inelastic Supply\"}, {\"data\": {\"name\": \"data-13d71636fa2ca5679371f73e40bbe8db\"}, \"mark\": {\"type\": \"text\", \"fontSize\": 15, \"text\": \"S\"}, \"encoding\": {\"x\": {\"type\": \"quantitative\", \"field\": \"x\"}, \"y\": {\"type\": \"quantitative\", \"field\": \"y\"}}}]}, {\"layer\": [{\"data\": {\"name\": \"data-1717afeee895b9c8ece0c04c37937994\"}, \"mark\": \"line\", \"encoding\": {\"x\": {\"type\": \"quantitative\", \"axis\": {\"tickCount\": 10}, \"field\": \"price\", \"scale\": {\"domain\": [0, 10]}, \"title\": \"Quantity supplied\"}, \"y\": {\"type\": \"quantitative\", \"axis\": {\"tickCount\": 10}, \"field\": \"q\", \"scale\": {\"domain\": [0, 10]}, \"title\": \"Price\"}}, \"title\": \"Perfectly Elastic Supply\"}, {\"data\": {\"name\": \"data-ee1049ad6f584a0d11e4f4d110cd5bed\"}, \"mark\": {\"type\": \"text\", \"fontSize\": 15, \"text\": \"S\"}, \"encoding\": {\"x\": {\"type\": \"quantitative\", \"field\": \"x\"}, \"y\": {\"type\": \"quantitative\", \"field\": \"y\"}}}]}], \"$schema\": \"https://vega.github.io/schema/vega-lite/v4.8.1.json\", \"datasets\": {\"data-1717afeee895b9c8ece0c04c37937994\": [{\"price\": 10, \"q\": 5}, {\"price\": 9, \"q\": 5}, {\"price\": 8, \"q\": 5}, {\"price\": 7, \"q\": 5}, {\"price\": 6, \"q\": 5}, {\"price\": 5, \"q\": 5}, {\"price\": 4, \"q\": 5}, {\"price\": 3, \"q\": 5}, {\"price\": 2, \"q\": 5}, {\"price\": 1, \"q\": 5}, {\"price\": 0, \"q\": 5}], \"data-13d71636fa2ca5679371f73e40bbe8db\": [{\"x\": 5.5, \"y\": 1}], \"data-ee1049ad6f584a0d11e4f4d110cd5bed\": [{\"x\": 9.5, \"y\": 5.5}]}}, {\"mode\": \"vega-lite\"});\n",
       "</script>"
      ],
      "text/plain": [
       "alt.HConcatChart(...)"
      ]
     },
     "execution_count": 1,
     "metadata": {},
     "output_type": "execute_result"
    }
   ],
   "source": [
    "import pandas as pd\n",
    "import altair as alt\n",
    "\n",
    "df_ped_0 = pd.DataFrame(data={'price': list(range(10,-1,-1)), 'q': [5]*11})\n",
    "fig1 = alt.Chart(df_ped_0).mark_line().encode(\n",
    "    alt.X('q', title='Quantity supplied', scale=alt.Scale(domain=[0,10]), axis=alt.Axis(tickCount=10)),\n",
    "    alt.Y('price', title='Price',  axis=alt.Axis(tickCount=10))\n",
    ").properties(title='Perfectly Inelastic Supply') \n",
    "\n",
    "text1 = alt.Chart({'values':[{'x': 5.5, 'y': 1}]}).mark_text(\n",
    "    text='S',\n",
    "    fontSize=15\n",
    ").encode(x='x:Q', y='y:Q')\n",
    "\n",
    "fig1 = fig1 + text1\n",
    "\n",
    "fig2 = alt.Chart(df_ped_0).mark_line().encode(\n",
    "    alt.X('price', title='Quantity supplied', scale=alt.Scale(domain=[0,10]), axis=alt.Axis(tickCount=10)),\n",
    "    alt.Y('q', title='Price',  scale=alt.Scale(domain=[0,10]),axis=alt.Axis(tickCount=10))\n",
    ").properties(title='Perfectly Elastic Supply') \n",
    "\n",
    "text2 = alt.Chart({'values':[{'x': 9.5, 'y': 5.5}]}).mark_text(\n",
    "    text='S',\n",
    "    fontSize=15\n",
    ").encode(x='x:Q', y='y:Q')\n",
    "\n",
    "fig2 = fig2 + text2\n",
    "\n",
    "alt.hconcat(fig1, fig2)"
   ]
  },
  {
   "cell_type": "markdown",
   "id": "c3e7c5bf-4736-4815-a254-3627d9c34c42",
   "metadata": {},
   "source": [
    "The figure below compares the supply curves with different PES. S2 is relatively more elastic than S1 since a small change in price results in a greater change in the quantity demanded of S2."
   ]
  },
  {
   "cell_type": "code",
   "execution_count": 2,
   "id": "88a2828a-429d-40d7-9958-c215d464f347",
   "metadata": {
    "tags": [
     "remove-input"
    ]
   },
   "outputs": [
    {
     "data": {
      "text/html": [
       "\n",
       "<div id=\"altair-viz-2cf89c9fc8c04d0f937b4873df85d3fb\"></div>\n",
       "<script type=\"text/javascript\">\n",
       "  (function(spec, embedOpt){\n",
       "    let outputDiv = document.currentScript.previousElementSibling;\n",
       "    if (outputDiv.id !== \"altair-viz-2cf89c9fc8c04d0f937b4873df85d3fb\") {\n",
       "      outputDiv = document.getElementById(\"altair-viz-2cf89c9fc8c04d0f937b4873df85d3fb\");\n",
       "    }\n",
       "    const paths = {\n",
       "      \"vega\": \"https://cdn.jsdelivr.net/npm//vega@5?noext\",\n",
       "      \"vega-lib\": \"https://cdn.jsdelivr.net/npm//vega-lib?noext\",\n",
       "      \"vega-lite\": \"https://cdn.jsdelivr.net/npm//vega-lite@4.8.1?noext\",\n",
       "      \"vega-embed\": \"https://cdn.jsdelivr.net/npm//vega-embed@6?noext\",\n",
       "    };\n",
       "\n",
       "    function loadScript(lib) {\n",
       "      return new Promise(function(resolve, reject) {\n",
       "        var s = document.createElement('script');\n",
       "        s.src = paths[lib];\n",
       "        s.async = true;\n",
       "        s.onload = () => resolve(paths[lib]);\n",
       "        s.onerror = () => reject(`Error loading script: ${paths[lib]}`);\n",
       "        document.getElementsByTagName(\"head\")[0].appendChild(s);\n",
       "      });\n",
       "    }\n",
       "\n",
       "    function showError(err) {\n",
       "      outputDiv.innerHTML = `<div class=\"error\" style=\"color:red;\">${err}</div>`;\n",
       "      throw err;\n",
       "    }\n",
       "\n",
       "    function displayChart(vegaEmbed) {\n",
       "      vegaEmbed(outputDiv, spec, embedOpt)\n",
       "        .catch(err => showError(`Javascript Error: ${err.message}<br>This usually means there's a typo in your chart specification. See the javascript console for the full traceback.`));\n",
       "    }\n",
       "\n",
       "    if(typeof define === \"function\" && define.amd) {\n",
       "      requirejs.config({paths});\n",
       "      require([\"vega-embed\"], displayChart, err => showError(`Error loading script: ${err.message}`));\n",
       "    } else if (typeof vegaEmbed === \"function\") {\n",
       "      displayChart(vegaEmbed);\n",
       "    } else {\n",
       "      loadScript(\"vega\")\n",
       "        .then(() => loadScript(\"vega-lite\"))\n",
       "        .then(() => loadScript(\"vega-embed\"))\n",
       "        .catch(showError)\n",
       "        .then(() => displayChart(vegaEmbed));\n",
       "    }\n",
       "  })({\"config\": {\"view\": {\"continuousWidth\": 400, \"continuousHeight\": 300}}, \"layer\": [{\"data\": {\"name\": \"data-e667c0cb2e82603d43f5e539da567050\"}, \"mark\": \"line\", \"encoding\": {\"x\": {\"type\": \"quantitative\", \"axis\": {\"tickCount\": 10}, \"field\": \"q2\", \"scale\": {\"domain\": [0, 10]}, \"title\": \"Quantity supplied\"}, \"y\": {\"type\": \"quantitative\", \"axis\": {\"tickCount\": 10}, \"field\": \"price\", \"title\": \"Price\"}}}, {\"data\": {\"name\": \"data-30c42349d0f3e394eeaa7c36870273c5\"}, \"mark\": {\"type\": \"text\", \"fontSize\": 15, \"text\": \"S1\"}, \"encoding\": {\"x\": {\"type\": \"quantitative\", \"field\": \"x\"}, \"y\": {\"type\": \"quantitative\", \"field\": \"y\"}}}, {\"layer\": [{\"data\": {\"name\": \"data-7f3938c3b54e9d63fd926ac3057f354c\"}, \"mark\": {\"type\": \"line\", \"color\": \"green\"}, \"encoding\": {\"x\": {\"type\": \"quantitative\", \"axis\": {\"tickCount\": 10}, \"field\": \"q1\", \"scale\": {\"domain\": [0, 10]}, \"title\": \"Quantity supplied\"}, \"y\": {\"type\": \"quantitative\", \"axis\": {\"tickCount\": 10}, \"field\": \"price\", \"title\": \"Price\"}}}, {\"data\": {\"name\": \"data-7aae79afb4a3e807731ae580fa00aafa\"}, \"mark\": {\"type\": \"text\", \"fontSize\": 15, \"text\": \"S2\"}, \"encoding\": {\"x\": {\"type\": \"quantitative\", \"field\": \"x\"}, \"y\": {\"type\": \"quantitative\", \"field\": \"y\"}}}]}], \"title\": \"Supply Curves with Different PES\", \"$schema\": \"https://vega.github.io/schema/vega-lite/v4.8.1.json\", \"datasets\": {\"data-e667c0cb2e82603d43f5e539da567050\": [{\"price\": 1, \"q1\": -4.5, \"q2\": 2.5}, {\"price\": 2, \"q1\": -2.5, \"q2\": 3.0}, {\"price\": 3, \"q1\": -0.5, \"q2\": 3.5}, {\"price\": 4, \"q1\": 1.5, \"q2\": 4.0}, {\"price\": 5, \"q1\": 3.5, \"q2\": 4.5}, {\"price\": 6, \"q1\": 5.5, \"q2\": 5.0}, {\"price\": 7, \"q1\": 7.5, \"q2\": 5.5}, {\"price\": 8, \"q1\": 9.5, \"q2\": 6.0}, {\"price\": 9, \"q1\": 11.5, \"q2\": 6.5}, {\"price\": 10, \"q1\": 13.5, \"q2\": 7.0}], \"data-30c42349d0f3e394eeaa7c36870273c5\": [{\"x\": 8, \"y\": 9.8}], \"data-7f3938c3b54e9d63fd926ac3057f354c\": [{\"price\": 4, \"q1\": 1.5, \"q2\": 4.0}, {\"price\": 5, \"q1\": 3.5, \"q2\": 4.5}, {\"price\": 6, \"q1\": 5.5, \"q2\": 5.0}, {\"price\": 7, \"q1\": 7.5, \"q2\": 5.5}], \"data-7aae79afb4a3e807731ae580fa00aafa\": [{\"x\": 8, \"y\": 7}]}}, {\"mode\": \"vega-lite\"});\n",
       "</script>"
      ],
      "text/plain": [
       "alt.LayerChart(...)"
      ]
     },
     "execution_count": 2,
     "metadata": {},
     "output_type": "execute_result"
    }
   ],
   "source": [
    "import numpy as np\n",
    "\n",
    "ar = np.array(list(range(0,10)))\n",
    "df = pd.DataFrame(data={'price': list(range(1,11)), 'q1': ar*2-4.5, 'q2': (ar+5)*0.5})\n",
    "\n",
    "fig3 = alt.Chart(df).mark_line().encode(\n",
    "    alt.X('q2', title='Quantity supplied', scale=alt.Scale(domain=[0,10]), axis=alt.Axis(tickCount=10)),\n",
    "    alt.Y('price', title='Price',  axis=alt.Axis(tickCount=10)),\n",
    ")\n",
    "\n",
    "text1 = alt.Chart({'values':[{'x': 8, 'y': 9.8}]}).mark_text(\n",
    "    text='S1',\n",
    "    fontSize=15\n",
    ").encode(x='x:Q', y='y:Q')\n",
    "\n",
    "fig3 = fig3 + text1\n",
    "\n",
    "df2 = df[(df.price > 3) & (df.price < 8)]\n",
    "\n",
    "fig4 = alt.Chart(df2).mark_line(color='green').encode(\n",
    "    alt.X('q1', title='Quantity supplied', scale=alt.Scale(domain=[0,10]), axis=alt.Axis(tickCount=10)),\n",
    "    alt.Y('price', title='Price',  axis=alt.Axis(tickCount=10)),\n",
    ")\n",
    "\n",
    "text2 = alt.Chart({'values':[{'x': 8, 'y': 7}]}).mark_text(\n",
    "    text='S2',\n",
    "    fontSize=15\n",
    ").encode(x='x:Q', y='y:Q')\n",
    "\n",
    "fig4 = fig4 + text2\n",
    "\n",
    "(fig3 + fig4).properties(title='Supply Curves with Different PES')"
   ]
  },
  {
   "cell_type": "markdown",
   "id": "1cd64cf6-a6a3-4e07-997f-f9c302a17d9e",
   "metadata": {},
   "source": [
    "```{note}\n",
    "It can be concluded that the flatter the supply curve, the more elastic the supply is.\n",
    "```"
   ]
  }
 ],
 "metadata": {
  "kernelspec": {
   "display_name": "Python 3 (ipykernel)",
   "language": "python",
   "name": "python3"
  },
  "language_info": {
   "codemirror_mode": {
    "name": "ipython",
    "version": 3
   },
   "file_extension": ".py",
   "mimetype": "text/x-python",
   "name": "python",
   "nbconvert_exporter": "python",
   "pygments_lexer": "ipython3",
   "version": "3.8.13"
  }
 },
 "nbformat": 4,
 "nbformat_minor": 5
}