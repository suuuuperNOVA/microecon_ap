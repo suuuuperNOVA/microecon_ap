{
 "cells": [
  {
   "cell_type": "markdown",
   "id": "e08779f3-97e6-4ce5-9d97-52380133c1aa",
   "metadata": {},
   "source": [
    "# Production, Cost, and the Perfect, Competition Model"
   ]
  },
  {
   "cell_type": "markdown",
   "id": "45efc0e2-656f-409d-a323-cc01c8f67ef5",
   "metadata": {},
   "source": [
    "```{admonition} Background\n",
    "In this chapter, the costs involved in production and how firms maximize profit are the key issues addressed. In economics, we assume that firms attempt to maximize profit.\n",
    "\n",
    "<math xmlns=\"http://www.w3.org/1998/Math/MathML\">\n",
    "  <mtext>Profit</mtext>\n",
    "  <mo>=</mo>\n",
    "  <mtext>Total Revenue</mtext>\n",
    "  <mo>&#x2212;<!-- − --></mo>\n",
    "  <mtext>Total Cost</mtext>\n",
    "</math>\n",
    "<br>\n",
    "<math xmlns=\"http://www.w3.org/1998/Math/MathML\">\n",
    "  <mtext>Total Revenue</mtext>\n",
    "  <mo>=</mo>\n",
    "  <mtext>Quantity Sold</mtext>\n",
    "  <mo>&#x00D7;<!-- × --></mo>\n",
    "  <mtext>Price</mtext>\n",
    "</math>\n",
    "```"
   ]
  }
 ],
 "metadata": {
  "kernelspec": {
   "display_name": "Python 3 (ipykernel)",
   "language": "python",
   "name": "python3"
  },
  "language_info": {
   "codemirror_mode": {
    "name": "ipython",
    "version": 3
   },
   "file_extension": ".py",
   "mimetype": "text/x-python",
   "name": "python",
   "nbconvert_exporter": "python",
   "pygments_lexer": "ipython3",
   "version": "3.8.13"
  }
 },
 "nbformat": 4,
 "nbformat_minor": 5
}