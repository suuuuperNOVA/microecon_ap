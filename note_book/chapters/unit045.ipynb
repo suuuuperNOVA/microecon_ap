{
 "cells": [
  {
   "cell_type": "markdown",
   "id": "94a9e8d1-a197-413b-929b-5503530c9211",
   "metadata": {},
   "source": [
    "# Oligopoly and Game Theory"
   ]
  },
  {
   "cell_type": "markdown",
   "id": "2b8be928-1d31-490f-8c7a-f9cf6ff9154d",
   "metadata": {},
   "source": [
    "Oligopoly\n",
    ": A very small number of firms have market dominance (less than 10).\n",
    ": Firms use strategic pricing (**price interdependence**).\n",
    "\n",
    "Features of oligopoly:\n",
    "- A few large producers\n",
    "- Identical or differentiated products\n",
    "- High barriers to entry\n",
    "- Control over price (price maker)\n",
    "- Collusion"
   ]
  },
  {
   "cell_type": "markdown",
   "id": "6f579af9-3781-4dcb-8888-8b1e4903aeef",
   "metadata": {},
   "source": [
    "Collusion\n",
    ": An agreement (usually illegal) is drawn up to agree on what price and quantity will be produced in a market.\n",
    ": e.g. OPEC, also called **cartel** (a groups of firms acting together and not to compete)."
   ]
  }
 ],
 "metadata": {
  "kernelspec": {
   "display_name": "Python 3 (ipykernel)",
   "language": "python",
   "name": "python3"
  },
  "language_info": {
   "codemirror_mode": {
    "name": "ipython",
    "version": 3
   },
   "file_extension": ".py",
   "mimetype": "text/x-python",
   "name": "python",
   "nbconvert_exporter": "python",
   "pygments_lexer": "ipython3",
   "version": "3.8.13"
  }
 },
 "nbformat": 4,
 "nbformat_minor": 5
}
