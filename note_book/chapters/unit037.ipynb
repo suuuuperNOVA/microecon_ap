{
 "cells": [
  {
   "cell_type": "markdown",
   "id": "a60082b5-d12f-47f6-8c30-4c81f8b8c1ea",
   "metadata": {},
   "source": [
    "# Perfect Competition"
   ]
  },
  {
   "cell_type": "markdown",
   "id": "f2479a0e-1003-4f6d-8cab-8ebdb527157a",
   "metadata": {},
   "source": [
    "Perfect competition exists when there are a large number of sellers competing in the market.\n",
    "- Many small firms;\n",
    "- Firms can easily enter and exit;\n",
    "- Firms are price takers, having no influencing on the price of product they produce;\n",
    "- Identical products (perfect substitutes);\n",
    "- Price is determined by the market.\n",
    "\n",
    "That's why it's a horizontal line on the firm graph.<br>\n",
    "In a perfect competition market, a firm has a **perfectly elastic demand curve** (Marginal Revenue = Demand = Average Revenue = Price)."
   ]
  },
  {
   "cell_type": "markdown",
   "id": "805e3fcf-cbd4-4684-b718-d75d227cab20",
   "metadata": {},
   "source": [
    "<img src=\"../pic/unit03_7_perfect.png\" alt=\"tc\" width=\"1000\"/>"
   ]
  },
  {
   "cell_type": "markdown",
   "id": "b2af9376-8ed8-4e11-9646-d6fec1b5a9a8",
   "metadata": {},
   "source": [
    "## Efficiency\n",
    "\n",
    "Efficiency\n",
    ": Optimal use of scarce resources.\n",
    "\n",
    "- Perfect competition forces producers to use limited resources to their fullest.\n",
    "- Inefficient firms have higher costs and are the first to leave the industry.\n",
    "- Perfectly competitive industries are extremely efficient.\n",
    "\n",
    "There are 2 kinds of efficiency.\n",
    "- Productive efficiency\n",
    "    - Producing at the lowest possible cost;\n",
    "    - At the minimum point of ATC;\n",
    "    - At the point where Price Curve intersects MC and touches the minimum point of ATC;\n",
    "    - Attainable in the **long run** (**Long-Run Equilibrium**).\n",
    "- Allocative efficiency\n",
    "    - Producing at the amount most desired by society;\n",
    "    - At the point where MC = MR;\n",
    "    - Attainable in the short run."
   ]
  },
  {
   "cell_type": "markdown",
   "id": "e10a7fdf-df97-407e-87e6-a7b623aba52d",
   "metadata": {},
   "source": [
    "## Long-Run Market Equilibrium\n",
    "\n",
    "Long-Run market equilibrium\n",
    ": A market is in long-run market equilibrium when the quantity supplied equals the quantity demanded, given that sufficient time has elapsed for entry into and exit from the industry to occur.\n",
    "\n",
    "> Here is an example.<br> \n",
    "> Suppose there is an increase in demand.\n",
    "\n",
    "**In the short run**\n",
    "- The price increased from P1 to P2.\n",
    "- The new MR/D/AR/P2 curve intersected MC at a new profit-maximizing point (where the new profit-maximizing quantity = qf2). Also, called **allocative efficiency**.\n",
    "- The new price was above ATC when Q = qf2, creating the economic profit in the short run.\n",
    "\n",
    "<img src=\"../pic/unit03_7_sr.png\" alt=\"sr\" width=\"1000\"/>"
   ]
  },
  {
   "cell_type": "markdown",
   "id": "c36c8ede-b170-4c45-b077-9aca3c20b24b",
   "metadata": {},
   "source": [
    "**In the long run**\n",
    "- When firms found there were positive economic profits, they entered the industry, shifting the market supply curve to the right.\n",
    "- The price dropped and the economic profit became 0 (**normal profit**).\n",
    "- The rest firms produced at **productive efficiency** where **ATC = P3**.\n",
    "- Firms only made accounting profits."
   ]
  },
  {
   "cell_type": "markdown",
   "id": "4ad34355-87d8-42c5-906d-6ab8b08fbbca",
   "metadata": {},
   "source": [
    "<img src=\"../pic/unit03_7_lr.png\" alt=\"lr\" width=\"1000\"/>"
   ]
  },
  {
   "cell_type": "markdown",
   "id": "7d8731fc-35c5-4df2-8d7e-44576d13ade4",
   "metadata": {},
   "source": [
    "Firms may have 3 different long-run industry supply curves.\n",
    "- In an increasing-cost industry, the LR supply curve is upward sloping.\n",
    "- In a constant-cost industry, the LR supply curve is horizontal (perfectly elastic).\n",
    "    - The cost is not effected by changes in the size of industry.\n",
    "- In a decreasing-cost industry, the LR supply curve is downward sloping."
   ]
  }
 ],
 "metadata": {
  "kernelspec": {
   "display_name": "Python 3 (ipykernel)",
   "language": "python",
   "name": "python3"
  },
  "language_info": {
   "codemirror_mode": {
    "name": "ipython",
    "version": 3
   },
   "file_extension": ".py",
   "mimetype": "text/x-python",
   "name": "python",
   "nbconvert_exporter": "python",
   "pygments_lexer": "ipython3",
   "version": "3.8.13"
  }
 },
 "nbformat": 4,
 "nbformat_minor": 5
}
