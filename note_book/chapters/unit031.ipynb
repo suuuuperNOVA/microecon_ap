{
 "cells": [
  {
   "cell_type": "markdown",
   "id": "3f02f35c-8f8e-4ccb-8d02-e005a053e0fc",
   "metadata": {},
   "source": [
    "# The Production Function"
   ]
  },
  {
   "cell_type": "markdown",
   "id": "5f3ecf2c-892f-49cf-8f81-b320cbc4807c",
   "metadata": {},
   "source": [
    "## Production Function\n",
    "\n",
    "To produce goods or services for sale, a firm must transform inputs into output. The quantity of output a firm produces depends on the quantity of inputs. This relationship is known as the firm's **production function**.\n",
    "\n",
    "Production function\n",
    ": Relationship between the quantity of inputs a firms uses and the quantity of output it produces."
   ]
  },
  {
   "cell_type": "code",
   "execution_count": null,
   "id": "372d0985-de75-4d83-82d9-3af963f502e4",
   "metadata": {},
   "outputs": [],
   "source": []
  }
 ],
 "metadata": {
  "kernelspec": {
   "display_name": "Python 3 (ipykernel)",
   "language": "python",
   "name": "python3"
  },
  "language_info": {
   "codemirror_mode": {
    "name": "ipython",
    "version": 3
   },
   "file_extension": ".py",
   "mimetype": "text/x-python",
   "name": "python",
   "nbconvert_exporter": "python",
   "pygments_lexer": "ipython3",
   "version": "3.8.13"
  }
 },
 "nbformat": 4,
 "nbformat_minor": 5
}
